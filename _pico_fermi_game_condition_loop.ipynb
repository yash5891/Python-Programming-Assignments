{
  "nbformat": 4,
  "nbformat_minor": 0,
  "metadata": {
    "colab": {
      "provenance": [],
      "authorship_tag": "ABX9TyNqO21zfv11F34iN7pL2OFA",
      "include_colab_link": true
    },
    "kernelspec": {
      "name": "python3",
      "display_name": "Python 3"
    },
    "language_info": {
      "name": "python"
    }
  },
  "cells": [
    {
      "cell_type": "markdown",
      "metadata": {
        "id": "view-in-github",
        "colab_type": "text"
      },
      "source": [
        "<a href=\"https://colab.research.google.com/github/yash5891/Python-Programming-Assignments/blob/main/_pico_fermi_game_condition_loop.ipynb\" target=\"_parent\"><img src=\"https://colab.research.google.com/assets/colab-badge.svg\" alt=\"Open In Colab\"/></a>"
      ]
    },
    {
      "cell_type": "code",
      "execution_count": null,
      "metadata": {
        "id": "xCe3Khyd-o_r"
      },
      "outputs": [],
      "source": []
    },
    {
      "cell_type": "code",
      "source": [
        "\n",
        "\n",
        "\n",
        "\n",
        "\n",
        "\n",
        "\n",
        "\n",
        "\n",
        "\n",
        "\n"
      ],
      "metadata": {
        "id": "ETwcJL3Pe5ng"
      },
      "execution_count": null,
      "outputs": []
    },
    {
      "cell_type": "code",
      "source": [
        "#pico fermi game condition loop\n",
        "## step 1\n",
        "original_number=str(input(''))\n",
        "\n",
        "## create infinite while loop\n",
        "while True:\n",
        "## step 2 and step 6\n",
        "  guess_number=str(input(''))\n",
        "  if len(original_number)!=len(guess_number):\n",
        "    print('invalid input')\n",
        "  output=[]\n",
        "  ## step 3 and step 4 (use continue statement)\n",
        "  if len(original_number)!=len(guess_number):\n",
        "    print('invalid input')\n",
        "    continue\n",
        "  if len(set(guess_number)) != len(guess_number):\n",
        "    print('duplicate_number')\n",
        "    continue\n",
        "\n",
        "  ## step 5 (use break statement for winning condition)\n",
        "  if guess_number==original_number:\n",
        "    print('fermi'*len(original_number))\n",
        "    break\n",
        "  ## step 7\n",
        "  for i in range(len(guess_number)):\n",
        "    if guess_number[i]==original_number[i]:\n",
        "      output.append('fermi')\n",
        "    elif guess_number[i] in original_number[i]:\n",
        "      output.append('pico')\n",
        "      break\n",
        "  print(output)\n",
        "  ## step 8\n",
        "  output_string=str()\n",
        "  for i in output:\n",
        "\n",
        "    output_string+=i+' '\n",
        "  print(output_string)\n",
        "\n",
        "  ## step 9\n",
        "  if len(output)==0:\n",
        "     print(\"bagel\")"
      ],
      "metadata": {
        "id": "7C9maQalLy9J",
        "colab": {
          "base_uri": "https://localhost:8080/"
        },
        "outputId": "74ec7127-f033-49d6-f116-835644ca7af7"
      },
      "execution_count": null,
      "outputs": [
        {
          "output_type": "stream",
          "name": "stdout",
          "text": [
            "456\n",
            "123\n",
            "[]\n",
            "\n",
            "bagel\n",
            "452\n",
            "['fermi', 'fermi']\n",
            "fermi fermi \n",
            "456\n",
            "fermifermifermi\n"
          ]
        }
      ]
    }
  ]
}