{
 "cells": [
  {
   "cell_type": "markdown",
   "id": "303d18ca",
   "metadata": {},
   "source": [
    "## OOP project"
   ]
  },
  {
   "cell_type": "markdown",
   "id": "5cada111",
   "metadata": {},
   "source": [
    "A Bike Rental System\n",
    "\n",
    "A full fledged bike rental system implemented in Python using object oriented programming.\n",
    "\n",
    "Customers can see available bikes on the shop.\n",
    "Rent bikes on daily basis Rs.100 per day.\n",
    "Rent bikes on weekly basis Rs.500 per week.\n",
    "Family Rental, a promotion that can include from 3 to 5 Rentals (of any type) with a discount of 30% of the total price.\n",
    "\n",
    "The bike rental shop can issue a bill when customer decides to return the bike,\n",
    "display available inventory ,take requests on daily and weekly basis by cross verifying stock.\n",
    "\n",
    "For simplicity we assume that\n",
    "Any customer requests rentals of only one type i.e daily or weekly and is free to choose the number of bikes he/she wants.\n",
    "Requested bikes should be less than available stock."
   ]
  },
  {
   "cell_type": "code",
   "execution_count": null,
   "id": "81b2891a",
   "metadata": {},
   "outputs": [],
   "source": []
  },
  {
   "cell_type": "markdown",
   "id": "abae9162",
   "metadata": {},
   "source": [
    "## Step 1\n",
    "\n",
    "Create a parent class `BikeRental`. Define `stock` as `class attribute` and assign value 100 to it.\n",
    "\n",
    "This class should not take any other attribute and when the object is created, it should display the message \"Welcome to rental bike shop.\"\n",
    "\n",
    "Define a method `displaystock` inside this class and when this method is called, it should display the total number of stock available."
   ]
  },
  {
   "cell_type": "code",
   "execution_count": 26,
   "id": "8816e06c",
   "metadata": {},
   "outputs": [
    {
     "name": "stdout",
     "output_type": "stream",
     "text": [
      "welcome to the bike rental shop\n",
      "100\n"
     ]
    }
   ],
   "source": [
    "## your code goes here ##\n",
    "class bikerental:\n",
    "    stock=100\n",
    "    def __init__(self):\n",
    "        print(\"welcome to the bike rental shop\")\n",
    "    def displaystock(self):\n",
    "        print( bikerental.stock)\n",
    "bikeshop=bikerental()\n",
    "bikeshop.displaystock()\n"
   ]
  },
  {
   "cell_type": "markdown",
   "id": "2ca3fb5c",
   "metadata": {},
   "source": [
    "Create an object `bike_shop` of above class."
   ]
  },
  {
   "cell_type": "code",
   "execution_count": 1,
   "id": "5184fc96",
   "metadata": {},
   "outputs": [],
   "source": [
    "## your code goes here ##\n"
   ]
  },
  {
   "cell_type": "code",
   "execution_count": null,
   "id": "ef59df60",
   "metadata": {},
   "outputs": [],
   "source": []
  },
  {
   "cell_type": "markdown",
   "id": "73d006a8",
   "metadata": {},
   "source": [
    "Check if above created object can access the `class attribute` `stock`."
   ]
  },
  {
   "cell_type": "code",
   "execution_count": 2,
   "id": "a96da206",
   "metadata": {
    "scrolled": true
   },
   "outputs": [],
   "source": [
    "## your code goes here ##"
   ]
  },
  {
   "cell_type": "code",
   "execution_count": null,
   "id": "4460bd03",
   "metadata": {},
   "outputs": [],
   "source": []
  },
  {
   "cell_type": "markdown",
   "id": "a702f97d",
   "metadata": {},
   "source": [
    "Call the method `displaystock` using above created object `bike_shop`."
   ]
  },
  {
   "cell_type": "code",
   "execution_count": 3,
   "id": "c4dc35b0",
   "metadata": {},
   "outputs": [],
   "source": [
    "## your code goes here ##"
   ]
  },
  {
   "cell_type": "code",
   "execution_count": null,
   "id": "6a859671",
   "metadata": {},
   "outputs": [],
   "source": []
  },
  {
   "cell_type": "markdown",
   "id": "d3a33de1",
   "metadata": {},
   "source": [
    "## Step 2\n",
    "\n",
    "Create a derived class `Customer` to inherit the methods from `BikeRental` class.\n",
    "Define `bill` as `class attribute`and set it's initial value as zero.\n",
    "\n",
    "This class has `number_of_bikes`, `rentalBasis` (daily or weekly) and `number_of_days_or_weeks` as attributes."
   ]
  },
  {
   "cell_type": "code",
   "execution_count": 34,
   "id": "50196270",
   "metadata": {},
   "outputs": [],
   "source": [
    "## your code goes here ##\n",
    "class customer():\n",
    "  bill=0\n",
    "  def __init__(self,number_of_bikes,rentalbasis,number_of_days_or_weeks):\n",
    "    self.number_of_bikes=number_of_bikes\n",
    "    self.rentalbasis=rentalbasis\n",
    "    self.number_of_days_or_weeks=number_of_days_or_weeks\n",
    "  def rentbike(self):\n",
    "    if self.number_of_bikes<=0:\n",
    "        print(\"number of bikes should be positive\")\n",
    "    elif self.number_of_bikes>bikerental.stock:\n",
    "        print(\"number of bikres available on rent\",bikerental.stock)\n",
    "    else:\n",
    "        print(\"number of bikes rented\",self.number_of_bikes)\n",
    "        stock_updated=bikerental.stock-self.number_of_bikes\n",
    "        print(stock_updated)\n",
    "    \n",
    "  \n"
   ]
  },
  {
   "cell_type": "code",
   "execution_count": null,
   "id": "363883ea",
   "metadata": {},
   "outputs": [],
   "source": []
  },
  {
   "cell_type": "markdown",
   "id": "98a400fe",
   "metadata": {},
   "source": [
    "Define a function `rentBike`, it should have following conditions:\n",
    "\n",
    "- if `number_of_bikes` is less than or equal to zero, it should display the message \"Number of bikes should be positive!\".\n",
    "\n",
    "- if `number_of_bikes` is greater than the `stock`, it should display the `number_of_bikes` available to rent.\n",
    "\n",
    "- Otherwise display the total `number_of_bikes` rented by the customer. Do not forget to update the value of `stock` i.e. subtract the `number_of_bikes` rented from stock and display the updated `stock`."
   ]
  },
  {
   "cell_type": "code",
   "execution_count": 32,
   "id": "0f15d993",
   "metadata": {},
   "outputs": [],
   "source": [
    "## your code goes here ##\n",
    "def rentbike(self):\n",
    "    if self.number_of_bikes<=0:\n",
    "        print(\"number of bikes should be positive\")\n",
    "    elif self.number_of_bikes>bikerental.stock:\n",
    "        print(\"number of bikres available on rent\",bikerental.stock)\n",
    "    else:\n",
    "        print(\"number of bikes rented\",self.number_of_bikes)\n",
    "    stock_updated=bikerental.stock-self.number_of_bikes\n",
    "    print(stock_updated)\n",
    "        \n"
   ]
  },
  {
   "cell_type": "code",
   "execution_count": null,
   "id": "e66fb261",
   "metadata": {},
   "outputs": [],
   "source": []
  },
  {
   "cell_type": "markdown",
   "id": "cb22ec0f",
   "metadata": {},
   "source": [
    "Define a function `returnBike` to return the total bill of customer.\n",
    "- Check if `rentalBasis` is ' daily ' or ' weekly ' and accordingly calculate the bill. Rent on ' daily ' basis is Rs. 100 per bike and for ' weekly ' basis it is Rs. 500 per bike.\n",
    "\n",
    "- If `number_of_bikes` rented by customer is between 3 to 5 (both values inclusive), 30% discount is offered on total bill. So it should display the message \"You are eligible for Family rental promotion of 30% discount\"."
   ]
  },
  {
   "cell_type": "code",
   "execution_count": 37,
   "id": "48be1e59",
   "metadata": {},
   "outputs": [],
   "source": [
    "## your code goes here ##\n",
    "def returnbike(self):\n",
    "    # self.weeekly=500\n",
    "    # self.familyrental=familyrental\n",
    "    if self.rentalbasis=='day':\n",
    "        totalbill=self.number_of_bikes*100\n",
    "        # print(totalbill)\n",
    "    elif self.rentalbasis=='week':\n",
    "        totalbill=self.number_of_bikes*500\n",
    "        # print(totalbill)\n",
    "    if  3<=self.number_of_bikes<=5:\n",
    "        totalbill=totalbill*0.30\n",
    "        print(\"u got discount\")\n",
    "    print(totalbill)\n",
    "        "
   ]
  },
  {
   "cell_type": "code",
   "execution_count": null,
   "id": "29935c98",
   "metadata": {},
   "outputs": [],
   "source": []
  },
  {
   "cell_type": "markdown",
   "id": "fa66397a",
   "metadata": {},
   "source": [
    "## Step 3\n",
    "\n",
    "Write complete `Customer` class using above defined functions `returnBike` and `rentBike` inside it as methods."
   ]
  },
  {
   "cell_type": "code",
   "execution_count": 49,
   "id": "e1c7c3f5",
   "metadata": {},
   "outputs": [],
   "source": [
    "## your code goes here ##\n",
    "class bikerental:\n",
    "    stock=100\n",
    "    def __init__(self):\n",
    "        print(\"welcome to the bike rental shop\")\n",
    "    def displaystock(self):\n",
    "        print( bikerental.stock)\n",
    "class customer():\n",
    "    bill=0\n",
    "    def __init__(self,number_of_bikes,rentalbasis,number_of_days_or_weeks):\n",
    "     self.number_of_bikes=number_of_bikes\n",
    "     self.rentalbasis=rentalbasis\n",
    "     self.number_of_days_or_weeks=number_of_days_or_weeks\n",
    "    def rentbike(self):\n",
    "     if self.number_of_bikes<=0:\n",
    "        print(\"number of bikes should be positive\")\n",
    "     elif self.number_of_bikes>bikerental.stock:\n",
    "        print(\"number of bikres available on rent\",bikerental.stock)\n",
    "     else:\n",
    "        print(\"number of bikes rented\",self.number_of_bikes)\n",
    "        stock_updated=bikerental.stock-self.number_of_bikes\n",
    "        print(stock_updated)\n",
    "    def returnbike(self):\n",
    "    # self.weeekly=500\n",
    "    # self.familyrental=familyrental\n",
    "     if self.rentalbasis=='day':\n",
    "        totalbill=self.number_of_bikes*100*self.number_of_days_or_weeks\n",
    "        # print(totalbill)\n",
    "     elif self.rentalbasis=='week':\n",
    "        totalbill=self.number_of_bikes*500*self.number_of_days_or_weeks\n",
    "        # print(totalbill)\n",
    "     if  3<=self.number_of_bikes<=5:\n",
    "        totalbill=totalbill*0.30\n",
    "        print(\"u got discount\")\n",
    "     print(totalbill)"
   ]
  },
  {
   "cell_type": "code",
   "execution_count": null,
   "id": "b8753564",
   "metadata": {},
   "outputs": [],
   "source": []
  },
  {
   "cell_type": "markdown",
   "id": "dea7483f",
   "metadata": {},
   "source": [
    "## Step 4\n",
    "\n",
    "Check your `Bike Rental System` for test-case objects given below :\n",
    "\n",
    "For first four customers - check all the three attribute values and call `rentBike` and `returnBike` methods. \n",
    "\n",
    "- customer_1 = Customer(2,'day',5)\n",
    "\n",
    "- customer_2 = Customer(1,'week',3)\n",
    "\n",
    "- customer_3 = Customer(4,'day',3)  - Is family discount applicable here ?\n",
    "\n",
    "- customer_4 = Customer(3,'week',3) - Is family discount applicable here ?\n",
    "\n",
    "Call `rentBike` and `displaystock` methods for test-case objects given below :\n",
    "\n",
    "- customer_5 = Customer(120,'week',3)\n",
    "\n",
    "- customer_6 = Customer(0,'week',3)\n",
    "\n",
    "- customer_7 = Customer(-5,'week',3)\n",
    "\n",
    "- customer_8 = Customer(1,'day',3)"
   ]
  },
  {
   "cell_type": "code",
   "execution_count": 50,
   "id": "40d0a7aa",
   "metadata": {},
   "outputs": [
    {
     "name": "stdout",
     "output_type": "stream",
     "text": [
      "number of bikes rented 2\n",
      "98\n",
      "5000\n"
     ]
    }
   ],
   "source": [
    "## your code goes here ##\n",
    "customer_1=customer(2,\"week\",5)\n",
    "customer_1.rentbike()\n",
    "customer_1.returnbike()"
   ]
  },
  {
   "cell_type": "code",
   "execution_count": null,
   "id": "e12e9095",
   "metadata": {},
   "outputs": [],
   "source": []
  }
 ],
 "metadata": {
  "kernelspec": {
   "display_name": "Python 3",
   "language": "python",
   "name": "python3"
  },
  "language_info": {
   "codemirror_mode": {
    "name": "ipython",
    "version": 3
   },
   "file_extension": ".py",
   "mimetype": "text/x-python",
   "name": "python",
   "nbconvert_exporter": "python",
   "pygments_lexer": "ipython3",
   "version": "3.10.0"
  }
 },
 "nbformat": 4,
 "nbformat_minor": 5
}
