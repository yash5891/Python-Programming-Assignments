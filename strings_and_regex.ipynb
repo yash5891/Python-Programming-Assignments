{
  "nbformat": 4,
  "nbformat_minor": 0,
  "metadata": {
    "colab": {
      "provenance": [],
      "authorship_tag": "ABX9TyOiLzd1gVuWXbEcXHhxJHqy",
      "include_colab_link": true
    },
    "kernelspec": {
      "name": "python3",
      "display_name": "Python 3"
    },
    "language_info": {
      "name": "python"
    }
  },
  "cells": [
    {
      "cell_type": "markdown",
      "metadata": {
        "id": "view-in-github",
        "colab_type": "text"
      },
      "source": [
        "<a href=\"https://colab.research.google.com/github/yash5891/Python-Programming-Assignments/blob/main/strings_and_regex.ipynb\" target=\"_parent\"><img src=\"https://colab.research.google.com/assets/colab-badge.svg\" alt=\"Open In Colab\"/></a>"
      ]
    },
    {
      "cell_type": "code",
      "execution_count": 33,
      "metadata": {
        "colab": {
          "base_uri": "https://localhost:8080/"
        },
        "id": "lPln-AcrDng1",
        "outputId": "c2c06750-6d3a-454f-b11b-55470ca57105"
      },
      "outputs": [
        {
          "output_type": "execute_result",
          "data": {
            "text/plain": [
              "('', '4', '4hfdyjwfdwjfq')"
            ]
          },
          "metadata": {},
          "execution_count": 33
        }
      ],
      "source": [
        "a=\"44hfdyjwfdwjfq\"\n",
        "a.upper()\n",
        "a.lower()\n",
        "a.lstrip()\n",
        "a.center(20)\n",
        "a.ljust(30,\"0\")\n",
        "a.partition(\"4\")\n",
        "\n"
      ]
    },
    {
      "cell_type": "code",
      "source": [
        "motivation = \"\"\"Fear of failure is higher ,when you're not working on the problem\n",
        "If you are taking action, you are less worried about failure, \"\"\"\n",
        "motivation.splitlines()"
      ],
      "metadata": {
        "colab": {
          "base_uri": "https://localhost:8080/"
        },
        "id": "hfAu4x0_DxQi",
        "outputId": "75ce36ba-936a-41d0-8f0f-a923866169a3"
      },
      "execution_count": 37,
      "outputs": [
        {
          "output_type": "execute_result",
          "data": {
            "text/plain": [
              "[\"Fear of failure is higher ,when you're not working on the problem \",\n",
              " 'If you are taking action, you are less worried about failure, ']"
            ]
          },
          "metadata": {},
          "execution_count": 37
        }
      ]
    },
    {
      "cell_type": "code",
      "source": [
        "b=\"y_a_s_h\"\n",
        "b.join(b)"
      ],
      "metadata": {
        "colab": {
          "base_uri": "https://localhost:8080/",
          "height": 36
        },
        "id": "JslQKbNkIU80",
        "outputId": "d6028d0d-1145-47d4-dd35-224d0b9f0533"
      },
      "execution_count": 42,
      "outputs": [
        {
          "output_type": "execute_result",
          "data": {
            "text/plain": [
              "'yy_a_s_h_y_a_s_hay_a_s_h_y_a_s_hsy_a_s_h_y_a_s_hh'"
            ],
            "application/vnd.google.colaboratory.intrinsic+json": {
              "type": "string"
            }
          },
          "metadata": {},
          "execution_count": 42
        }
      ]
    },
    {
      "cell_type": "code",
      "source": [
        "\"the string of b is \" + str(b) + 'and' + 'prasad'"
      ],
      "metadata": {
        "colab": {
          "base_uri": "https://localhost:8080/",
          "height": 36
        },
        "id": "44GrDbvdIoY2",
        "outputId": "1c39b866-e83a-4d55-aa9e-265b199355ec"
      },
      "execution_count": 45,
      "outputs": [
        {
          "output_type": "execute_result",
          "data": {
            "text/plain": [
              "'the string of b isy_a_s_h'"
            ],
            "application/vnd.google.colaboratory.intrinsic+json": {
              "type": "string"
            }
          },
          "metadata": {},
          "execution_count": 45
        }
      ]
    },
    {
      "cell_type": "code",
      "source": [
        "\"the string of b is {}\".format(b)"
      ],
      "metadata": {
        "colab": {
          "base_uri": "https://localhost:8080/",
          "height": 36
        },
        "id": "RIY-JClXJz5A",
        "outputId": "13c4c2bd-e1d2-4baa-ff09-3f63640ea61a"
      },
      "execution_count": 48,
      "outputs": [
        {
          "output_type": "execute_result",
          "data": {
            "text/plain": [
              "'the string of b is y_a_s_h'"
            ],
            "application/vnd.google.colaboratory.intrinsic+json": {
              "type": "string"
            }
          },
          "metadata": {},
          "execution_count": 48
        }
      ]
    },
    {
      "cell_type": "code",
      "source": [
        "\"the string of b is {a} and {b} {a} {a}\".format(a = 'Yash', b = 'Prasad')"
      ],
      "metadata": {
        "colab": {
          "base_uri": "https://localhost:8080/",
          "height": 36
        },
        "id": "pA58oAabKIR4",
        "outputId": "632c4dec-6fd3-4b23-a4b0-09de98fe0239"
      },
      "execution_count": 54,
      "outputs": [
        {
          "output_type": "execute_result",
          "data": {
            "text/plain": [
              "'the string of b is Yash and Prasad Yash Yash'"
            ],
            "application/vnd.google.colaboratory.intrinsic+json": {
              "type": "string"
            }
          },
          "metadata": {},
          "execution_count": 54
        }
      ]
    },
    {
      "cell_type": "code",
      "source": [],
      "metadata": {
        "id": "6h71X2E8Kf4j"
      },
      "execution_count": 251,
      "outputs": []
    },
    {
      "cell_type": "code",
      "source": [],
      "metadata": {
        "id": "99TzwPGpT1Yz"
      },
      "execution_count": null,
      "outputs": []
    },
    {
      "cell_type": "code",
      "source": [
        "def palindrome(n):\n",
        "\n",
        "    if n[0::]==n[::-1]:\n",
        "\n",
        "     print(\"palindrome\")\n",
        "    else:\n",
        "      print(\"not a palindrome\")"
      ],
      "metadata": {
        "id": "z4bSju04P8yW"
      },
      "execution_count": 105,
      "outputs": []
    },
    {
      "cell_type": "code",
      "source": [
        "m=\"ada\"\n",
        "palindrome(m)"
      ],
      "metadata": {
        "colab": {
          "base_uri": "https://localhost:8080/"
        },
        "id": "YZEtTYx2TOhl",
        "outputId": "a55dbc1b-56b5-47e4-b6f9-cccaf66d2b6f"
      },
      "execution_count": 108,
      "outputs": [
        {
          "output_type": "stream",
          "name": "stdout",
          "text": [
            "palindrome\n"
          ]
        }
      ]
    },
    {
      "cell_type": "code",
      "source": [
        "m=\"madam\"\n",
        "m[::-1]==m[0::]"
      ],
      "metadata": {
        "colab": {
          "base_uri": "https://localhost:8080/"
        },
        "id": "i1rEFSOnTSlp",
        "outputId": "d60236c3-2b6e-4253-eb41-df923837e3de"
      },
      "execution_count": 94,
      "outputs": [
        {
          "output_type": "execute_result",
          "data": {
            "text/plain": [
              "True"
            ]
          },
          "metadata": {},
          "execution_count": 94
        }
      ]
    },
    {
      "cell_type": "code",
      "source": [
        "string1 = \"Practice Problems to Drill List Comprehension in Your Head.\"\n",
        "string1=string1.split()\n",
        "string1\n",
        "i=string1\n",
        "\n",
        "d={ i: len(i) for i in string1}\n",
        "\n"
      ],
      "metadata": {
        "id": "JcHjUeCEUNj1"
      },
      "execution_count": 165,
      "outputs": []
    },
    {
      "cell_type": "code",
      "source": [
        "dict[string1]\n"
      ],
      "metadata": {
        "colab": {
          "base_uri": "https://localhost:8080/"
        },
        "id": "EgqksCIGVwjz",
        "outputId": "008253eb-3f35-4d06-cc15-06ea937b4149"
      },
      "execution_count": 166,
      "outputs": [
        {
          "output_type": "execute_result",
          "data": {
            "text/plain": [
              "dict[['Practice', 'Problems', 'to', 'Drill', 'List', 'Comprehension', 'in', 'Your', 'Head.']]"
            ]
          },
          "metadata": {},
          "execution_count": 166
        }
      ]
    },
    {
      "cell_type": "code",
      "source": [
        "d"
      ],
      "metadata": {
        "colab": {
          "base_uri": "https://localhost:8080/"
        },
        "id": "BvjZxqETW7Y3",
        "outputId": "4be3452a-3977-45a2-a5ba-f0d47678b3d1"
      },
      "execution_count": 167,
      "outputs": [
        {
          "output_type": "execute_result",
          "data": {
            "text/plain": [
              "{'Practice': 8,\n",
              " 'Problems': 8,\n",
              " 'to': 2,\n",
              " 'Drill': 5,\n",
              " 'List': 4,\n",
              " 'Comprehension': 13,\n",
              " 'in': 2,\n",
              " 'Your': 4,\n",
              " 'Head.': 5}"
            ]
          },
          "metadata": {},
          "execution_count": 167
        }
      ]
    },
    {
      "cell_type": "code",
      "source": [
        "n = \"Students put efforts in learning Python for a successful future in emerging technologies!\"\n",
        "def swapcase(string, sep):\n",
        "  # split the string into two parts based on the separator\n",
        "  part1, part2,part3 = string.partition(sep)\n",
        "  # swap the case of each character in the first part\n",
        "  part1 = part1.swapcase()\n",
        "  # capitalize the words in the second part\n",
        "  part3 = part3.title()\n",
        "  # return the transformed string\n",
        "  return part1 + sep + part3\n",
        "\n"
      ],
      "metadata": {
        "id": "SLZkZ3BaZ11s"
      },
      "execution_count": 248,
      "outputs": []
    },
    {
      "cell_type": "markdown",
      "source": [],
      "metadata": {
        "id": "Wok_7w-Ad2jb"
      }
    },
    {
      "cell_type": "code",
      "source": [
        "n = \"Students put efforts in learning Python for a successful future in emerging technologies!\""
      ],
      "metadata": {
        "id": "jHQWSUafbWNn"
      },
      "execution_count": 249,
      "outputs": []
    },
    {
      "cell_type": "code",
      "source": [
        "swapcase(n,'Python ')"
      ],
      "metadata": {
        "colab": {
          "base_uri": "https://localhost:8080/",
          "height": 53
        },
        "id": "ehn-aTUycQdS",
        "outputId": "76d9ce21-7d0e-4913-ea0f-b4ae7b4b1b76"
      },
      "execution_count": 251,
      "outputs": [
        {
          "output_type": "execute_result",
          "data": {
            "text/plain": [
              "'sTUDENTS PUT EFFORTS IN LEARNING Python For A Successful Future In Emerging Technologies!'"
            ],
            "application/vnd.google.colaboratory.intrinsic+json": {
              "type": "string"
            }
          },
          "metadata": {},
          "execution_count": 251
        }
      ]
    },
    {
      "cell_type": "code",
      "source": [],
      "metadata": {
        "id": "dISNJwfZcTMJ"
      },
      "execution_count": 215,
      "outputs": []
    }
  ]
}