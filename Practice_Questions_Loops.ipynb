{
  "nbformat": 4,
  "nbformat_minor": 0,
  "metadata": {
    "colab": {
      "provenance": [],
      "include_colab_link": true
    },
    "kernelspec": {
      "name": "python3",
      "display_name": "Python 3"
    },
    "language_info": {
      "name": "python"
    }
  },
  "cells": [
    {
      "cell_type": "markdown",
      "metadata": {
        "id": "view-in-github",
        "colab_type": "text"
      },
      "source": [
        "<a href=\"https://colab.research.google.com/github/yash5891/Python-Programming-Assignments/blob/main/Practice_Questions_Loops.ipynb\" target=\"_parent\"><img src=\"https://colab.research.google.com/assets/colab-badge.svg\" alt=\"Open In Colab\"/></a>"
      ]
    },
    {
      "cell_type": "markdown",
      "source": [
        "**Question 1: Sum of Natural Numbers Write a Python program that calculates the sum of natural numbers from 1 to N, where N is taken as input from the user.**\n",
        "\n",
        "#Hints:\n",
        "\n",
        "1)Take input for the value of N.\n",
        "\n",
        "2)Initialize a variable \"sum\" to 0.\n",
        "\n",
        "3)Use a loop to iterate from 1 to N.\n",
        "\n",
        "4)In each iteration, add the current number to the \"sum\" variable.\n",
        "\n",
        "5)After the loop ends, print the value of \"sum\"."
      ],
      "metadata": {
        "id": "S11OC9ga2caL"
      }
    },
    {
      "cell_type": "code",
      "execution_count": null,
      "metadata": {
        "id": "eYaqjrUt0C6Q"
      },
      "outputs": [],
      "source": [
        "\n",
        "def naturalnumsum(n):\n",
        "  sum=0\n",
        "\n",
        "  for i in range(1,n+1):\n",
        "     sum=sum+i\n",
        "\n",
        "  return sum\n",
        "\n",
        "\n",
        "\n",
        "\n",
        "\n",
        "\n",
        "\n",
        "\n",
        "\n"
      ]
    },
    {
      "cell_type": "code",
      "source": [
        "naturalnumsum(5)"
      ],
      "metadata": {
        "colab": {
          "base_uri": "https://localhost:8080/"
        },
        "id": "rZtCzhe4ft4D",
        "outputId": "168a4be0-54a2-4fa8-df6b-7d51313310c5"
      },
      "execution_count": null,
      "outputs": [
        {
          "output_type": "execute_result",
          "data": {
            "text/plain": [
              "15"
            ]
          },
          "metadata": {},
          "execution_count": 14
        }
      ]
    },
    {
      "cell_type": "markdown",
      "source": [
        "\n",
        "**Question 2: Factorial Calculator Create a Python program that calculates the factorial of a given number using a loop.**\n",
        "#Hints:\n",
        "1)Take input for the number whose\n",
        "factorial needs to be calculated.\n",
        "\n",
        "2)Initialize a variable \"factorial\" to 1.\n",
        "Use a loop to iterate from 1 to the given number.\n",
        "\n",
        "3)In each iteration, multiply the current number with the \"factorial\" variable.\n",
        "\n",
        "4)After the loop ends, print the value of \"factorial\"."
      ],
      "metadata": {
        "id": "TjEzc9t74l6T"
      }
    },
    {
      "cell_type": "code",
      "source": [
        "4.## your code ##\n",
        "\n",
        "\n",
        "\n",
        "def fact(n):\n",
        "  factorial=1\n",
        "\n",
        "  for i in range(1,n+1):\n",
        "    factorial=factorial*i\n",
        "\n",
        "  return (factorial)\n",
        "\n",
        "\n"
      ],
      "metadata": {
        "id": "MR6mdgE-45NC"
      },
      "execution_count": null,
      "outputs": []
    },
    {
      "cell_type": "code",
      "source": [
        "fact(5)"
      ],
      "metadata": {
        "colab": {
          "base_uri": "https://localhost:8080/"
        },
        "id": "LsBm1P85g63e",
        "outputId": "5e5659d1-34b5-4dcc-acd9-c25b7207b584"
      },
      "execution_count": null,
      "outputs": [
        {
          "output_type": "execute_result",
          "data": {
            "text/plain": [
              "120"
            ]
          },
          "metadata": {},
          "execution_count": 61
        }
      ]
    },
    {
      "cell_type": "code",
      "source": [],
      "metadata": {
        "colab": {
          "base_uri": "https://localhost:8080/"
        },
        "id": "d-VDGURhm7UN",
        "outputId": "06f55830-d9a0-490c-f633-96e1a8b10dce"
      },
      "execution_count": null,
      "outputs": [
        {
          "output_type": "stream",
          "name": "stdout",
          "text": [
            "Enter a positive integer: 5\n",
            "The factorial of 5 is 120\n"
          ]
        }
      ]
    },
    {
      "cell_type": "markdown",
      "source": [
        "**Question 3: Multiplication Table Implement a Python program that prints the multiplication table of a given number.**\n",
        "#Hints:\n",
        "\n",
        "1)Take input for the number for which the multiplication table needs to be printed.\n",
        "\n",
        "2)Use a loop to iterate from 1 to 10.\n",
        "In each iteration, multiply the given number with the current iteration value and print the result."
      ],
      "metadata": {
        "id": "UJPv-GZw4-KA"
      }
    },
    {
      "cell_type": "code",
      "source": [
        "## your code ##\n",
        "def table(n):\n",
        " for i in range(1,11):\n",
        "   table=n*i\n",
        "   print (table)"
      ],
      "metadata": {
        "id": "6_ISc_D45Idy"
      },
      "execution_count": null,
      "outputs": []
    },
    {
      "cell_type": "code",
      "source": [
        "table(5)"
      ],
      "metadata": {
        "colab": {
          "base_uri": "https://localhost:8080/"
        },
        "id": "FTJTs2iVkWHY",
        "outputId": "f715fe9e-11e7-4b63-86b3-3ff509f394fb"
      },
      "execution_count": null,
      "outputs": [
        {
          "output_type": "stream",
          "name": "stdout",
          "text": [
            "5\n",
            "10\n",
            "15\n",
            "20\n",
            "25\n",
            "30\n",
            "35\n",
            "40\n",
            "45\n",
            "50\n"
          ]
        }
      ]
    },
    {
      "cell_type": "markdown",
      "source": [
        "**Question 4: Fibonacci Sequence Write a Python program that generates the Fibonacci sequence up to a given limit using a loop.**\n",
        "#Hints:\n",
        "1)Take input for the limit of the Fibonacci sequence.\n",
        "\n",
        "2)Initialize variables \"first\" and \"second\" to 0 and 1, respectively.\n",
        "\n",
        "3)Print the values of \"first\" and \"second\".\n",
        "\n",
        "4)Use a loop to iterate from 2 to the limit.\n",
        "\n",
        "5)In each iteration, calculate the next Fibonacci number by adding the previous two numbers (first and second).\n",
        "\n",
        "6)Print the calculated Fibonacci number and update the values of \"first\" and \"second\"."
      ],
      "metadata": {
        "id": "ZkzwiJyq5OEH"
      }
    },
    {
      "cell_type": "code",
      "source": [
        "## your code ##\n",
        "5//5"
      ],
      "metadata": {
        "id": "dQ7ZtnCu5m0a",
        "colab": {
          "base_uri": "https://localhost:8080/"
        },
        "outputId": "53446bef-8d50-4684-bc1f-67c8da904d24"
      },
      "execution_count": null,
      "outputs": [
        {
          "output_type": "execute_result",
          "data": {
            "text/plain": [
              "1"
            ]
          },
          "metadata": {},
          "execution_count": 20
        }
      ]
    },
    {
      "cell_type": "markdown",
      "source": [
        "**Question 5: Prime Number Checker Create a Python program that checks whether a given number is prime or not using a loop.**\n",
        "#Hints:\n",
        "1)Take input for the number to be checked.\n",
        "\n",
        "2)Use a loop to iterate from 2 to the square root of the given number (inclusive).\n",
        "\n",
        "3)In each iteration, check if the current number divides the given number evenly (without a remainder).\n",
        "\n",
        "4)If any number divides the given number evenly, it is not prime. Print a suitable message and exit the loop.\n",
        "\n",
        "5)If the loop completes without finding any divisor, the given number is prime. Print a suitable message."
      ],
      "metadata": {
        "id": "DctjGdGL6AGt"
      }
    },
    {
      "cell_type": "code",
      "source": [
        "\n",
        "# Program to check if a number is prime or not\n",
        "# Input from the user\n",
        "num = int(input(\"Enter a number: \"))\n",
        "\n",
        "# If number is greater than 1\n",
        "if num > 1:\n",
        "    # Check if factor exist\n",
        "    for i in range(2, num):\n",
        "        if (num % i) == 0:\n",
        "            print(num, \"is not a prime number\")\n",
        "            break\n",
        "    else:\n",
        "        print(num, \"is a prime number\")\n",
        "\n"
      ],
      "metadata": {
        "id": "FEPwOX256RDp",
        "colab": {
          "base_uri": "https://localhost:8080/"
        },
        "outputId": "1b4a229e-3401-4e9c-fe52-c2053d4b6906"
      },
      "execution_count": null,
      "outputs": [
        {
          "output_type": "stream",
          "name": "stdout",
          "text": [
            "Enter a number: 6\n",
            "6 is a prime number\n"
          ]
        }
      ]
    },
    {
      "cell_type": "markdown",
      "source": [
        "\n",
        "**Question 6: Armstrong Number Checker Implement a Python program that checks whether a given number is an Armstrong number or not using a loop.**\n",
        "#Hints:\n",
        "1)Take input for the number to be checked.\n",
        "\n",
        "2)Initialize a variable \"sum\" to 0.\n",
        "Convert the given number to a string to iterate over its digits.\n",
        "\n",
        "3)Use a loop to iterate over the digits of the given number.\n",
        "\n",
        "4)In each iteration, convert the digit back to an integer and add its cube to the \"sum\" variable.\n",
        "\n",
        "5)After the loop ends, check if the \"sum\" is equal to the original number.\n",
        "\n",
        "6)If the condition is true, the number is an Armstrong number. Print a suitable message.\n",
        "\n",
        "7)If the condition is false, the number is not an Armstrong number."
      ],
      "metadata": {
        "id": "2zXZi1ho6akA"
      }
    },
    {
      "cell_type": "code",
      "source": [
        "from string import digits\n",
        "## your code ##\n",
        "n=153\n",
        "sum=0\n",
        "order=len(str(n))\n",
        "copy_n=n\n",
        "while n>0:\n",
        "  digit=n%10\n",
        "  sum+=digit**order\n",
        "  n=n//10\n",
        "if sum==copy_n:\n",
        "  print(copy_n,\"is a arms strong num\")\n",
        "else:\n",
        "  print(copy_n,\"is not a arms strong no\")\n",
        "\n",
        "\n",
        "\n",
        "\n",
        "\n",
        "\n",
        "\n",
        "\n",
        "\n",
        "\n",
        "\n",
        "\n"
      ],
      "metadata": {
        "id": "ihKrRkBi7t2p",
        "colab": {
          "base_uri": "https://localhost:8080/"
        },
        "outputId": "a8e632cb-537f-4b05-da71-62588ad2e1f5"
      },
      "execution_count": null,
      "outputs": [
        {
          "output_type": "stream",
          "name": "stdout",
          "text": [
            "15\n",
            "1\n",
            "0\n"
          ]
        }
      ]
    },
    {
      "cell_type": "code",
      "source": [],
      "metadata": {
        "colab": {
          "base_uri": "https://localhost:8080/",
          "height": 262
        },
        "id": "JLTPcUtCBKg_",
        "outputId": "dd22fe26-3ca6-4d1a-f1d5-0d9c9bdb4e54"
      },
      "execution_count": null,
      "outputs": [
        {
          "name": "stdout",
          "output_type": "stream",
          "text": [
            "Enter a positive integer: 5\n"
          ]
        },
        {
          "output_type": "error",
          "ename": "NameError",
          "evalue": "ignored",
          "traceback": [
            "\u001b[0;31m---------------------------------------------------------------------------\u001b[0m",
            "\u001b[0;31mNameError\u001b[0m                                 Traceback (most recent call last)",
            "\u001b[0;32m<ipython-input-4-5a5cdfd86316>\u001b[0m in \u001b[0;36m<cell line: 7>\u001b[0;34m()\u001b[0m\n\u001b[1;32m      7\u001b[0m \u001b[0;32mif\u001b[0m \u001b[0mn\u001b[0m \u001b[0;34m>=\u001b[0m \u001b[0;36m0\u001b[0m\u001b[0;34m:\u001b[0m\u001b[0;34m\u001b[0m\u001b[0;34m\u001b[0m\u001b[0m\n\u001b[1;32m      8\u001b[0m     \u001b[0;31m# Call the factorial function and print the result\u001b[0m\u001b[0;34m\u001b[0m\u001b[0;34m\u001b[0m\u001b[0m\n\u001b[0;32m----> 9\u001b[0;31m   \u001b[0mresult\u001b[0m \u001b[0;34m=\u001b[0m \u001b[0mfactorial\u001b[0m\u001b[0;34m(\u001b[0m\u001b[0mn\u001b[0m\u001b[0;34m)\u001b[0m\u001b[0;34m\u001b[0m\u001b[0;34m\u001b[0m\u001b[0m\n\u001b[0m\u001b[1;32m     10\u001b[0m   \u001b[0mprint\u001b[0m\u001b[0;34m(\u001b[0m\u001b[0;34mf\"The factorial of {n} is {result}.\"\u001b[0m\u001b[0;34m)\u001b[0m\u001b[0;34m\u001b[0m\u001b[0;34m\u001b[0m\u001b[0m\n\u001b[1;32m     11\u001b[0m \u001b[0;32melse\u001b[0m\u001b[0;34m:\u001b[0m\u001b[0;34m\u001b[0m\u001b[0;34m\u001b[0m\u001b[0m\n",
            "\u001b[0;31mNameError\u001b[0m: name 'factorial' is not defined"
          ]
        }
      ]
    },
    {
      "cell_type": "markdown",
      "source": [
        "**Question 7: Reverse a Number Create a Python program that reverses a given number using a loop.**\n",
        "\n",
        "#Hints:\n",
        "\n",
        "1)Take input for the number to be reversed.\n",
        "\n",
        "2)Initialize a variable \"reversed_num\" to 0.\n",
        "\n",
        "3)Use a loop to iterate until the given number becomes 0.\n",
        "\n",
        "4)In each iteration, extract the last digit of the given number using the modulo (%) operator.\n",
        "\n",
        "5)Multiply the \"reversed_num\" by 10 and add the extracted digit to it.\n",
        "\n",
        "6)Update the given number by dividing it by 10 (integer division).\n",
        "\n",
        "7)Repeat steps 4-6 until the loop ends.\n",
        "Print the value of \"reversed_num\"."
      ],
      "metadata": {
        "id": "CSVne93c8mEV"
      }
    },
    {
      "cell_type": "code",
      "source": [
        "## you\n",
        "\n",
        "\n",
        "n=int(input(\"number=\"))\n",
        "reversed_num=0\n",
        "order=len(str(n))\n",
        "copy_n=n\n",
        "while n>0:\n",
        "  digit=n%10\n",
        "  reversed_num=digit\n",
        "  n=n//10\n",
        "  print(reversed_num,end=\"\")\n",
        "\n",
        "\n",
        "\n",
        "\n"
      ],
      "metadata": {
        "id": "RxobTLBd9E40",
        "colab": {
          "base_uri": "https://localhost:8080/"
        },
        "outputId": "e857fbab-30b8-42a0-8dc3-979c5860f320"
      },
      "execution_count": null,
      "outputs": [
        {
          "output_type": "stream",
          "name": "stdout",
          "text": [
            "number=6556545314\n",
            "4135456556"
          ]
        }
      ]
    },
    {
      "cell_type": "markdown",
      "source": [
        "**Question 8: Print Patterns Implement a Python program that prints different patterns (e.g., squares, triangles) using loops.**"
      ],
      "metadata": {
        "id": "KGjHfQj-9LR0"
      }
    },
    {
      "cell_type": "markdown",
      "source": [
        "![image.png](data:image/png;base64,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)"
      ],
      "metadata": {
        "id": "_duPbPSQ96i_"
      }
    },
    {
      "cell_type": "markdown",
      "source": [
        "#Hints:\n",
        "1)Take input for the number of rows or the size of the pattern.\n",
        "\n",
        "2)Use nested loops to iterate over the rows and columns of the pattern.\n",
        "\n",
        "3)Determine the conditions for printing specific characters or spaces based on the row and column indices.\n",
        "\n",
        "4)Print the desired character or space based on the conditions.\n"
      ],
      "metadata": {
        "id": "SCn3qVJm9_cV"
      }
    },
    {
      "cell_type": "code",
      "source": [
        "## your code\n",
        "n=5\n",
        "for i in range(n):\n",
        "   for j in range(i+1):\n",
        "       print(\" \",end=\"\")\n",
        "   for j in range(i,n-1):\n",
        "       print(\"*\",end=\"\")\n",
        "   for j in range(i,n):\n",
        "       print(\"*\",end=\"\")\n",
        "\n",
        "\n",
        "   print()\n",
        "\n",
        "\n",
        "\n",
        "\n"
      ],
      "metadata": {
        "id": "QRCj1OtF9GLM",
        "colab": {
          "base_uri": "https://localhost:8080/"
        },
        "outputId": "29854ac7-9b36-4435-8960-47fd3d2dc604"
      },
      "execution_count": null,
      "outputs": [
        {
          "output_type": "stream",
          "name": "stdout",
          "text": [
            " *********\n",
            "  *******\n",
            "   *****\n",
            "    ***\n",
            "     *\n"
          ]
        }
      ]
    },
    {
      "cell_type": "markdown",
      "source": [
        "**Question 9: Sum of Digits Write a Python program that calculates the sum of digits of a given number using a loop.**\n",
        "\n",
        "#Hints:\n",
        "1)Take input for the number whose digits need to be summed.\n",
        "\n",
        "2)Initialize a variable \"sum\" to 0.\n",
        "Use a loop to extract the digits from the given number until it becomes 0.\n",
        "\n",
        "3)In each iteration, extract the last digit of the given number using the modulo (%) operator.\n",
        "\n",
        "4)Add the extracted digit to the \"sum\" variable.\n",
        "\n",
        "5)Update the given number by dividing it by 10 (integer division).\n",
        "\n",
        "6)Repeat steps 4-6 until the loop ends.\n",
        "Print the value of \"sum\"."
      ],
      "metadata": {
        "id": "5BgYBarY-PbT"
      }
    },
    {
      "cell_type": "code",
      "source": [
        "que_5 ={'key1':'value1', 'key2': 'value2', 'key3':'value3', 'key4': 'value4'}\n",
        "que_5['key1':'key3']"
      ],
      "metadata": {
        "id": "zoAx7wyO-aZO",
        "colab": {
          "base_uri": "https://localhost:8080/",
          "height": 192
        },
        "outputId": "1227d06b-0431-47c0-da52-06bc6f647063"
      },
      "execution_count": null,
      "outputs": [
        {
          "output_type": "error",
          "ename": "TypeError",
          "evalue": "ignored",
          "traceback": [
            "\u001b[0;31m---------------------------------------------------------------------------\u001b[0m",
            "\u001b[0;31mTypeError\u001b[0m                                 Traceback (most recent call last)",
            "\u001b[0;32m<ipython-input-5-b0d161061d8a>\u001b[0m in \u001b[0;36m<cell line: 2>\u001b[0;34m()\u001b[0m\n\u001b[1;32m      1\u001b[0m \u001b[0mque_5\u001b[0m \u001b[0;34m=\u001b[0m\u001b[0;34m{\u001b[0m\u001b[0;34m'key1'\u001b[0m\u001b[0;34m:\u001b[0m\u001b[0;34m'value1'\u001b[0m\u001b[0;34m,\u001b[0m \u001b[0;34m'key2'\u001b[0m\u001b[0;34m:\u001b[0m \u001b[0;34m'value2'\u001b[0m\u001b[0;34m,\u001b[0m \u001b[0;34m'key3'\u001b[0m\u001b[0;34m:\u001b[0m\u001b[0;34m'value3'\u001b[0m\u001b[0;34m,\u001b[0m \u001b[0;34m'key4'\u001b[0m\u001b[0;34m:\u001b[0m \u001b[0;34m'value4'\u001b[0m\u001b[0;34m}\u001b[0m\u001b[0;34m\u001b[0m\u001b[0;34m\u001b[0m\u001b[0m\n\u001b[0;32m----> 2\u001b[0;31m \u001b[0mque_5\u001b[0m\u001b[0;34m[\u001b[0m\u001b[0;34m'key1'\u001b[0m\u001b[0;34m:\u001b[0m\u001b[0;34m'key3'\u001b[0m\u001b[0;34m]\u001b[0m\u001b[0;34m\u001b[0m\u001b[0;34m\u001b[0m\u001b[0m\n\u001b[0m",
            "\u001b[0;31mTypeError\u001b[0m: unhashable type: 'slice'"
          ]
        }
      ]
    },
    {
      "cell_type": "code",
      "source": [
        "que_1 = (0,1,2,{'Name':'Suresh', 'Marks':[65,89,72,80,77]})\n",
        "\n",
        "que_1[3]['Marks'][0]=96\n",
        "\n",
        "que_1"
      ],
      "metadata": {
        "colab": {
          "base_uri": "https://localhost:8080/"
        },
        "id": "5eLZyXEJvQlX",
        "outputId": "2beacbd8-6f9d-44b9-fb76-386bdb3d733e"
      },
      "execution_count": null,
      "outputs": [
        {
          "output_type": "execute_result",
          "data": {
            "text/plain": [
              "(0, 1, 2, {'Name': 'Suresh', 'Marks': [96, 89, 72, 80, 77]})"
            ]
          },
          "metadata": {},
          "execution_count": 12
        }
      ]
    },
    {
      "cell_type": "code",
      "source": [
        "def multiplication(a,b):\n",
        "  c=a*b\n",
        "  return c\n",
        "\n",
        "\n",
        "multiplication(5,2)"
      ],
      "metadata": {
        "colab": {
          "base_uri": "https://localhost:8080/"
        },
        "id": "RLyxnGLqPkt5",
        "outputId": "636acd16-67a3-4af5-9c1e-fcb3fb0846ed"
      },
      "execution_count": null,
      "outputs": [
        {
          "output_type": "execute_result",
          "data": {
            "text/plain": [
              "10"
            ]
          },
          "metadata": {},
          "execution_count": 3
        }
      ]
    },
    {
      "cell_type": "code",
      "source": [
        "def div(a,b):\n",
        "  c=a/b\n",
        "  return c\n",
        "\n",
        "\n",
        "div(20,2)\n",
        "\n",
        "\n"
      ],
      "metadata": {
        "colab": {
          "base_uri": "https://localhost:8080/"
        },
        "id": "d7lzXLU7P4tw",
        "outputId": "dd6538a9-f935-46b4-f246-82e9f6036275"
      },
      "execution_count": null,
      "outputs": [
        {
          "output_type": "execute_result",
          "data": {
            "text/plain": [
              "10.0"
            ]
          },
          "metadata": {},
          "execution_count": 11
        }
      ]
    },
    {
      "cell_type": "code",
      "source": [
        "def add(a,b):\n",
        "  c=a+b\n",
        "  return c\n",
        "\n",
        "\n",
        "add(\"ram\",\"sham\")\n",
        "add(1,5)"
      ],
      "metadata": {
        "colab": {
          "base_uri": "https://localhost:8080/"
        },
        "id": "U9_JLKuEQWW4",
        "outputId": "7aa24b35-6edf-4250-b7c0-4a725e308105"
      },
      "execution_count": null,
      "outputs": [
        {
          "output_type": "execute_result",
          "data": {
            "text/plain": [
              "6"
            ]
          },
          "metadata": {},
          "execution_count": 15
        }
      ]
    },
    {
      "cell_type": "markdown",
      "source": [
        "**Question 11: GCD (Greatest Common Divisor) Calculator Create a Python program that calculates the greatest common divisor (GCD) of two numbers using a loop.**\n",
        "#Hints:\n",
        "1)Take input for the two numbers for which the GCD needs to be calculated.\n",
        "\n",
        "2)Initialize a variable \"gcd\" to 1.\n",
        "Use a loop to iterate from 1 to the smaller of the two numbers.\n",
        "\n",
        "3)In each iteration, check if both numbers divide the current iteration value evenly.\n",
        "\n",
        "4)If they do, update the \"gcd\" variable to the current iteration value.\n",
        "\n",
        "5)Repeat steps 3-5 until the loop ends.\n",
        "Print the value of \"gcd\"."
      ],
      "metadata": {
        "id": "Zh2Ji1Xm-zBR"
      }
    },
    {
      "cell_type": "code",
      "source": [
        "\n",
        "def addition(a,b):\n",
        "  c=a+b\n",
        "  print(c)"
      ],
      "metadata": {
        "id": "DXHBxKx-_CSy"
      },
      "execution_count": null,
      "outputs": []
    },
    {
      "cell_type": "code",
      "source": [
        "addition(54,54)"
      ],
      "metadata": {
        "colab": {
          "base_uri": "https://localhost:8080/"
        },
        "id": "2h8hxxFKRF5Y",
        "outputId": "b44e5eda-e82c-4425-bfbe-65083b5dbd7a"
      },
      "execution_count": null,
      "outputs": [
        {
          "output_type": "stream",
          "name": "stdout",
          "text": [
            "108\n"
          ]
        }
      ]
    },
    {
      "cell_type": "markdown",
      "source": [
        "**Question 12: LCM (Least Common Multiple) Calculator Implement a Python program that calculates the least common multiple (LCM) of two numbers using a loop.**\n",
        "#Hints:\n",
        "1)Take input for the two numbers for which the LCM needs to be calculated.\n",
        "\n",
        "2)Find the maximum of the two numbers and assign it to a variable \"max_num\".\n",
        "\n",
        "3)Use a loop to iterate from \"max_num\" to the product of the two numbers (inclusive) with a step of \"max_num\".\n",
        "\n",
        "4)In each iteration, check if both numbers divide the current iteration value evenly.\n",
        "\n",
        "5)If they do, the current iteration value is the LCM. Print the value and exit the loop."
      ],
      "metadata": {
        "id": "MAgVx7Me_Lr3"
      }
    },
    {
      "cell_type": "code",
      "source": [
        "\n",
        "def multiply(a,b=2):\n",
        "  result=a*b\n",
        "  return result\n"
      ],
      "metadata": {
        "id": "1Nier5JE_ZqE"
      },
      "execution_count": null,
      "outputs": []
    },
    {
      "cell_type": "markdown",
      "source": [
        "**Question 13: Armstrong Number Range Implement a Python program that prints all Armstrong numbers within a given range using a loop.**\n",
        "#Hints:\n",
        "1)Take input for the lower and upper limits of the range.\n",
        "\n",
        "2)Use a loop to iterate over the numbers within the given range.\n",
        "\n",
        "3)For each number, initialize a variable \"sum\" to 0.\n",
        "\n",
        "4)Convert the current number to a string to iterate over its digits.\n",
        "\n",
        "5)Use a loop to iterate over the digits of the current number.\n",
        "\n",
        "6)In each iteration, convert the digit back to an integer and add its cube to the \"sum\" variable.\n",
        "\n",
        "7)After the inner loop ends, check if the \"sum\" is equal to the current number.\n",
        "\n",
        "8)If the condition is true, the current number is an Armstrong number. Print the number."
      ],
      "metadata": {
        "id": "WyooMTWxKEdW"
      }
    },
    {
      "cell_type": "code",
      "source": [
        "multiply(4,5)\n",
        "multiply(3)"
      ],
      "metadata": {
        "colab": {
          "base_uri": "https://localhost:8080/",
          "height": 192
        },
        "id": "y8HsGbLcYdIC",
        "outputId": "ab7944c6-1de1-49fe-c406-b841d42f4470"
      },
      "execution_count": null,
      "outputs": [
        {
          "output_type": "error",
          "ename": "NameError",
          "evalue": "ignored",
          "traceback": [
            "\u001b[0;31m---------------------------------------------------------------------------\u001b[0m",
            "\u001b[0;31mNameError\u001b[0m                                 Traceback (most recent call last)",
            "\u001b[0;32m<ipython-input-11-ae6f973ae50b>\u001b[0m in \u001b[0;36m<cell line: 1>\u001b[0;34m()\u001b[0m\n\u001b[0;32m----> 1\u001b[0;31m \u001b[0mmultiply\u001b[0m\u001b[0;34m(\u001b[0m\u001b[0;36m4\u001b[0m\u001b[0;34m,\u001b[0m\u001b[0;36m5\u001b[0m\u001b[0;34m)\u001b[0m\u001b[0;34m\u001b[0m\u001b[0;34m\u001b[0m\u001b[0m\n\u001b[0m\u001b[1;32m      2\u001b[0m \u001b[0mmultiply\u001b[0m\u001b[0;34m(\u001b[0m\u001b[0;36m3\u001b[0m\u001b[0;34m)\u001b[0m\u001b[0;34m\u001b[0m\u001b[0;34m\u001b[0m\u001b[0m\n",
            "\u001b[0;31mNameError\u001b[0m: name 'multiply' is not defined"
          ]
        }
      ]
    },
    {
      "cell_type": "code",
      "source": [
        "## your code ##\n",
        "my_books = ['Sheru', 'Oreo', 'Badal']\n",
        "print('Enter a pet book:')\n",
        "name = input()\n",
        "if name not in my_books:\n",
        "      print('I do not have a pet named ' + name)\n",
        "else:\n",
        "      print(name + ' is my pet.')\n",
        "\n"
      ],
      "metadata": {
        "id": "jThob6PN_6S4",
        "colab": {
          "base_uri": "https://localhost:8080/"
        },
        "outputId": "b06e00f9-ef96-4896-c5a8-6578057cc346"
      },
      "execution_count": null,
      "outputs": [
        {
          "output_type": "stream",
          "name": "stdout",
          "text": [
            "Enter a pet book:\n",
            "sheru\n",
            "I do not have a pet named sheru\n"
          ]
        }
      ]
    },
    {
      "cell_type": "markdown",
      "source": [
        "**Question 14: Count Vowels and Consonants Write a Python program that counts the number of vowels and consonants in a given string using a loop.**\n",
        "#Hints:\n",
        "1)Take input for the string for which the vowels and consonants need to be counted.\n",
        "\n",
        "2)Initialize variables \"vowel_count\" and \"consonant_count\" to 0.\n",
        "\n",
        "3)Convert the string to lowercase for case-insensitive counting.\n",
        "\n",
        "5)Use a loop to iterate over the characters in the string.\n",
        "\n",
        "6)In each iteration, check if the current character is a vowel or consonant using suitable conditions.\n",
        "\n",
        "7)If it is a vowel, increment the \"vowel_count\" variable by 1.\n",
        "\n",
        "8)If it is a consonant, increment the \"consonant_count\" variable by 1.\n",
        "\n",
        "9)Print the values of \"vowel_count\" and \"consonant_count\"."
      ],
      "metadata": {
        "id": "Klp53KQQKmHa"
      }
    },
    {
      "cell_type": "code",
      "source": [
        "## your code ##\n",
        "example = ['pen', 'pencil', 'bat', 'cat', 'hat', 'cat']\n",
        "example.remove('cat')\n",
        "example.remove('cat')\n",
        "\n",
        "example\n"
      ],
      "metadata": {
        "id": "OwI3-0giLLis",
        "colab": {
          "base_uri": "https://localhost:8080/"
        },
        "outputId": "5e770aad-4521-41b9-b8fb-50f58c034885"
      },
      "execution_count": null,
      "outputs": [
        {
          "output_type": "execute_result",
          "data": {
            "text/plain": [
              "['pen', 'pencil', 'bat', 'hat']"
            ]
          },
          "metadata": {},
          "execution_count": 87
        }
      ]
    },
    {
      "cell_type": "markdown",
      "source": [
        "**Question 15: Print Even or Odd Numbers Create a Python program that prints all even or odd numbers within a given range using a loop.**\n",
        "#Hints:\n",
        "1)Take input for the lower and upper limits of the range.\n",
        "\n",
        "2)Take input for whether to print even or odd numbers.\n",
        "\n",
        "3)Use a loop to iterate over the numbers within the given range.\n",
        "\n",
        "4)In each iteration, check if the current number is even or odd based on the input.\n",
        "\n",
        "5)If it matches the required type, print the number."
      ],
      "metadata": {
        "id": "wPDwSKeCMtUl"
      }
    },
    {
      "cell_type": "code",
      "source": [
        "## your code ##"
      ],
      "metadata": {
        "id": "5rjNwHPyMwnT"
      },
      "execution_count": null,
      "outputs": []
    },
    {
      "cell_type": "markdown",
      "source": [
        "**Question 16: Collatz Conjecture Write a Python program that takes a number as input and prints the Collatz sequence starting from that number using loops.**\n",
        "#Hints:\n",
        "To print the Collatz sequence starting from a given number using loops:\n",
        "\n",
        "1)Take the starting number as input from the user.\n",
        "\n",
        "2)Use a loop to print the sequence until the number becomes 1.\n",
        "\n",
        "3)In each iteration, if the number is even, divide it by 2; if it's odd, multiply it by 3 and add 1.\n",
        "\n",
        "4)Continue the loop until the number becomes 1."
      ],
      "metadata": {
        "id": "xpq6hL25Obcl"
      }
    },
    {
      "cell_type": "code",
      "source": [
        "## your code ##"
      ],
      "metadata": {
        "id": "0fPurGMROsGN"
      },
      "execution_count": null,
      "outputs": []
    },
    {
      "cell_type": "markdown",
      "source": [
        "**Question 17: Sum of Squares Create a Python program that calculates the sum of the squares of all numbers from 1 to N, where N is taken as input from the user, using loops.**\n",
        "#Hints:\n",
        "1)Take the value of N as input from the user.\n",
        "\n",
        "2)Initialize a variable to store the sum of squares (let's call it \"sum_squares\") and set it to 0.\n",
        "\n",
        "3)Use a loop to iterate through numbers from 1 to N.\n",
        "\n",
        "4)In each iteration, calculate the square of the current number (number * number) and add it to the \"sum_squares\" variable.\n",
        "\n",
        "5)After the loop completes, print the value of \"sum_squares\"."
      ],
      "metadata": {
        "id": "ZI1F_aNHPDA5"
      }
    },
    {
      "cell_type": "code",
      "source": [
        "## your code ##"
      ],
      "metadata": {
        "id": "kbqukIH-PkC2"
      },
      "execution_count": null,
      "outputs": []
    },
    {
      "cell_type": "markdown",
      "source": [
        "**Question 18: Binary to Decimal Conversion Write a Python program that converts a binary number to its decimal equivalent using loops. The binary number should be taken as input from the user.**\n",
        "#Hints:\n",
        "1)Take the binary number as input from the user (as a string).\n",
        "\n",
        "2)Initialize a variable to store the decimal equivalent (let's call it \"decimal\") and set it to 0.\n",
        "\n",
        "3)Use a loop to iterate through each digit of the binary number.\n",
        "\n",
        "4)In each iteration, convert the current digit to an integer (0 or 1) and multiply it by 2 raised to the power of its position (from the rightmost digit).\n",
        "\n",
        "5)Add the result to the \"decimal\" variable.\n",
        "\n",
        "6)After the loop completes, \"decimal\" will hold the decimal equivalent of the binary number.\n",
        "\n",
        "7)Print the value of \"decimal\"."
      ],
      "metadata": {
        "id": "mTU-kOlEPv09"
      }
    },
    {
      "cell_type": "code",
      "source": [
        "## your code ##"
      ],
      "metadata": {
        "id": "IeqE4KCnQAZs"
      },
      "execution_count": null,
      "outputs": []
    }
  ]
}