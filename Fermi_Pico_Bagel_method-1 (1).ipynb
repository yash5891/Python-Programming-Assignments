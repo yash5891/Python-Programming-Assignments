{
 "cells": [
  {
   "cell_type": "markdown",
   "id": "0b55c9a8",
   "metadata": {},
   "source": [
    "## Fermi Pico Bagel\n",
    "Try playing game and understand the rules : https://communicrossings.com/html/js/pfb.htm\n",
    "\n",
    "## Step 1\n",
    "Store any number in string format(number to be guessed by player) in a variable `original_number`.\n",
    "\n",
    "For Example: original_number = '123'\n"
   ]
  },
  {
   "cell_type": "code",
   "execution_count": 1,
   "id": "57a0a2d0",
   "metadata": {},
   "outputs": [],
   "source": [
    "## Your code goes here "
   ]
  },
  {
   "cell_type": "markdown",
   "id": "fd43340c",
   "metadata": {},
   "source": [
    "## Step 2\n",
    "Take a number as user input and save it in a variable `guess_number`.(Make sure that the datatype of guess_number is same as of original number i.e- `str`)"
   ]
  },
  {
   "cell_type": "code",
   "execution_count": null,
   "id": "2e0075a7",
   "metadata": {},
   "outputs": [],
   "source": [
    "## Your code goes here "
   ]
  },
  {
   "cell_type": "markdown",
   "id": "22318243",
   "metadata": {},
   "source": [
    "## Step 3\n",
    "Check if total number of digits in `original_number` and `guess_number` is not same(Use `len()` function) then ask user for valid input.(First use `len()` to get total digits in `original_number` and `guess_number`.)"
   ]
  },
  {
   "cell_type": "code",
   "execution_count": null,
   "id": "258e2971",
   "metadata": {},
   "outputs": [],
   "source": [
    "## Your code goes here "
   ]
  },
  {
   "cell_type": "markdown",
   "id": "0c064bda",
   "metadata": {},
   "source": [
    "## Step 4\n",
    "Using `set()`, check if the digits are repeated in a `guess_number` .\n",
    "Note that datatype `set` allows unique values only.\n",
    "\n",
    "For ex. if `user_input`is 122, then it should print the string 'Duplicate number'  as digit 2 is repeated."
   ]
  },
  {
   "cell_type": "code",
   "execution_count": null,
   "id": "7b5ef10d",
   "metadata": {},
   "outputs": [],
   "source": [
    "## Your code goes here "
   ]
  },
  {
   "cell_type": "markdown",
   "id": "0514b8d9",
   "metadata": {},
   "source": [
    "## Step 5\n",
    "Check winning condition i.e. if both `guess_number` and `original_number` are same, then print 'Fermi' as many number of times as number of digits in a number and print ' You win !! '.\n"
   ]
  },
  {
   "cell_type": "code",
   "execution_count": null,
   "id": "ab9379a5",
   "metadata": {},
   "outputs": [],
   "source": [
    "## Your code goes here "
   ]
  },
  {
   "cell_type": "markdown",
   "id": "96eca378",
   "metadata": {},
   "source": [
    "## Step 6\n",
    "Create empty list called `output` where we will store the output in the form of list.\n",
    "\n",
    "For example: output = [ ' Fermi ', ' Pico ' ,' Pico ' ] ."
   ]
  },
  {
   "cell_type": "code",
   "execution_count": null,
   "id": "c047a839",
   "metadata": {},
   "outputs": [],
   "source": [
    "## Your code goes here "
   ]
  },
  {
   "cell_type": "markdown",
   "id": "4949309d",
   "metadata": {},
   "source": [
    "## Step 7\n",
    "Check if any digit and it's position in both `guess_number` and `original_number` are same then append 'Fermi' to `output` list or if only digit matches and not the position then append 'Pico' to `output`.\n"
   ]
  },
  {
   "cell_type": "code",
   "execution_count": null,
   "id": "7dbe3800",
   "metadata": {},
   "outputs": [],
   "source": [
    "## Your code goes here "
   ]
  },
  {
   "cell_type": "markdown",
   "id": "59e62457",
   "metadata": {},
   "source": [
    "## Step 8\n",
    "Define a variable called `output_string` which has all values from a list `output` with each value separated by space. (Use 'for' loop to get all the values from a list `output`.)"
   ]
  },
  {
   "cell_type": "code",
   "execution_count": null,
   "id": "d15c8f60",
   "metadata": {},
   "outputs": [],
   "source": [
    "## Your code goes here "
   ]
  },
  {
   "cell_type": "markdown",
   "id": "f3f50bef",
   "metadata": {},
   "source": [
    "## Step 9\n",
    "Check if neither any digit nor any position matches i.e. if length of `output` list is zero then print `Bagel`.\n",
    "\n",
    "Otherwise print `output_string`."
   ]
  },
  {
   "cell_type": "code",
   "execution_count": null,
   "id": "3c568356",
   "metadata": {},
   "outputs": [],
   "source": [
    "## Your code goes here "
   ]
  },
  {
   "cell_type": "markdown",
   "id": "9d4a684d",
   "metadata": {},
   "source": [
    "## Step 10\n",
    "\n",
    "## Complete game\n",
    "Here use continue and break statements at appropriate places."
   ]
  },
  {
   "cell_type": "code",
   "execution_count": 3,
   "id": "79843cdf",
   "metadata": {},
   "outputs": [],
   "source": [
    "## step 1\n",
    "\n",
    "## create infinite while loop\n",
    "\n",
    "## step 2 and step 6\n",
    "\n",
    "## step 3 and step 4 (use continue statement)\n",
    "\n",
    "## step 5 (use break statement for winning condition)\n",
    "\n",
    "## step 7\n",
    "\n",
    "## step 8\n",
    "\n",
    "## step 9"
   ]
  }
 ],
 "metadata": {
  "kernelspec": {
   "display_name": "Python 3",
   "language": "python",
   "name": "python3"
  },
  "language_info": {
   "codemirror_mode": {
    "name": "ipython",
    "version": 3
   },
   "file_extension": ".py",
   "mimetype": "text/x-python",
   "name": "python",
   "nbconvert_exporter": "python",
   "pygments_lexer": "ipython3",
   "version": "3.8.8"
  }
 },
 "nbformat": 4,
 "nbformat_minor": 5
}