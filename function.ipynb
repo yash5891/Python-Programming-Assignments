{
  "nbformat": 4,
  "nbformat_minor": 0,
  "metadata": {
    "colab": {
      "provenance": [],
      "authorship_tag": "ABX9TyPSinLARuAwIQf4Sf+3rcoq",
      "include_colab_link": true
    },
    "kernelspec": {
      "name": "python3",
      "display_name": "Python 3"
    },
    "language_info": {
      "name": "python"
    }
  },
  "cells": [
    {
      "cell_type": "markdown",
      "metadata": {
        "id": "view-in-github",
        "colab_type": "text"
      },
      "source": [
        "<a href=\"https://colab.research.google.com/github/yash5891/Python-Programming-Assignments/blob/main/function.ipynb\" target=\"_parent\"><img src=\"https://colab.research.google.com/assets/colab-badge.svg\" alt=\"Open In Colab\"/></a>"
      ]
    },
    {
      "cell_type": "code",
      "execution_count": null,
      "metadata": {
        "id": "8Jelo15im0IE"
      },
      "outputs": [],
      "source": [
        "def cube(number):\n",
        "  result=number**3\n",
        "  return result"
      ]
    },
    {
      "cell_type": "code",
      "source": [
        "cube(3)"
      ],
      "metadata": {
        "colab": {
          "base_uri": "https://localhost:8080/"
        },
        "id": "E5Y0y4e8nFP7",
        "outputId": "ea594cc7-f76b-4800-9567-acc13a4972ca"
      },
      "execution_count": null,
      "outputs": [
        {
          "output_type": "execute_result",
          "data": {
            "text/plain": [
              "27"
            ]
          },
          "metadata": {},
          "execution_count": 2
        }
      ]
    },
    {
      "cell_type": "code",
      "source": [
        "def square(n1 ,n2 ):\n",
        "   n1=n1**2\n",
        "   n2=n2**2\n",
        "   return  n1+n2"
      ],
      "metadata": {
        "id": "OEjOGrDCnIkM"
      },
      "execution_count": null,
      "outputs": []
    },
    {
      "cell_type": "code",
      "source": [
        "square(2,1)"
      ],
      "metadata": {
        "colab": {
          "base_uri": "https://localhost:8080/"
        },
        "id": "aWdqxC0sn6mp",
        "outputId": "8b968caf-1010-45e0-e808-e442dc189ff2"
      },
      "execution_count": null,
      "outputs": [
        {
          "output_type": "execute_result",
          "data": {
            "text/plain": [
              "5"
            ]
          },
          "metadata": {},
          "execution_count": 8
        }
      ]
    },
    {
      "cell_type": "code",
      "source": [
        "def fact(number):\n",
        "  n=number\n",
        "  factorial=1\n",
        "  for i in range(1,n+1):\n",
        "   factorial=factorial*i\n",
        "  #  out=factorial\n",
        "  return factorial"
      ],
      "metadata": {
        "id": "Ne043MainznY"
      },
      "execution_count": null,
      "outputs": []
    },
    {
      "cell_type": "code",
      "source": [
        "fact(5)"
      ],
      "metadata": {
        "colab": {
          "base_uri": "https://localhost:8080/"
        },
        "id": "2vr1Jy6epJ-w",
        "outputId": "2a1ae7f0-f00f-41c8-87fb-92ee37a1bec8"
      },
      "execution_count": null,
      "outputs": [
        {
          "output_type": "execute_result",
          "data": {
            "text/plain": [
              "120"
            ]
          },
          "metadata": {},
          "execution_count": 10
        }
      ]
    },
    {
      "cell_type": "code",
      "source": [
        "def string_concatenation(s1 = 'ai',s2=\"adventures\" ,s3 = 3):\n",
        "\n",
        "    if s3 == 3:\n",
        "     s = (s1 + s2) * s3\n",
        "     print(s,end = '')\n",
        "    else:\n",
        "     s = (s1 + s2) * 1\n",
        "     print(s,end = \"\")\n",
        "\n",
        "\n",
        "\n"
      ],
      "metadata": {
        "id": "yC7CuncHpMqp"
      },
      "execution_count": null,
      "outputs": []
    },
    {
      "cell_type": "code",
      "source": [
        "    string_concatenation(\"ai\",\"adventures\",3)\n"
      ],
      "metadata": {
        "colab": {
          "base_uri": "https://localhost:8080/"
        },
        "id": "4GnlrF2Xsd0c",
        "outputId": "52e16316-56d7-433d-e2cd-53b1343de0be"
      },
      "execution_count": null,
      "outputs": [
        {
          "output_type": "stream",
          "name": "stdout",
          "text": [
            "aiadventuresaiadventuresaiadventures"
          ]
        }
      ]
    },
    {
      "cell_type": "code",
      "source": [
        "def multiply(a,b=2):\n",
        "  result=a*b\n",
        "  return result"
      ],
      "metadata": {
        "id": "bH6S2V07shL0"
      },
      "execution_count": null,
      "outputs": []
    },
    {
      "cell_type": "code",
      "source": [
        "multiply(4)"
      ],
      "metadata": {
        "colab": {
          "base_uri": "https://localhost:8080/"
        },
        "id": "If1iBWjcuZoR",
        "outputId": "7d6c8893-77fc-4773-ab41-afa2eea41cea"
      },
      "execution_count": null,
      "outputs": [
        {
          "output_type": "execute_result",
          "data": {
            "text/plain": [
              "8"
            ]
          },
          "metadata": {},
          "execution_count": 41
        }
      ]
    },
    {
      "cell_type": "code",
      "source": [
        "def calculate_area(base, height,shape):\n",
        "  b=2\n",
        "  h=6\n",
        "  #traingle=1/2*b*h\n",
        "  #rectangle=base*height\n",
        "  if shape==\"traingle\":\n",
        "   traingle=1/2*(b*h),\"traingle\"\n",
        "   return traingle\n",
        "  if  shape== \"rectangle\":\n",
        "     rectangle=b*h,\"rectangle\"\n",
        "     return  rectangle\n",
        "\n"
      ],
      "metadata": {
        "id": "NIb5PiDCucH0"
      },
      "execution_count": null,
      "outputs": []
    },
    {
      "cell_type": "code",
      "source": [
        "calculate_area(2,6,\"rectangle\")"
      ],
      "metadata": {
        "colab": {
          "base_uri": "https://localhost:8080/"
        },
        "id": "d2dlfLZvwxzz",
        "outputId": "3e9e8d53-069d-4a6a-dfb1-99bf6c77dd14"
      },
      "execution_count": null,
      "outputs": [
        {
          "output_type": "execute_result",
          "data": {
            "text/plain": [
              "(12, 'rectangle')"
            ]
          },
          "metadata": {},
          "execution_count": 56
        }
      ]
    },
    {
      "cell_type": "code",
      "source": [
        "def none_value_assignment(s1 = input(),s2 = input()):\n",
        "   result=s1+s2\n",
        "   print(result)\n"
      ],
      "metadata": {
        "colab": {
          "base_uri": "https://localhost:8080/"
        },
        "id": "eLZDl5vow18O",
        "outputId": "1976a3af-c1fc-48f6-cf4c-0dd501b25648"
      },
      "execution_count": null,
      "outputs": [
        {
          "name": "stdout",
          "output_type": "stream",
          "text": [
            "ai\n",
            "adven\n"
          ]
        }
      ]
    },
    {
      "cell_type": "code",
      "source": [
        "var1=none_value_assignment()\n"
      ],
      "metadata": {
        "colab": {
          "base_uri": "https://localhost:8080/"
        },
        "id": "uP3Lf6dOzLPo",
        "outputId": "9db71456-4eb2-458d-8f99-4afb00ed675e"
      },
      "execution_count": null,
      "outputs": [
        {
          "output_type": "stream",
          "name": "stdout",
          "text": [
            "aiadven\n"
          ]
        }
      ]
    },
    {
      "cell_type": "code",
      "source": [
        "type(var1)"
      ],
      "metadata": {
        "colab": {
          "base_uri": "https://localhost:8080/"
        },
        "id": "-vjb3Jezzokk",
        "outputId": "6bcb1862-4175-4e49-a9df-0640c069165c"
      },
      "execution_count": null,
      "outputs": [
        {
          "output_type": "execute_result",
          "data": {
            "text/plain": [
              "NoneType"
            ]
          },
          "metadata": {},
          "execution_count": 77
        }
      ]
    },
    {
      "cell_type": "code",
      "source": [
        "def sequence(number):\n",
        "  n=number\n",
        "  factorial=1\n",
        "  seq = 1\n",
        "  for i in range(1,n+1):\n",
        "   factorial=(factorial*i)\n",
        "   seq += 1/factorial\n",
        "  #  out=factorial\n",
        "  return seq"
      ],
      "metadata": {
        "id": "1Gw-kvd_1kdy"
      },
      "execution_count": null,
      "outputs": []
    },
    {
      "cell_type": "code",
      "source": [
        "sequence(5)"
      ],
      "metadata": {
        "colab": {
          "base_uri": "https://localhost:8080/"
        },
        "id": "MG7OLf4jweHC",
        "outputId": "c4fbec6b-bf10-44c5-9f68-42b8b2506f55"
      },
      "execution_count": null,
      "outputs": [
        {
          "output_type": "execute_result",
          "data": {
            "text/plain": [
              "2.7166666666666663"
            ]
          },
          "metadata": {},
          "execution_count": 22
        }
      ]
    },
    {
      "cell_type": "code",
      "source": [
        "\n",
        "def ispangram(sentence):\n",
        "  alphabets=\"abcdefghijklmnopqrstuvwxyz\"\n",
        "  print(len(alphabets))\n",
        "  for i in alphabets:\n",
        "   if i not in sentence:\n",
        "    return False\n",
        "  return True"
      ],
      "metadata": {
        "id": "4ElONlMcwiwe"
      },
      "execution_count": null,
      "outputs": []
    },
    {
      "cell_type": "code",
      "source": [
        "sentence1 = \"a quick brown fox jumps over the lazy dog\"\n",
        "sentence2 = \"hello my name is ramesh\"\n",
        "ispangram(sentence1)\n"
      ],
      "metadata": {
        "id": "cPcBAn_V3YkA",
        "colab": {
          "base_uri": "https://localhost:8080/"
        },
        "outputId": "8eb43a92-02f6-4cf7-ba49-188ef0e12b23"
      },
      "execution_count": null,
      "outputs": [
        {
          "output_type": "stream",
          "name": "stdout",
          "text": [
            "26\n"
          ]
        },
        {
          "output_type": "execute_result",
          "data": {
            "text/plain": [
              "True"
            ]
          },
          "metadata": {},
          "execution_count": 57
        }
      ]
    },
    {
      "cell_type": "code",
      "source": [
        "ispangram(sentence2)"
      ],
      "metadata": {
        "id": "xXOkiU874Kzd",
        "colab": {
          "base_uri": "https://localhost:8080/"
        },
        "outputId": "d8bf9c5f-fd67-46b2-ba72-77590bfa086b"
      },
      "execution_count": null,
      "outputs": [
        {
          "output_type": "stream",
          "name": "stdout",
          "text": [
            "26\n"
          ]
        },
        {
          "output_type": "execute_result",
          "data": {
            "text/plain": [
              "False"
            ]
          },
          "metadata": {},
          "execution_count": 58
        }
      ]
    },
    {
      "cell_type": "code",
      "source": [],
      "metadata": {
        "id": "RqsjcZ9A9zdl"
      },
      "execution_count": null,
      "outputs": []
    }
  ]
}