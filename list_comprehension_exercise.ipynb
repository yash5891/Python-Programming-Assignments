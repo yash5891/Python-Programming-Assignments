{
  "nbformat": 4,
  "nbformat_minor": 0,
  "metadata": {
    "colab": {
      "provenance": [],
      "authorship_tag": "ABX9TyMEWHK3/l1MMAwB/I3mr9IN",
      "include_colab_link": true
    },
    "kernelspec": {
      "name": "python3",
      "display_name": "Python 3"
    },
    "language_info": {
      "name": "python"
    }
  },
  "cells": [
    {
      "cell_type": "markdown",
      "metadata": {
        "id": "view-in-github",
        "colab_type": "text"
      },
      "source": [
        "<a href=\"https://colab.research.google.com/github/yash5891/Python-Programming-Assignments/blob/main/list_comprehension_exercise.ipynb\" target=\"_parent\"><img src=\"https://colab.research.google.com/assets/colab-badge.svg\" alt=\"Open In Colab\"/></a>"
      ]
    },
    {
      "cell_type": "code",
      "execution_count": null,
      "metadata": {
        "colab": {
          "base_uri": "https://localhost:8080/"
        },
        "id": "IZ-iywshNUrg",
        "outputId": "3b3943de-a002-4a08-f2ff-51e8fae797a8"
      },
      "outputs": [
        {
          "output_type": "execute_result",
          "data": {
            "text/plain": [
              "[112, 119, 126, 133, 140, 147, 154, 161, 168, 175, 182, 189, 196]"
            ]
          },
          "metadata": {},
          "execution_count": 1
        }
      ],
      "source": [
        "-[i for i in range(111,200)if i%7==0]"
      ]
    },
    {
      "cell_type": "code",
      "source": [
        "{str(i):(float(i), i**2)  for i in (range(0,5))}"
      ],
      "metadata": {
        "colab": {
          "base_uri": "https://localhost:8080/"
        },
        "id": "Ypg2j4rxN88z",
        "outputId": "66db3c1b-72d9-454b-cad3-dffd5e26aa23"
      },
      "execution_count": null,
      "outputs": [
        {
          "output_type": "execute_result",
          "data": {
            "text/plain": [
              "{'0': (0.0, 0), '1': (1.0, 1), '2': (2.0, 4), '3': (3.0, 9), '4': (4.0, 16)}"
            ]
          },
          "metadata": {},
          "execution_count": 7
        }
      ]
    },
    {
      "cell_type": "code",
      "source": [
        "{i: True if len(str(i))==1 else False for i in (range(5,15))}"
      ],
      "metadata": {
        "colab": {
          "base_uri": "https://localhost:8080/"
        },
        "id": "Ddw0_2nFPOIJ",
        "outputId": "87aeb009-6d2f-40a6-b124-fd1926913575"
      },
      "execution_count": null,
      "outputs": [
        {
          "output_type": "execute_result",
          "data": {
            "text/plain": [
              "{5: True,\n",
              " 6: True,\n",
              " 7: True,\n",
              " 8: True,\n",
              " 9: True,\n",
              " 10: False,\n",
              " 11: False,\n",
              " 12: False,\n",
              " 13: False,\n",
              " 14: False}"
            ]
          },
          "metadata": {},
          "execution_count": 35
        }
      ]
    },
    {
      "cell_type": "code",
      "source": [
        "def a(x):\n",
        "  return x*2\n",
        "\n",
        "l=[1,2,3]\n",
        "s =map(a, l)\n",
        "list(s)"
      ],
      "metadata": {
        "colab": {
          "base_uri": "https://localhost:8080/"
        },
        "id": "kYhhylGMSMMW",
        "outputId": "63c4cfcd-638f-4dd2-fe9b-7ac875efb9ca"
      },
      "execution_count": null,
      "outputs": [
        {
          "output_type": "execute_result",
          "data": {
            "text/plain": [
              "[2, 4, 6]"
            ]
          },
          "metadata": {},
          "execution_count": 34
        }
      ]
    },
    {
      "cell_type": "code",
      "source": [
        "# map(function , itrable)\n"
      ],
      "metadata": {
        "colab": {
          "base_uri": "https://localhost:8080/",
          "height": 36
        },
        "id": "eayIZGE9Vvnq",
        "outputId": "1a65786b-fdfd-4c12-adbe-a89251df1461"
      },
      "execution_count": null,
      "outputs": [
        {
          "output_type": "execute_result",
          "data": {
            "text/plain": [
              "'eefeff'"
            ],
            "application/vnd.google.colaboratory.intrinsic+json": {
              "type": "string"
            }
          },
          "metadata": {},
          "execution_count": 31
        }
      ]
    },
    {
      "cell_type": "code",
      "source": [
        "list(filter(lambda x:x%7==0 and x%8==0,range(0,1000)))\n",
        "\n"
      ],
      "metadata": {
        "colab": {
          "base_uri": "https://localhost:8080/"
        },
        "id": "-f9QI_alWGHY",
        "outputId": "5d79556e-beeb-428a-bbfe-afa93f64e1b4"
      },
      "execution_count": null,
      "outputs": [
        {
          "output_type": "execute_result",
          "data": {
            "text/plain": [
              "[0,\n",
              " 56,\n",
              " 112,\n",
              " 168,\n",
              " 224,\n",
              " 280,\n",
              " 336,\n",
              " 392,\n",
              " 448,\n",
              " 504,\n",
              " 560,\n",
              " 616,\n",
              " 672,\n",
              " 728,\n",
              " 784,\n",
              " 840,\n",
              " 896,\n",
              " 952]"
            ]
          },
          "metadata": {},
          "execution_count": 43
        }
      ]
    },
    {
      "cell_type": "code",
      "source": [
        "def add(a,b):\n",
        "  c=a+b\n",
        "  return c ,{a,b}\n",
        "\n",
        "add(5,6)\n"
      ],
      "metadata": {
        "colab": {
          "base_uri": "https://localhost:8080/"
        },
        "id": "W3eoX0DPZMCE",
        "outputId": "a0125f65-76d3-4f6a-aa01-04caa1a5e1a8"
      },
      "execution_count": null,
      "outputs": [
        {
          "output_type": "execute_result",
          "data": {
            "text/plain": [
              "(11, {5, 6})"
            ]
          },
          "metadata": {},
          "execution_count": 53
        }
      ]
    },
    {
      "cell_type": "code",
      "source": [
        "input().split()"
      ],
      "metadata": {
        "colab": {
          "base_uri": "https://localhost:8080/"
        },
        "id": "1Sgll94MbNk_",
        "outputId": "be882b25-2d02-4aed-b803-2f539df5c763"
      },
      "execution_count": null,
      "outputs": [
        {
          "name": "stdout",
          "output_type": "stream",
          "text": [
            "1 2 3\n"
          ]
        },
        {
          "output_type": "execute_result",
          "data": {
            "text/plain": [
              "['1', '2', '3']"
            ]
          },
          "metadata": {},
          "execution_count": 56
        }
      ]
    },
    {
      "cell_type": "code",
      "source": [],
      "metadata": {
        "id": "t2Cj8WERCmbr"
      },
      "execution_count": null,
      "outputs": []
    },
    {
      "cell_type": "code",
      "source": [
        "def fun():\n",
        " t = {float(i) : int(i)**0.5 for i in input('enter the input number:').split()[::-1]}\n",
        " return t, int(sum(t.keys()))"
      ],
      "metadata": {
        "id": "s-ka6hgYeKOb"
      },
      "execution_count": null,
      "outputs": []
    },
    {
      "cell_type": "code",
      "source": [
        "string1 = \"practice problems to drill list comprehension in your head.\"\n",
        "vowels=\"aeiou\"\n",
        "a=list(vowels)\n",
        "a\n",
        "{i: (1,True) if i in a else (0,False) for i in string1 }\n",
        "\n",
        "\n"
      ],
      "metadata": {
        "colab": {
          "base_uri": "https://localhost:8080/"
        },
        "id": "pQMW7duHifRY",
        "outputId": "b379dda0-2530-43e0-ef12-37e334f98309"
      },
      "execution_count": null,
      "outputs": [
        {
          "output_type": "execute_result",
          "data": {
            "text/plain": [
              "{'p': (0, False),\n",
              " 'r': (0, False),\n",
              " 'a': (1, True),\n",
              " 'c': (0, False),\n",
              " 't': (0, False),\n",
              " 'i': (1, True),\n",
              " 'e': (1, True),\n",
              " ' ': (0, False),\n",
              " 'o': (1, True),\n",
              " 'b': (0, False),\n",
              " 'l': (0, False),\n",
              " 'm': (0, False),\n",
              " 's': (0, False),\n",
              " 'd': (0, False),\n",
              " 'h': (0, False),\n",
              " 'n': (0, False),\n",
              " 'y': (0, False),\n",
              " 'u': (1, True),\n",
              " '.': (0, False)}"
            ]
          },
          "metadata": {},
          "execution_count": 65
        }
      ]
    },
    {
      "cell_type": "code",
      "source": [],
      "metadata": {
        "colab": {
          "base_uri": "https://localhost:8080/",
          "height": 36
        },
        "id": "-d0dwWaPlXTg",
        "outputId": "41f3ca07-42ce-4342-e964-204a2c07713e"
      },
      "execution_count": null,
      "outputs": [
        {
          "output_type": "execute_result",
          "data": {
            "text/plain": [
              "'aeiou'"
            ],
            "application/vnd.google.colaboratory.intrinsic+json": {
              "type": "string"
            }
          },
          "metadata": {},
          "execution_count": 59
        }
      ]
    },
    {
      "cell_type": "code",
      "source": [
        "vowels=\"aeiou\"\n",
        "consonants=\"qwertypsdfghjklzxcvbnm\"\n",
        "name =\"hmcfvhjgkj\"\n",
        "\n",
        "vowel_points = sum([5 + i for i, char in enumerate(name) if char in vowels])\n",
        "print(vowel_points)\n",
        "consonants_points=sum([1+j for j , i in enumerate(name) if\n",
        "                      i not in vowels  ])\n",
        "print(consonants_points)\n",
        "if consonants_points==vowel_points:\n",
        "  print(\"youwin\")\n",
        "else:\n",
        "  print(\"b l n t\")\n",
        "\n"
      ],
      "metadata": {
        "id": "0MBUXDZHlcZt",
        "colab": {
          "base_uri": "https://localhost:8080/"
        },
        "outputId": "f142d924-7f5d-427f-d8d5-41433ba9e400"
      },
      "execution_count": null,
      "outputs": [
        {
          "output_type": "stream",
          "name": "stdout",
          "text": [
            "0\n",
            "55\n",
            "b l n t\n"
          ]
        }
      ]
    },
    {
      "cell_type": "code",
      "source": [
        "def result(g,o):\n",
        "  new_list=[]\n",
        "  if  len(set(g))==len(o):\n",
        "\n",
        "     print(\"unique\")\n",
        "     condition= [\"fermi\"  if o[i ] == g [i]   else \"pico\"       for i in  range(len(o))   if o[i] in g ]\n",
        "     print(condition)\n",
        "\n",
        "     if len(condition)==0:\n",
        "            (condition.append(\"bagels\"))\n",
        "\n",
        "            print(condition)\n",
        "\n"
      ],
      "metadata": {
        "id": "SRofsL8MBYL2"
      },
      "execution_count": 55,
      "outputs": []
    },
    {
      "cell_type": "code",
      "source": [
        "result(\"137\",\"462\")"
      ],
      "metadata": {
        "colab": {
          "base_uri": "https://localhost:8080/"
        },
        "id": "UmMzGqb5uis2",
        "outputId": "e5aff6dd-5fd2-4682-db57-19dcaeaa8dda"
      },
      "execution_count": 56,
      "outputs": [
        {
          "output_type": "stream",
          "name": "stdout",
          "text": [
            "unique\n",
            "[]\n",
            "['bagels']\n"
          ]
        }
      ]
    },
    {
      "cell_type": "code",
      "source": [
        "\n",
        "True if 2>5 else '0' if 3<0 else '9'"
      ],
      "metadata": {
        "colab": {
          "base_uri": "https://localhost:8080/",
          "height": 36
        },
        "id": "3VzWjyHfzQyp",
        "outputId": "4e078ce8-6f93-4011-a894-a4635513c5b0"
      },
      "execution_count": null,
      "outputs": [
        {
          "output_type": "execute_result",
          "data": {
            "text/plain": [
              "'9'"
            ],
            "application/vnd.google.colaboratory.intrinsic+json": {
              "type": "string"
            }
          },
          "metadata": {},
          "execution_count": 15
        }
      ]
    },
    {
      "cell_type": "code",
      "source": [],
      "metadata": {
        "id": "O7YMpVZNzQrg"
      },
      "execution_count": null,
      "outputs": []
    },
    {
      "cell_type": "code",
      "source": [
        "# for\n",
        "#    if 1\n",
        "#       if 2:\n",
        "#       else :\n",
        "#       if :\n",
        "#       else:"
      ],
      "metadata": {
        "id": "kdncRrN6uo-u"
      },
      "execution_count": null,
      "outputs": []
    }
  ]
}