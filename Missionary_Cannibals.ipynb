{
  "nbformat": 4,
  "nbformat_minor": 0,
  "metadata": {
    "colab": {
      "provenance": [],
      "authorship_tag": "ABX9TyOdsyddZmDrLRMUwpFzfDD6",
      "include_colab_link": true
    },
    "kernelspec": {
      "name": "python3",
      "display_name": "Python 3"
    },
    "language_info": {
      "name": "python"
    }
  },
  "cells": [
    {
      "cell_type": "markdown",
      "metadata": {
        "id": "view-in-github",
        "colab_type": "text"
      },
      "source": [
        "<a href=\"https://colab.research.google.com/github/yash5891/Python-Programming-Assignments/blob/main/Missionary_Cannibals.ipynb\" target=\"_parent\"><img src=\"https://colab.research.google.com/assets/colab-badge.svg\" alt=\"Open In Colab\"/></a>"
      ]
    },
    {
      "cell_type": "code",
      "execution_count": null,
      "metadata": {
        "id": "h-09N6ZnyMAi"
      },
      "outputs": [],
      "source": [
        "### Your code ###\n",
        "boat_side='right'\n",
        "missionaries_on_right=3\n",
        "cannibals_on_right=3\n",
        "missionaries_on_left=0\n",
        "cannibals_on_left=0\n",
        "\n",
        "print(\"M = \",missionaries_on_left,\" C = \",cannibals_on_left,\"|-----B|\",\"M=\",missionaries_on_right,\"C=\",cannibals_on_right)\n",
        "\n",
        "while 1<2:\n",
        "  missionaries_on_boat=int(input( \"enter the num of missionaries on boat:= \"))\n",
        "  cannibals_on_boat=int(input(\" enter the num of cannibals on boat:= \"))\n",
        "  if 1<=(missionaries_on_boat+cannibals_on_boat)<=2:\n",
        "    print(\"valid\")\n",
        "  else:\n",
        "    print(\"invalid move 1\")\n",
        "    continue\n",
        "  if boat_side==\"right\":\n",
        "    print(\"boat is on right\")\n",
        "    if (missionaries_on_boat>missionaries_on_right or cannibals_on_boat>cannibals_on_right):\n",
        "      print(\"invalid move 2\")\n",
        "      continue\n",
        "    missionaries_on_right= missionaries_on_right - missionaries_on_boat\n",
        "    cannibals_on_right=cannibals_on_right - cannibals_on_boat\n",
        "    missionaries_on_left= missionaries_on_left + missionaries_on_boat\n",
        "    cannibals_on_left=cannibals_on_left + cannibals_on_boat\n",
        "    boat_side=\"left\"\n",
        "\n",
        "    print(\"M = \",missionaries_on_left,\" C = \",cannibals_on_left,\"|B-----|\",\"M=\",missonaries_on_right,\"C=\",cannibals_on_right)\n",
        "  elif boat_side==\"left\":\n",
        "    print(\"boat is on LEFT\")\n",
        "\n",
        "\n",
        "    if (missionaries_on_boat>missionaries_on_left or cannibals_on_boat>cannibals_on_left):\n",
        "      print(\"invalid move 2\")\n",
        "      continue\n",
        "    missionaries_on_left= missionaries_on_left - missionaries_on_boat\n",
        "    cannibals_on_left=cannibals_on_left - cannibals_on_boat\n",
        "    missionaries_on_right=missionaries_on_right + missionaries_on_boat\n",
        "    cannibals_on_right=cannibals_on_right + cannibals_on_boat\n",
        "\n",
        "    boat_side='right'\n",
        "    print(\"M = \",missionaries_on_left,\" C = \",cannibals_on_left,\"|-----B|\",\"M=\",missonaries_on_right,\"C=\",cannibals_on_right)\n",
        "\n",
        "  if missionaries_on_right<cannibals_on_right and missionaries_on_right>0:\n",
        "    print(\"YOU LOSE\")\n",
        "    break\n",
        "  elif missionaries_on_left<cannibals_on_left and missionaries_on_left>0:\n",
        "    print(\"YOU LOSE\")\n",
        "    break\n",
        "  if (missionaries_on_left==cannibals_on_left==3):\n",
        "      print('YOU WON')\n",
        "      break\n",
        "print(\"gameover\")"
      ]
    }
  ]
}