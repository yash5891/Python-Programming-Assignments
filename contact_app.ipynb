{
 "cells": [
  {
   "cell_type": "markdown",
   "metadata": {},
   "source": [
    "# Contact app\n",
    "\n",
    "You have learnt a lot of new things; data structures, string, regex & files. Lets use all our newly acquired knowledge to build a **contact app**, just like the ones in our smartphone.\n",
    "\n",
    "We will not be building a fancy UI, instead we will focus on understanding the programming logic.\n",
    "\n",
    "Lets get started!\n",
    "\n",
    "Think of all the features that your contact app has . . . !\n",
    "- It can show you all the contact names\n",
    "- You can search for contacts (using name)\n",
    "- You can see all the information associated with the contact\n",
    "- You can delete and update contacts\n",
    "\n",
    "Can you think of anything more ? Our contact app should have at least these features. \n",
    "- The app should show us all the contact names\n",
    "- It should allow us to select a contact and view all the information associated with the contact\n",
    "- It should allow us to update contact info & delete contact\n",
    "- Finally, it should show us all the contact names\n",
    "\n",
    "For every contact, we will store the `name`, `number` & `email`. "
   ]
  },
  {
   "cell_type": "markdown",
   "metadata": {},
   "source": [
    "### Data Structure\n",
    "The very first thing that we need to decide is \"What data structure to use?\"\n",
    "\n",
    "To store all the contacts, we can use a list of dictionaries; were each dictionary stores the `name`, `number` & `email`  of the contact. \n",
    "\n",
    "Create a list of dictionaries called `contacts` with 3 dummy contacts.  "
   ]
  },
  {
   "cell_type": "code",
   "execution_count": 16,
   "metadata": {},
   "outputs": [],
   "source": [
    "## your code here\n",
    "contact=[{\"name\":\"yash\",\"number\":750765846,\"email\":\"yashkttykade5891@gmail.com\"},{\"name\":\"n\",\"number\":7676768945,\"email\":\"hshshssh@gmail.com\"},{\"name\":\"bro\",\"number\":74210963,\"email\":\"asdfghjrer@gmail.com\"}]\n"
   ]
  },
  {
   "cell_type": "markdown",
   "metadata": {},
   "source": [
    "### List all contact names\n",
    "Write `show_contacts` function that takes the `contacts` list and prints all the contact names. These names will help us to select the contact later."
   ]
  },
  {
   "cell_type": "code",
   "execution_count": 17,
   "metadata": {},
   "outputs": [],
   "source": [
    "def show_contacts(contact):\n",
    "    print(contact)\n",
    "    \n",
    "    "
   ]
  },
  {
   "cell_type": "code",
   "execution_count": 18,
   "metadata": {},
   "outputs": [
    {
     "name": "stdout",
     "output_type": "stream",
     "text": [
      "[{'name': 'yash', 'number': 750765846, 'email': 'yashkttykade5891@gmail.com'}, {'name': 'n', 'number': 7676768945, 'email': 'hshshssh@gmail.com'}, {'name': 'bro', 'number': 74210963, 'email': 'asdfghjrer@gmail.com'}]\n"
     ]
    }
   ],
   "source": [
    "show_contacts(contact)"
   ]
  },
  {
   "cell_type": "markdown",
   "metadata": {},
   "source": [
    "### Add a new Contact\n",
    "\n",
    "Write `add_contact` function that takes user input and *adds new contact* dictionary to the existing list of `contacts`."
   ]
  },
  {
   "cell_type": "code",
   "execution_count": 2,
   "metadata": {},
   "outputs": [],
   "source": [
    "def add_contact(contacts):\n",
    "    contacts2={\"name\":\"n\",\"number\":8527596412,\"email\":\"werfghikj@gmasil.com\"}\n",
    "    contact.append(contacts2)\n",
    "    print(contact)"
   ]
  },
  {
   "cell_type": "code",
   "execution_count": 20,
   "metadata": {},
   "outputs": [
    {
     "name": "stdout",
     "output_type": "stream",
     "text": [
      "[{'name': 'yash', 'number': 750765846, 'email': 'yashkttykade5891@gmail.com'}, {'name': 'n', 'number': 7676768945, 'email': 'hshshssh@gmail.com'}, {'name': 'bro', 'number': 74210963, 'email': 'asdfghjrer@gmail.com'}, {'name': 'n', 'number': 8527596412, 'email': 'werfghikj@gmasil.com'}]\n"
     ]
    }
   ],
   "source": [
    "add_contact(contact)"
   ]
  },
  {
   "cell_type": "markdown",
   "metadata": {},
   "source": [
    "### Delete Contact\n",
    "\n",
    "Write `delete_contact` function to delete an existing contact by providing `name` of the contact which we want to delete."
   ]
  },
  {
   "cell_type": "code",
   "execution_count": 21,
   "metadata": {},
   "outputs": [],
   "source": [
    "\n",
    "def del_contact(contact,name):\n",
    "\n",
    " for i in contact:\n",
    "    if name == i['name']:\n",
    "       \n",
    "       contact.remove(i)\n",
    "       print(contact)\n",
    "\n",
    "    \n",
    "    \n",
    "\n",
    "    \n",
    "\n",
    "        \n",
    "     \n",
    "\n"
   ]
  },
  {
   "cell_type": "code",
   "execution_count": 22,
   "metadata": {},
   "outputs": [
    {
     "name": "stdout",
     "output_type": "stream",
     "text": [
      "[{'name': 'n', 'number': 7676768945, 'email': 'hshshssh@gmail.com'}, {'name': 'bro', 'number': 74210963, 'email': 'asdfghjrer@gmail.com'}, {'name': 'n', 'number': 8527596412, 'email': 'werfghikj@gmasil.com'}]\n"
     ]
    }
   ],
   "source": [
    "contact\n",
    "name=\"yash\"\n",
    "del_contact(contact,name)"
   ]
  },
  {
   "cell_type": "markdown",
   "metadata": {},
   "source": [
    "### Update Contact details\n",
    "\n",
    "Let's write `update_contact` function which will *update contact details* such as `name`, `email` & `number`. \n",
    "The functions should take `contacts` and `name` as arguments. It should also print the newly added contact."
   ]
  },
  {
   "cell_type": "code",
   "execution_count": 23,
   "metadata": {},
   "outputs": [],
   "source": [
    "def update_contact(contacts, name):\n",
    "    for i in contacts:\n",
    "        if name == i[\"name\"]:\n",
    "           i['email'] = input(f\"Enter the new email for {name}: \")\n",
    "           i['number'] = input(f\"Enter the new number for {name}: \")\n",
    "        # update the contact details in the dictionary\n",
    "         #   contacts[name] = (email, number)\n",
    "        # print the updated contact\n",
    "           print(contacts)\n",
    "         \n"
   ]
  },
  {
   "cell_type": "code",
   "execution_count": 24,
   "metadata": {},
   "outputs": [
    {
     "name": "stdout",
     "output_type": "stream",
     "text": [
      "[{'name': 'yash', 'number': '5', 'email': '@'}, {'name': 'n', 'number': 7676768945, 'email': 'hshshssh@gmail.com'}, {'name': 'bro', 'number': 74210963, 'email': 'asdfghjrer@gmail.com'}]\n"
     ]
    }
   ],
   "source": [
    "contacts=[{\"name\":\"yash\",\"number\":750765846,\"email\":\"yashkttykade5891@gmail.com\"},{\"name\":\"n\",\"number\":7676768945,\"email\":\"hshshssh@gmail.com\"},{\"name\":\"bro\",\"number\":74210963,\"email\":\"asdfghjrer@gmail.com\"}]\n",
    "name=input()\n",
    "update_contact(contacts, name)\n"
   ]
  },
  {
   "cell_type": "code",
   "execution_count": 32,
   "metadata": {},
   "outputs": [
    {
     "data": {
      "text/plain": [
       "{1: 'abc'}"
      ]
     },
     "execution_count": 32,
     "metadata": {},
     "output_type": "execute_result"
    }
   ],
   "source": [
    "dict1 = {1:'hgfg'}\n",
    "dict1[1]='abc'\n",
    "dict1"
   ]
  },
  {
   "cell_type": "markdown",
   "metadata": {},
   "source": [
    "### Open Contact \n",
    "`open_contact` function takes the `contacts` list and a `name` string as input. It prints the contact details if `name` matches some contact name in the `contacts` list, else prints `No match found!`.\n",
    "\n",
    "**Note:** The functions should be case insensitive. "
   ]
  },
  {
   "cell_type": "code",
   "execution_count": 2,
   "metadata": {},
   "outputs": [],
   "source": [
    "def open_contact(contacts, name):\n",
    "    ## your code here\n",
    "    for i in contacts:\n",
    "        if name==i[\"name\"]:\n",
    "            print(\"details of \", name , \"email=\"  ,  i[\"email\"] ,  \"number=\" ,  i[\"number\"])"
   ]
  },
  {
   "cell_type": "code",
   "execution_count": 3,
   "metadata": {},
   "outputs": [
    {
     "name": "stdout",
     "output_type": "stream",
     "text": [
      "details of  bro email= asdfghjrer@gmail.com number= 74210963\n"
     ]
    }
   ],
   "source": [
    "\n",
    "contacts=[{\"name\":\"yash\",\"number\":750765846,\"email\":\"yashkttykade5891@gmail.com\"},{\"name\":\"n\",\"number\":7676768945,\"email\":\"hshshssh@gmail.com\"},{\"name\":\"bro\",\"number\":74210963,\"email\":\"asdfghjrer@gmail.com\"}]\n",
    "name=input()\n",
    "open_contact(contacts, name)"
   ]
  },
  {
   "cell_type": "markdown",
   "metadata": {},
   "source": [
    "We often see *update* & *delete* options after we open a particular contact. It would be great if we can also implement the same. \n",
    "\n",
    "After opening the contact, the program should wait for user input. The user can press `u` to update & `d` delete contact. Any other key press should be ignored\n",
    "\n",
    "Write the updated `open_contact` function below"
   ]
  },
  {
   "cell_type": "code",
   "execution_count": 35,
   "metadata": {},
   "outputs": [],
   "source": [
    "def open_contact_del_update(contacts, name):\n",
    "    ## your code here\n",
    "    user=input()\n",
    "    if user==\"d\":\n",
    "     name=input()\n",
    "     del_contact(contacts,name)\n",
    "    elif user==\"u\":\n",
    "       name=input()\n",
    "       update_contact(contact,name)\n"
   ]
  },
  {
   "cell_type": "code",
   "execution_count": 36,
   "metadata": {},
   "outputs": [
    {
     "name": "stdout",
     "output_type": "stream",
     "text": [
      "[{'name': 'n', 'number': '852', 'email': 'dfghjk'}, {'name': 'bro', 'number': 74210963, 'email': 'asdfghjrer@gmail.com'}, {'name': 'n', 'number': 8527596412, 'email': 'werfghikj@gmasil.com'}]\n"
     ]
    }
   ],
   "source": [
    "open_contact_del_update(contacts, name)"
   ]
  },
  {
   "cell_type": "markdown",
   "metadata": {},
   "source": [
    "### Complete application (using all the above functions in use)\n",
    "\n",
    "We will use an infinite loop to encapsulate our application logic and break only when `q` is pressed. We will use `clear_output()` function from `IPython.display` to clear the output before printing anything new.\n",
    "\n",
    "Below is the pseudo-code to help you build the application logic."
   ]
  },
  {
   "cell_type": "code",
   "execution_count": 5,
   "metadata": {},
   "outputs": [
    {
     "name": "stdout",
     "output_type": "stream",
     "text": [
      "details of  yash email= yashkttykade5891@gmail.com number= 750765846\n",
      "[{'name': 'yash', 'number': 750765846, 'email': 'yashkttykade5891@gmail.com'}, {'name': 'n', 'number': 7676768945, 'email': 'hshshssh@gmail.com'}, {'name': 'bro', 'number': 74210963, 'email': 'asdfghjrer@gmail.com'}, 'yash']\n"
     ]
    }
   ],
   "source": [
    "from IPython.display import clear_output\n",
    "\n",
    "while True:\n",
    "    \n",
    "    \n",
    "    ## show all contacts\n",
    "    \n",
    "    action = input(\"Press 'a' - add contact, 'o' - open contact, 's' - search contact, 'q' - quit\")\n",
    "    if action == 'a':\n",
    "       contact=[{\"name\":\"yash\",\"number\":750765846,\"email\":\"yashkttykade5891@gmail.com\"},{\"name\":\"n\",\"number\":7676768945,\"email\":\"hshshssh@gmail.com\"},{\"name\":\"bro\",\"number\":74210963,\"email\":\"asdfghjrer@gmail.com\"}]\n",
    "       \n",
    "       \n",
    "       add_contact(contact)\n",
    "       print(contact)\n",
    "\n",
    "    elif action == 'o':\n",
    "        name = input(\"Enter name of the contact you want to open. \")        \n",
    "        open_contact(contacts,name)\n",
    "\n",
    "    elif action == 'q':\n",
    "         print(\"action=\",action)\n",
    "         \n",
    "        ## break\n",
    "    \n",
    "    else:\n",
    "        print(\"error key\")\n",
    "        ## print incorrect choice"
   ]
  },
  {
   "cell_type": "markdown",
   "metadata": {},
   "source": [
    "## Using files\n",
    "\n",
    "One major problem with the above approach is \"persistent storage\". Every time you close this notebook, all the new contacts are lost. This happens because `contacts` is a python variable. Its lives inside python session. As soon as the session is killed/terminated, all the varibles are also deleted.\n",
    "\n",
    "To address this problem, we will have to use save the contacts in a disk. What better reason to use files? Instead of using *list of dictionary*, use file to save the contacts. \n",
    "\n",
    "Save every new contact in a new-line and use \" , \" to separate the contact fields. This is how the above contacts should look, when saved in a file.\n",
    "\n",
    "```text\n",
    "vivek, vivek@gmail.com, 9921668254\n",
    "ankur, ankur@gmail.com, 8806807004\n",
    "pranav, pranav@gmail.com, 987654321\n",
    "```\n",
    "\n",
    "You task is to make appropriate changes to the above code to use `contacts.txt` instead of using `contacts` list."
   ]
  },
  {
   "cell_type": "markdown",
   "metadata": {},
   "source": [
    "## Using Regex\n",
    "\n",
    "Yet another problem with our app is \"lack of validation\". While creating a new contact, user is free to enter anything. But why is that a problem? \n",
    "\n",
    "**Input validation** is important to ensure only properly formed data is entering the workflow in an information system, preventing malformed data from persisting in the database and triggering malfunction of various downstream components. Input validation should happen as early as possible in the data flow, preferably as soon as the data is received. [source](https://cheatsheetseries.owasp.org/cheatsheets/Input_Validation_Cheat_Sheet.html)\n",
    "\n",
    "The above paragraph is the complete gist of Input validation. Read it again & ponder for a minute. Its an important concept when building customer facing applications. We would highly recommend you to Google and read more about it.  \n",
    "\n",
    "Use regular expression to validate user input (before you save it to the file). Implement the following:\n",
    "- `Name` should be all alphabets. \" \" should also be allowed.\n",
    "- For `email` refer regex chapter from course material.\n",
    "- `Number` should have 10 digits. Not less, not more. Also, not alphabets should be allowed.\n",
    "- Add a new field `DOB` to each contact. It should follow YYYY-MM-DD format. Then write a regular expression to validate it. Remember, date & month cannot be greater that 31 & 12, respectively. \n",
    "\n",
    "Can you think of any more validations?"
   ]
  },
  {
   "cell_type": "markdown",
   "metadata": {},
   "source": [
    "We really hope you had a wonderful time building this applications. This is how applications are developed in really life. You start with a set of basic functionalities and then you keep adding new features (like persistent storage & validation). As the application grows in size, you might encounter new problems to solve."
   ]
  }
 ],
 "metadata": {
  "kernelspec": {
   "display_name": "Python 3",
   "language": "python",
   "name": "python3"
  },
  "language_info": {
   "codemirror_mode": {
    "name": "ipython",
    "version": 3
   },
   "file_extension": ".py",
   "mimetype": "text/x-python",
   "name": "python",
   "nbconvert_exporter": "python",
   "pygments_lexer": "ipython3",
   "version": "3.10.0"
  },
  "toc": {
   "base_numbering": 1,
   "nav_menu": {},
   "number_sections": true,
   "sideBar": true,
   "skip_h1_title": false,
   "title_cell": "Table of Contents",
   "title_sidebar": "Contents",
   "toc_cell": false,
   "toc_position": {},
   "toc_section_display": true,
   "toc_window_display": false
  }
 },
 "nbformat": 4,
 "nbformat_minor": 4
}
