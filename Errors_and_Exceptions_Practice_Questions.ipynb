{
  "nbformat": 4,
  "nbformat_minor": 0,
  "metadata": {
    "colab": {
      "provenance": [],
      "mount_file_id": "1gt1b5NJqhcGtIeiWdn6_Nj5wEmid0std",
      "authorship_tag": "ABX9TyPneZsD9gMewaBmpiCb3GKe",
      "include_colab_link": true
    },
    "kernelspec": {
      "name": "python3",
      "display_name": "Python 3"
    },
    "language_info": {
      "name": "python"
    }
  },
  "cells": [
    {
      "cell_type": "markdown",
      "metadata": {
        "id": "view-in-github",
        "colab_type": "text"
      },
      "source": [
        "<a href=\"https://colab.research.google.com/github/yash5891/Python-Programming-Assignments/blob/main/Errors_and_Exceptions_Practice_Questions.ipynb\" target=\"_parent\"><img src=\"https://colab.research.google.com/assets/colab-badge.svg\" alt=\"Open In Colab\"/></a>"
      ]
    },
    {
      "cell_type": "code",
      "source": [
        "l1 = [1,2,3,4,5]\n",
        "l2 = [100,200,300,400,500,600,700,800,900]\n",
        "list_append(l1,l2)"
      ],
      "metadata": {
        "colab": {
          "base_uri": "https://localhost:8080/"
        },
        "id": "HMbPbAttMo9L",
        "outputId": "6328f9b8-5f0e-4a54-d684-f36b5bd4f99e"
      },
      "execution_count": null,
      "outputs": [
        {
          "output_type": "stream",
          "name": "stdout",
          "text": [
            "Check the lengths of the list!\n"
          ]
        }
      ]
    },
    {
      "cell_type": "code",
      "source": [],
      "metadata": {
        "id": "U7pwTof5cmDu"
      },
      "execution_count": null,
      "outputs": []
    },
    {
      "cell_type": "code",
      "source": [],
      "metadata": {
        "colab": {
          "base_uri": "https://localhost:8080/"
        },
        "id": "l8rJhUoAMx3D",
        "outputId": "5007d9a5-44bf-458d-f966-b263bb13dd20"
      },
      "execution_count": null,
      "outputs": [
        {
          "output_type": "execute_result",
          "data": {
            "text/plain": [
              "[100, 200, 300, 400, 500, 600, 700, 800, 900]"
            ]
          },
          "metadata": {},
          "execution_count": 38
        }
      ]
    },
    {
      "cell_type": "code",
      "source": [
        "#Correct the following code snippet where a function takes a number from the user as argument whose factorial value is divided by the same number. The factorial value of the number is calculated from another function that has SyntaxError present. Hence, correct the code snippet and make sure to use the try and except clause to handle the ZeroDivisionError and display the error message as well.\n",
        "\n",
        "#ans==\n",
        "def factorial(n):\n",
        "\n",
        "    fact =+ 1\n",
        "    i=+1\n",
        "\n",
        "    while n == i:\n",
        "        fact+= fact * (i)\n",
        "        i = i - 1\n",
        "    return(fact)\n"
      ],
      "metadata": {
        "id": "6DTJCKyBN5UD"
      },
      "execution_count": null,
      "outputs": []
    },
    {
      "cell_type": "code",
      "source": [
        "factorial(3)"
      ],
      "metadata": {
        "colab": {
          "base_uri": "https://localhost:8080/"
        },
        "id": "3rm3tYtITLUk",
        "outputId": "38a90fae-c46a-4409-901c-4ca047e8b93d"
      },
      "execution_count": null,
      "outputs": [
        {
          "output_type": "execute_result",
          "data": {
            "text/plain": [
              "1"
            ]
          },
          "metadata": {},
          "execution_count": 65
        }
      ]
    },
    {
      "cell_type": "code",
      "source": [
        "def factorial_divider(n):\n",
        "  try:\n",
        "    if i in range(1,n):\n",
        "        i=+i\n",
        "        print(i)\n",
        "  except   ZeroDivisionError as  Error :\n",
        "    print(\"zero division error\")\n",
        "\n",
        "\n"
      ],
      "metadata": {
        "id": "eTxjSTbGTcxz"
      },
      "execution_count": null,
      "outputs": []
    },
    {
      "cell_type": "code",
      "source": [
        "\n",
        "def name_modification(name):\n",
        "\n",
        "    new_name = ''\n",
        "    try:\n",
        "        for i in range(len(name)):\n",
        "            new_name=name\n",
        "            new_name=name[i]+len(i)\n",
        "            print(new_name)\n",
        "    except:\n",
        "      print('error')\n",
        "\n",
        "\n",
        "\n",
        "\n",
        "\n",
        "\n",
        "\n",
        "\n",
        "\n",
        "\n",
        "\n",
        "\n",
        "\n",
        "\n",
        "\n"
      ],
      "metadata": {
        "id": "Idp5XnL7VbcL"
      },
      "execution_count": null,
      "outputs": []
    },
    {
      "cell_type": "code",
      "source": [
        "name=\"yash\"\n",
        "name_modification(name)"
      ],
      "metadata": {
        "colab": {
          "base_uri": "https://localhost:8080/"
        },
        "id": "boT69_6VVeH1",
        "outputId": "c212fc34-686b-4d8a-b103-9fdd320c30c0"
      },
      "execution_count": null,
      "outputs": [
        {
          "output_type": "stream",
          "name": "stdout",
          "text": [
            "error\n"
          ]
        }
      ]
    },
    {
      "cell_type": "code",
      "source": [
        "name=\"aiadventures\"\n",
        "try:\n",
        "  for i in range(len(name)):\n",
        "            new_name=name\n",
        "            new_name=name[i]+str(i)\n",
        "            print(new_name)\n",
        "except type() as error :\n",
        "            print(\"error\")\n",
        "else:\n",
        "     pass\n",
        "finally:\n",
        "  print(\"code completed\")\n"
      ],
      "metadata": {
        "colab": {
          "base_uri": "https://localhost:8080/"
        },
        "id": "9tfEQzx-bTKX",
        "outputId": "3b1e1d79-a6f1-4fd1-aa4c-f95e92142e81"
      },
      "execution_count": null,
      "outputs": [
        {
          "output_type": "stream",
          "name": "stdout",
          "text": [
            "a0\n",
            "i1\n",
            "a2\n",
            "d3\n",
            "v4\n",
            "e5\n",
            "n6\n",
            "t7\n",
            "u8\n",
            "r9\n",
            "e10\n",
            "s11\n",
            "code completed\n"
          ]
        }
      ]
    },
    {
      "cell_type": "code",
      "source": [
        "\n",
        "def char_Pattern(name):\n",
        "  for i in range(name):\n",
        "    for j in range(i,name):\n",
        "\n",
        "      print(j,end=\"\")\n",
        "    print()"
      ],
      "metadata": {
        "id": "-WyjonOab762"
      },
      "execution_count": null,
      "outputs": []
    },
    {
      "cell_type": "code",
      "source": [
        "name=input(\"enter the name of any ipl team\")\n",
        "char_Pattern(name)\n"
      ],
      "metadata": {
        "colab": {
          "base_uri": "https://localhost:8080/",
          "height": 331
        },
        "id": "YqPh9yZlffUU",
        "outputId": "2cb61e6d-a08f-4f9f-8189-cfc9b0b833f7"
      },
      "execution_count": null,
      "outputs": [
        {
          "name": "stdout",
          "output_type": "stream",
          "text": [
            "enter the name of any ipl teamcsk\n"
          ]
        },
        {
          "output_type": "error",
          "ename": "TypeError",
          "evalue": "ignored",
          "traceback": [
            "\u001b[0;31m---------------------------------------------------------------------------\u001b[0m",
            "\u001b[0;31mTypeError\u001b[0m                                 Traceback (most recent call last)",
            "\u001b[0;32m<ipython-input-117-77ce48fc8338>\u001b[0m in \u001b[0;36m<cell line: 2>\u001b[0;34m()\u001b[0m\n\u001b[1;32m      1\u001b[0m \u001b[0mname\u001b[0m\u001b[0;34m=\u001b[0m\u001b[0minput\u001b[0m\u001b[0;34m(\u001b[0m\u001b[0;34m\"enter the name of any ipl team\"\u001b[0m\u001b[0;34m)\u001b[0m\u001b[0;34m\u001b[0m\u001b[0;34m\u001b[0m\u001b[0m\n\u001b[0;32m----> 2\u001b[0;31m \u001b[0mchar_Pattern\u001b[0m\u001b[0;34m(\u001b[0m\u001b[0mname\u001b[0m\u001b[0;34m)\u001b[0m\u001b[0;34m\u001b[0m\u001b[0;34m\u001b[0m\u001b[0m\n\u001b[0m",
            "\u001b[0;32m<ipython-input-116-f643496aa8e8>\u001b[0m in \u001b[0;36mchar_Pattern\u001b[0;34m(name)\u001b[0m\n\u001b[1;32m      1\u001b[0m \u001b[0;32mdef\u001b[0m \u001b[0mchar_Pattern\u001b[0m\u001b[0;34m(\u001b[0m\u001b[0mname\u001b[0m\u001b[0;34m)\u001b[0m\u001b[0;34m:\u001b[0m\u001b[0;34m\u001b[0m\u001b[0;34m\u001b[0m\u001b[0m\n\u001b[0;32m----> 2\u001b[0;31m   \u001b[0;32mfor\u001b[0m \u001b[0mi\u001b[0m \u001b[0;32min\u001b[0m \u001b[0mrange\u001b[0m\u001b[0;34m(\u001b[0m\u001b[0mname\u001b[0m\u001b[0;34m)\u001b[0m\u001b[0;34m:\u001b[0m\u001b[0;34m\u001b[0m\u001b[0;34m\u001b[0m\u001b[0m\n\u001b[0m\u001b[1;32m      3\u001b[0m     \u001b[0;32mfor\u001b[0m \u001b[0mj\u001b[0m \u001b[0;32min\u001b[0m \u001b[0mrange\u001b[0m\u001b[0;34m(\u001b[0m\u001b[0mi\u001b[0m\u001b[0;34m,\u001b[0m\u001b[0mname\u001b[0m\u001b[0;34m)\u001b[0m\u001b[0;34m:\u001b[0m\u001b[0;34m\u001b[0m\u001b[0;34m\u001b[0m\u001b[0m\n\u001b[1;32m      4\u001b[0m \u001b[0;34m\u001b[0m\u001b[0m\n\u001b[1;32m      5\u001b[0m       \u001b[0mprint\u001b[0m\u001b[0;34m(\u001b[0m\u001b[0mj\u001b[0m\u001b[0;34m,\u001b[0m\u001b[0mend\u001b[0m\u001b[0;34m=\u001b[0m\u001b[0;34m\"\"\u001b[0m\u001b[0;34m)\u001b[0m\u001b[0;34m\u001b[0m\u001b[0;34m\u001b[0m\u001b[0m\n",
            "\u001b[0;31mTypeError\u001b[0m: 'str' object cannot be interpreted as an integer"
          ]
        }
      ]
    },
    {
      "cell_type": "code",
      "source": [],
      "metadata": {
        "id": "8oU9cb6Jf-1p"
      },
      "execution_count": null,
      "outputs": []
    }
  ]
}