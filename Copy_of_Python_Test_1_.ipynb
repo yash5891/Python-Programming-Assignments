{
  "nbformat": 4,
  "nbformat_minor": 0,
  "metadata": {
    "colab": {
      "provenance": [],
      "include_colab_link": true
    },
    "kernelspec": {
      "name": "python3",
      "display_name": "Python 3"
    },
    "language_info": {
      "name": "python"
    }
  },
  "cells": [
    {
      "cell_type": "markdown",
      "metadata": {
        "id": "view-in-github",
        "colab_type": "text"
      },
      "source": [
        "<a href=\"https://colab.research.google.com/github/yash5891/Python-Programming-Assignments/blob/main/Copy_of_Python_Test_1_.ipynb\" target=\"_parent\"><img src=\"https://colab.research.google.com/assets/colab-badge.svg\" alt=\"Open In Colab\"/></a>"
      ]
    },
    {
      "cell_type": "code",
      "source": [],
      "metadata": {
        "id": "qEoxt5HsxL-I"
      },
      "execution_count": null,
      "outputs": []
    },
    {
      "cell_type": "markdown",
      "source": [
        "\n",
        "\n",
        "\n",
        "\n",
        "\n",
        "\n",
        "\n",
        "\n",
        "\n",
        "\n",
        "\n",
        "\n",
        "#Basics\n",
        "\n",
        "---\n",
        "\n",
        "\n",
        "\n",
        "---\n",
        "\n",
        "\n",
        "###Theory Questions\n",
        "\n",
        "1.   What is an expression?\n",
        "\n",
        "ans=An expression in Python is a combination of values, variables, operators, and functions that produces a result\n",
        "\n",
        "2.  What is a syntax error?\n",
        " the procees in which a code does not run or it is no written python language\n",
        "3.  What is the result of this expression: \"*\" * 10\n",
        "=the following assigned value will be get printed 10 times\n",
        "1. What is the difference between True Division and Floor Division? Use the following code snippet for reference.\n",
        "\n",
        "          10 / 3=true division mean a float value\n",
        "          10 // 3=a integer value\n",
        "2. What is the result of the following?\n",
        "\n",
        "          10 ** 3=1000\n",
        "\n",
        "3. Given (x = 1), what will be the value of after we run (x += 2)?\n",
        "=3\n",
        "5. What is the result of float(1)?\n",
        "1.0\n",
        "6. \"In Python, the maximum value for an integer is 2^63 - 1\". True or False?\n",
        "=true\n",
        "\n",
        "###Coding Question\n",
        "1.  Write a code to find the square root of 328.\n",
        "4. Write a code to round a number in python.\n",
        "6. Write a code to find the roots ( x1 , x2 ) of the following quadratic equation:-\n",
        "         10x^2 - 20x + 30 = 0\n",
        "\n",
        "7. Given are the length of one side and one angle of right-angled-triangle, write a code to calculate the length of the remaining two sides of the triangle.\n",
        "Use the folling image as a reference.\n",
        "\n",
        "  [Hint:- You can use the 'math' library for this question.]\n",
        "\n",
        "  ![image.png](data:image/png;base64,iVBORw0KGgoAAAANSUhEUgAAAUsAAAFXCAYAAAAro2x+AAAPe0lEQVR4nO3dPVIb2d7A4b/emqWAA5dX0FoBOJnI6c1EaJI3m/Bmk4gQskknmsRiBbAC1wTT2kvfYJAQILWOWv3dz1OlKtm0Tgsb/er0J7OiKIoAoNT/df0GAIZALAESiCVAArEESCCWAAnEEiCBWAIkEEuABGIJkEAsARKIJUACsQRIIJYACcQSIIFYAiQQS4AEYgmQQCwBEoglQAKxBEgglgAJxBIggVgCJBBLgARiCZBALAESiCVAArEESCCWAAnEEiCBWAIkEEuABGIJkOCXrt9Amdlstn1eFEWH7wSYut7OLHdDufnz+78DaEsvY1kWRcEEutDLWB5jlgm0bZCx3BBNoC29jOWpB3MEE2haL2NZhVkm0KTexrLqqUKiCTSht7GMOO/cSsEE6tTrWJ7LLBOoy6xo6dKYc67GqSt4rgICqmplZrnvapwumGUCVXW2GX5KuOqcEdo0B6rodJ9ll9ESTeAUnR/gSQ1WldllymsEE0jReSwjmgvmbDZLDqZoAmV6EcuI5mZ4m2CKJnCO3sQyIi2YVTbHN+OeEk2AXb2KZcR5oSoL4anneZplArs6i2Vq2E557bF9lO+DaZYJpOp0ZtlEME8dNzWawLR1vhl+TjDLXnPquIIJlOk8lhHVg1m2OV5l3H2zTBEFInoSy4j6Z5jnjLuJplACG72JZUT1sB1bvqkQA9PRq1hG1BvMc8cF2OhdLCPqC9u+I991jAtMTy9jGdHc0WzBBKrobSwj6gnbqWEVTGCfXscy4vQTzFOWO3VcgN7HMqJfpxUB0zSIWEacf5OMKkfSBRPYGEwsI+q9q1CVcYHpGlQsI2ySA90YXCwj0sJW5RpvwQQOGWQsI9KDeeo13oIJ7DPYWEbYJAfaM+hYRggm0I7BxzJCMIHmjSKWEYIJNGs0sYwQTKA5o4plhGACzRhdLCMEE6jfKGMZIZhAvUYbywjBBOoz6lhGCCZQj9HHMkIwgfNNIpYRggmcZzKxjBBMoLpJxTJCMIFqJhfLCMEETjfJWEYIJnCaycYyQjCBdJOOZYRgAmkmH8sIwQSOE8sXggmUEcsdggkcIpbvCCawj1juIZjAe2J5gGACu8SyhGACG2J5hGACEWKZRDABsUwkmDBtYnkCwYTpEssTCSZMk1hWIJgwPWJZkWDCtIjlGQQTpkMszySYMA1iWQPBhPETy5oIJoybWNZIMGG8xLJmggnjJJYtE0wYJrFsQFnUIgQThkgsGyKYMC5i2SDBhPEQy4YJJoyDWLZAMGH4xLIlggnDJpYtEkwYLrFsmWDCMIllBwQThkcsOyKYMCxi2SHBhOEQy44JJgyDWPbAsWA2NbZgQjqx7IkmoyaYcD6x7BHBhP4Sy54RTOgnsewhwYT+EcueEkzoF7HsMcGE/hDLnhNM6AexHADBhO6J5UAIJnRLLAdEMKE7YjkwggndEMsBEkxon1gOlGBCu8RywAQT2iOWAyeY0A6xHAHBhOaJ5UhMNpjru5jPZjFLeMzv1t2+VwZNLEdkksHM/47n7tbOhPzS9RugXkVRHIzXbDY761dYNDn2+bJYLH+LXz8dXuLy6qK9t8PoiOUITTWYn79ehR7SFJvhIzXJTXJokFiOmGBCfcRy5ASzLut4vLuJ+Xz3CPs85jd38bjnIPv6bv7vMvO7WG9efzN/c+R+Pr/58Nr1413c7K5jPo+bfSugfUULIuLDg3bt+z+o6/+iybGPWi1e1pUVy1Ve5Pnro851ZCXfY0RWLFZvX5Ivs3+/li2LPF+Wvv7f1+bFcpEdXsf7FdA6sZyQUQZzG8uSkC1XReV0vgldVmSL1WuQV8tikcVrFN+87GP4ssWyWL28dvUmjFmRbcdZvEb/XaT1sltiOTGjC+bRWL5GaFWhmKvFsVi9hO9ILBd7Vr479r7gvgz0Gky17JRYTtDogpnnxYet7jwvVst3m8/7YlQ6bvVQ7cYyWx5Y627oD763vFgemL3SLgd4JqgY20Gfi4u4eH9+5cVFXH2/j6diFYvN3z3fxu+PJ4y7c3VQ9vmy4pvL4tvXAyd/Xn6ObLPUt6+xf6mL+PTl5enz35FXfBecTywnanTBPOgq7lfbXMbDX+m1XP/zc/v8yydnu0+dWE7YZIK5M4OLn//E6SfiZFF5YsloiOXETSaYZ3mOv23/Tp5YMv5g7t6Z6MunA/sGoZxYEhHjDubjXw/b54tfr5Jfd/H123bz/ZR9nYyTWLI1xmCuH2/ietvKRZzQyoiLr/FtW8vruNnby3U83s13LmtkrMSSNwYVzMeb7fXZd4+PsV6vXx+Pd3Ezn8fltpRZLFb3cUorIy7i+287R9KvN9eC767jMq5v3X54CtzPkg+KQd0P8zmeH57j+SHi9tAi2SKWf9zH9yo7K6/uI1/+jMvb5+26rh/erymLxW+HzpNkLMws2aurzeaTxr66jyJfxXKxiCzL3n0xiyxbxHKVR/5UMZQvLr4/vawnizdrybJYLFeR509x767DozcrzpkmpK5kzweghdVSg7J4nfN/eCyKfj7oGzNLSjU1wzwWw2Gdh8kUiCVHCSaIJYkEk6kTS5IJJlMmlpxEMJkqseRkgskUiSWVCCZTI5ZUJphMiVhyFsFkKsSSswkmUyCW1EIwGTuxpDaCyZiJJbUSTMZKLKmdYDJGYkkjBJOxEUsaI5iMiVjSKMFkLMSSxgkmYyCWtEIwGTqxpDWCyZCJJa0STIZKLGmdYDJEYkknBJOhEUs6I5gMiVjSKcFkKMSSzgkmQyCW9IJg0ndiSW8IJn0mlvRKV8GEY8SS3ukimGaXHCOW9JJg0jdiSW8JJn0ilvSaYNIXYknvCSZ9IJYMgmDSNbFkMASTLoklgyKYdEUsGRzBpAtiySAJJm0TSwZLMGmTWDJogklbxJLBE0zaIJaMgmDSNLFkNASTJokloyKYNEUsGR3BpAliySgJJnUTS0ZLMKmTWDJqgkldxJLRE0zqIJZMgmByLrFkMgSTc4glkyKYVCWWTI5gUoVYMkmCyanEkskSTE4hlkyaYJJKLJk8wSSFWEIIJseJJbwQTMqIJewQTA4RS3hHMNlHLGEPweQ9sYQDBJNdYgklBJMNsYQjBJMIsYQkgolYQiLBnDaxhBMI5nSJJZxIMKdJLKECwZwesYSKBHNaxBLOIJjTIZZwJsGcBrGEGgjm+Ikl1EQwx00soUaCOV5iCTUTzHESS2iAYI6PWEJDBHNcxBIaJJjjIZbQMMEcB7GEFgjm8IkltEQwh00soScEs9/EElpUFrUIwewzsYSWCeYwiSV0QDCHRyyhI4I5LGIJHRLM4RBL6JhgDoNYQg8IZv+JJfSEYPabWEKPCGZ/iSX0jGD2k1hCDwlm/4gl9JRg9otYQo8dC2ZTYwvmR2IJPddk1AQznVjCAAhm98QSBkIwuyWWMCCC2R2xhIERzG6IJQyQYLZPLGGgBLNdYgkDJpjtEUsYOMFsh1jCCAhm88QSRkIwmyWWMCKC2RyxhJERzGaIJYyQYNZPLGGkBLNeYgkjJpj1EUsYOcGsh1jCBAjm+cQSJkIwzyOWMCGCWZ1YwsQIZjViCRMkmKcTS5gowTyNWEJErB/v4mY+j/lsFrPtYx7zm7t4XCePsh1ntjvOfB43d4+RPEyLBDPdrGjyt7hvVrLnH6aF1cJx67u4+c9tPDyXL5Yt83j6flGyxGPczK/Lx8kWsfrjPq7KhulIWbzO/aw2OXabzCyZsHXcbUOZRbZYxirPI8/zyFfLWGTZdsnn2//E3cGp4TrudkL5Zpx89TrO80NcX97EY4PfUVV9n2HuztQ7U7QgIj48oA9Wiyiy5arIS76+/bldrPYuky+z7TLZcv9Iu+McWqYP9n1W6/rMVh27L/0ws2TSru6LePp+FYe2jK9+Xbz+4ec/e/Y7Psbvt5sp5TL+OLCpfvX/y9jMU5///NHL/ZcR/Z9hdkksoczl523k4sunj1F9/CseXp5m374ejG5cfI1vr7WMH32tZQwjmF3EVSyhxPrHn7E5ZpN9vvz49X9+bp9/+VR25OYivr7WMv7Oa3uLjehTMMuWb5NYwiHru/jP7TaV8e3rxxjmf79+fU9L37j49GX7/Oc/PZ5avuhTMJt4D6f6pdW1QV+t1zv7EfP48ft/48+H55dZZRbL/Ck+7o5cx+vE8kuUTiwHqiiKg1GazWZnzfpOGbts2baIJazvYn55G/tOkcwWq/jj/vABoCnoSzCbWP8pbIZDieeH67iczeMm/TKeUUk5t7GtTfKu912KJVx8j6eiiGLnkeerWC5eD8g8XF/G/PBZ6aPU5tHpc/ZhtrV5Lpawx8XFVXy/f4pi9XqeZflVPONR9UqZNoLZ5exSLKHM1X289vI5bn/fvVjxIl4PcP+MUw5wl59m1J2U4NV1JHtflKuO3cbsUizhiDdX8bxz+Tn93MnXczKPn2bUtpTZ5GYXxeZ52VjH1lW27mNjdzW7FEs4Q/q5k+v48efmeHu/TjOqOpus+zzMU4JZ1zpPIZZwxONfD9vnH67i2bkcsvSa7/WP2LZy8Wtc1fweqzplNnno61XHPvSaPuyf3Ecsma7Hm5jNb8pv7ru+i/9uW7nnKp6L7/HbZiv9+TZ+3zvYv7eCe21lP1KZEsoUTVy+uInmqcFsdHbZyL2M3ome3GIJ3lgtXn8ms0WxXK6KPM9fHqtiucje/MwevLVaviyy3eUWy2K1GWe1LBbZ8du8dWHf5/Kcz+ah8crGLHtN1UdT3CmdCXuMu/l13B65S3pEwp3SH29ifv2w9yqg7Rg9uhro0Azs3M9llbuiNzEbbKIvNsOZsKv4/vR6AvrOjdH/lWWxWK4iz4sjv1IiIq7u4ynPY7XI4u0wWWTZIlZ5Hk89CeUhdQSmbIyyQA9h8mRmCRPT1KwyZR0p66ljpmlmCTSi7rhUmWHW+V6a2LQXS6AR5wazb1ufYgk05pxgbl5fNZp1zy7FEmjUucHcjNH1TFMsgcbVEcxj45w79jFiCbSizmB2McsUS6A1dQVzM1ZKNOuaXYol0OovA6szmMfGq5NYwsR0faDk2HuoGsymvy+xBDpRdzA3Y74ft66IiiXQmSaCuRm37tmmWAIR0e5+y11NBbNuYgkT1If9lruGEMzO7joEcIquA29mCQxC15MusQRIIJYACVqJZdf7GoDh67ojv7S1oq6/UYBz2AwHSCCWAAnEEiCBWAIkEEuABGIJkEAsARKIJUACsQRIIJYACcQSIIFYAiQQS4AEYgmQQCwBEoglQAKxBEgglgAJxBIggVgCJBBLgAT/A32hcFScBuSBAAAAAElFTkSuQmCC)"
      ],
      "metadata": {
        "id": "KnTiiLUVXqAk"
      }
    },
    {
      "cell_type": "code",
      "execution_count": null,
      "metadata": {
        "id": "HORD20JvXlCe",
        "colab": {
          "base_uri": "https://localhost:8080/"
        },
        "outputId": "ee21cc68-a699-4fce-f3bf-bd656083036c"
      },
      "outputs": [
        {
          "output_type": "stream",
          "name": "stdout",
          "text": [
            "18.110770276274835\n"
          ]
        }
      ],
      "source": [
        "#1\n",
        "N=328\n",
        "squareroot=N**0.5\n",
        "print(squareroot)"
      ]
    },
    {
      "cell_type": "code",
      "source": [
        "#2\n",
        "a=float(input(\"num=\"))\n",
        "n=int(a)\n",
        "print(a-n)\n",
        "\n",
        "if  a-n>0.5:\n",
        "  print(n+1)\n",
        "elif a-n<0.5:\n",
        "  print(n)\n",
        "\n"
      ],
      "metadata": {
        "id": "fYFCzvUsHrwZ",
        "colab": {
          "base_uri": "https://localhost:8080/"
        },
        "outputId": "fd49a5f4-7375-4882-a3ed-3c3d52677efd"
      },
      "execution_count": null,
      "outputs": [
        {
          "output_type": "stream",
          "name": "stdout",
          "text": [
            "num=5.55\n",
            "0.5499999999999998\n",
            "6\n"
          ]
        }
      ]
    },
    {
      "cell_type": "code",
      "source": [
        "#4\n",
        "a=10\n",
        "b=20\n",
        "c=30\n",
        "d=(b**2)-(4*a*c)\n",
        "quad=(-b)-(-800**0.5)\n",
        "divide=quad/2*a\n",
        "print(divide)"
      ],
      "metadata": {
        "id": "Cghi4X-CHsF0",
        "colab": {
          "base_uri": "https://localhost:8080/"
        },
        "outputId": "173a00b5-1c79-4e45-d8e4-36719a636c4e"
      },
      "execution_count": null,
      "outputs": [
        {
          "output_type": "stream",
          "name": "stdout",
          "text": [
            "41.42135623730951\n"
          ]
        }
      ]
    },
    {
      "cell_type": "code",
      "source": [
        "import math\n",
        "# Import the math module to use trigonometric functions\n",
        "import math\n",
        "\n",
        "# Ask the user to enter the length of one side and one angle of the right-angled triangle\n",
        "side = float(input(\"Enter the length of one side of the right-angled triangle: \"))\n",
        "angle = float(input(\"Enter the measure of one angle of the right-angled triangle in degrees: \"))\n",
        "\n",
        "# Convert the angle from degrees to radians\n",
        "angle = math.radians(angle)\n",
        "\n",
        "# Use the Pythagorean theorem and trigonometric ratios to calculate the length of the remaining two sides\n",
        "# Assume that the given side is the hypotenuse and the given angle is opposite to one of the legs\n",
        "# Then, use sine to find the length of the opposite leg and cosine to find the length of the adjacent leg\n",
        "opposite = side * math.sin(angle)\n",
        "adjacent = side * math.cos(angle)\n",
        "\n",
        "# Alternatively, assume that the given side is one of the legs and the given angle is adjacent to it\n",
        "# Then, use tangent to find the length of the opposite leg and Pythagorean theorem to find the length of the hypotenuse\n",
        "# opposite = side * math.tan(angle)\n",
        "# hypotenuse = math.sqrt(side**2 + opposite**2)\n",
        "\n",
        "# Print the results\n",
        "print(f\"The length of the remaining two sides are {opposite:.2f} and {adjacent:.2f}\")\n"
      ],
      "metadata": {
        "id": "SpcEcADJPTc7"
      },
      "execution_count": null,
      "outputs": []
    },
    {
      "cell_type": "code",
      "source": [
        "\n",
        "\n"
      ],
      "metadata": {
        "colab": {
          "base_uri": "https://localhost:8080/",
          "height": 210
        },
        "id": "sN9R11qHKvvU",
        "outputId": "6cb5e52d-e55c-4ca5-bca5-e1aae5a37dfb"
      },
      "execution_count": null,
      "outputs": [
        {
          "output_type": "error",
          "ename": "NameError",
          "evalue": "ignored",
          "traceback": [
            "\u001b[0;31m---------------------------------------------------------------------------\u001b[0m",
            "\u001b[0;31mNameError\u001b[0m                                 Traceback (most recent call last)",
            "\u001b[0;32m<ipython-input-35-f1ac44bcb095>\u001b[0m in \u001b[0;36m<cell line: 2>\u001b[0;34m()\u001b[0m\n\u001b[1;32m      1\u001b[0m \u001b[0mhypotenius\u001b[0m\u001b[0;34m=\u001b[0m\u001b[0;36m5\u001b[0m\u001b[0;34m\u001b[0m\u001b[0;34m\u001b[0m\u001b[0m\n\u001b[0;32m----> 2\u001b[0;31m \u001b[0msin\u001b[0m\u001b[0;34m(\u001b[0m\u001b[0;36m30\u001b[0m\u001b[0;34m)\u001b[0m\u001b[0;34m\u001b[0m\u001b[0;34m\u001b[0m\u001b[0m\n\u001b[0m\u001b[1;32m      3\u001b[0m \u001b[0;34m\u001b[0m\u001b[0m\n",
            "\u001b[0;31mNameError\u001b[0m: name 'sin' is not defined"
          ]
        }
      ]
    },
    {
      "cell_type": "code",
      "source": [
        "10==\"10\""
      ],
      "metadata": {
        "id": "X9mncVXjxRaG",
        "colab": {
          "base_uri": "https://localhost:8080/"
        },
        "outputId": "7a321259-b3ba-4882-9dea-cdc18798797f"
      },
      "execution_count": null,
      "outputs": [
        {
          "output_type": "execute_result",
          "data": {
            "text/plain": [
              "False"
            ]
          },
          "metadata": {},
          "execution_count": 12
        }
      ]
    },
    {
      "cell_type": "markdown",
      "source": [
        "#Flow Control\n",
        "\n",
        "---\n",
        "\n",
        "\n",
        "\n",
        "---\n",
        "\n",
        "\n",
        "##Theory Questions\n",
        "1. What is the result of bool(“False”)?\n",
        "=true\n",
        "7. What are the falsy values in Python?\n",
        "=none,false,0,0-0,[],{},(),\" \"\n",
        "8. What is the result of 10 == “10”?\n",
        "=false\n",
        "9. What is the result of “bag” > “apple”?\n",
        "\n",
        "10. What is the result of not(True or False)?=false\n",
        "11. Under what circumstances does the expression 18 <= age < 65  evaluate to True?==if the n is between the given condition it will be true\n",
        "12. What is the output of the following also state why?\n",
        "         (12 and 13) == (13 and 12)\n",
        "==false         \n",
        "8. What is the Order of Precedence for Boolean Operators?\n",
        "True or true==true,True 0r false==true ,false or false==false\n",
        "True and true==true,True and false==false ,false and false==false\n",
        "not(true)=false,not(false)=ture\n",
        "\n",
        "9. What marks the end of a statement block or set in Python?\n",
        "indentation\n",
        "\n",
        "##Coding Questions\n",
        "1. Write a code which accepts 2 values from the user, display the maximum amount of the two and finally create a third variable and store the lower value of the two in it and display it.\n",
        "1. Write a code to find the maximum of two numbers. Accept numbers from the end user.\n",
        "2. Write a code that takes a number and check the following conditions.\n",
        "- If the number is divisible by 4, it should print “Mickey”.\n",
        "- If it is divisible by 3, it should print “Mouse”.\n",
        "- If it is divisible by both 3 and 4, it should print 'MickeyMouse\".\n",
        "- Otherwise, it should print the number as it is.\n",
        "3. Write code to check the speed of drivers. Accept 1 variable from the user and name it \"speed\" and check the foolowing conditions.\n",
        "- If the speed is less than 70, it should print \"OK\".\n",
        "- Otherwise, the driver should allocate one point for every 5 km of speeding (70) and print the total number of points.\n",
        "\n",
        " For example, if the speed is 80, it should print: \"Points: 2\". If the driver gets more than 12 points, the code should print: \"License Suspended\"\n",
        "4. Write code that will have 1 input called \"limit\" and prints all numbers between 0 and that limit with the appropriate label to identify 'BUZZ' and 'FIZZ' numbers. For example: if limit is 3, it should print:\n",
        "        0 BUZZ\n",
        "        1 FIZZ\n",
        "        2 BUZZ\n",
        "        3 FIZZ\n",
        "5. Write a code that accepts a variable known as 'limit' from the end user and prints the sum of multiples of 7 and 8 between 0 and limit. For example, if limit is 35, it should return the sum of 0, 32, 35, 7, 8, 14, 16, 21, 24, 28 which is 185."
      ],
      "metadata": {
        "id": "F6FhfYuBYOJT"
      }
    },
    {
      "cell_type": "code",
      "source": [
        "#Write a code which accepts 2 values from the user, display the maximum amount of the two and finally create a third variable and store the lower value of the two in it and display it.\n",
        "\n",
        "n=int(input('number:='))\n",
        "a=int(input('number:='))\n",
        "f=a+n\n",
        "print(f)\n",
        "if a<n:\n",
        "\n",
        "  print(a)\n",
        "elif a>n:\n",
        "  print(n)\n",
        "\n",
        "\n"
      ],
      "metadata": {
        "id": "zK9RjwVPY9-w",
        "colab": {
          "base_uri": "https://localhost:8080/"
        },
        "outputId": "860ced01-6b40-497b-e0fb-c0cb824a5556"
      },
      "execution_count": null,
      "outputs": [
        {
          "output_type": "stream",
          "name": "stdout",
          "text": [
            "number:=45\n",
            "number:=55\n",
            "100\n",
            "45\n"
          ]
        }
      ]
    },
    {
      "cell_type": "code",
      "source": [
        "#Write a code to find the maximum of two numbers. Accept numbers from the end user.\n",
        "n=int(input('number:='))\n",
        "a=int(input('number:='))\n",
        "f=a+n\n",
        "print(f)\n",
        "if a<n:\n",
        "\n",
        "  print(n)\n",
        "elif a>n:\n",
        "  print(5)\n"
      ],
      "metadata": {
        "id": "0e6i0tk0H61W",
        "colab": {
          "base_uri": "https://localhost:8080/"
        },
        "outputId": "452f5d0d-087f-4c3f-95ca-e9e5e34aef62"
      },
      "execution_count": null,
      "outputs": [
        {
          "output_type": "stream",
          "name": "stdout",
          "text": [
            "number:=55\n",
            "number:=45\n",
            "100\n",
            "55\n"
          ]
        }
      ]
    },
    {
      "cell_type": "code",
      "source": [
        "#Write a code that takes a number and check the following conditions.\n",
        "#If the number is divisible by 4, it should print “Mickey”.\n",
        "#If it is divisible by 3, it should print “Mouse”.\n",
        "#If it is divisible by both 3 and 4, it should print 'MickeyMouse\".\n",
        "#Otherwise, it should print the number as it is.\n",
        "a=int(input(\"num\"))\n",
        "if a%3==0 and a%4==0:\n",
        "\n",
        "  print(\"mickeymouse\")\n",
        "elif a%3==0:\n",
        "  print(\"mouse\")\n",
        "elif  a%4==0:\n",
        "  print(\"mickey\")\n",
        "else:\n",
        "  print(a)\n"
      ],
      "metadata": {
        "id": "RGaxu0XXH68i",
        "colab": {
          "base_uri": "https://localhost:8080/"
        },
        "outputId": "437a6677-f509-48d5-9d6f-31fc2d953a07"
      },
      "execution_count": null,
      "outputs": [
        {
          "output_type": "stream",
          "name": "stdout",
          "text": [
            "num15\n",
            "mouse\n"
          ]
        }
      ]
    },
    {
      "cell_type": "markdown",
      "source": [
        "#Loops\n",
        "\n",
        "---\n",
        "\n",
        "\n",
        "\n",
        "---\n",
        "\n",
        "\n",
        "##Theory Questions\n",
        "1. What does range(1, 10, 2) return?\n",
        "2. Name 3 iterable objects in Python.\n",
        "3. What is the difference between if condition and while loop?\n",
        "4. What is the difference between while and for loop?\n",
        "5. Can we provide more than 3 agruments in range function? State the reason for the same.\n",
        "6. State True or False: Also try to find out the reason for the same if your answer is False.\n",
        "        We Can Create An Infinite Loop Using Range Function.\n",
        "\n",
        "## Coding Questions\n",
        "\n",
        "1. Write a code that accepts a variable called as 'limit' and prints all the prime numbers between 0 and limit.\n",
        "7. Write a code to find all the factors of 24.\n",
        "8. Write a code to find all the prime factors of 100. The output should be as follows:-\n",
        "\n",
        "        Prime Factors of 100:- 2,2,5,5\n",
        "\n",
        " Use the following snippet for reference:-\n",
        "        100 = 100 * 1 (can't divide 1 further)\n",
        "        100 = 50 * 2 (can't divide 2 further)\n",
        "        50 * 2 = 20 * 5 (can't divide 5 further)\n",
        "        20 * 5 = 10 * 2 * 5 (can't divide 2, 5 further)\n",
        "        10 * 2 * 5 = 2 * 5 * 2 * 5 (This is the final answer)\n",
        "\n",
        "4. Write a code that iterates from 1-25.\n",
        "Each loop prints the next prime number and waits for the end user to input 'Y' for yes or 'N' for no.\n",
        "- If the end user's input is 'Y': then output should print the next prime number and waits for the end user to input 'Y' for yes or 'N' for no.\n",
        "- If the end user's input is 'N': then stop the loop."
      ],
      "metadata": {
        "id": "NE-76YAvhhx5"
      }
    },
    {
      "cell_type": "code",
      "source": [
        "#Write a code that accepts a variable called as 'limit' and prints all the prime numbers between 0 and limit\n",
        "limit=int(input(\"number=\"))\n",
        "\n",
        "# if limit> 1:\n",
        "\n",
        "for i in range(2, limit+1):\n",
        "  for j in range(2,i):\n",
        "\n",
        "    if i % j== 0:\n",
        "      # print(limit, \"is not a prime number\")\n",
        "\n",
        "      break\n",
        "  else:\n",
        "           print(i, \"is a prime number\")\n",
        "\n",
        "\n"
      ],
      "metadata": {
        "id": "wVLIR-DxhiVZ",
        "colab": {
          "base_uri": "https://localhost:8080/"
        },
        "outputId": "9208b60a-1e67-4eee-a962-282a24d66a25"
      },
      "execution_count": null,
      "outputs": [
        {
          "output_type": "stream",
          "name": "stdout",
          "text": [
            "number=15\n",
            "2 is a prime number\n",
            "3 is a prime number\n",
            "5 is a prime number\n",
            "7 is a prime number\n",
            "11 is a prime number\n",
            "13 is a prime number\n"
          ]
        }
      ]
    },
    {
      "cell_type": "markdown",
      "source": [
        "5.\n",
        "\n",
        "$$\\sum_{n=0}^{25} \\frac{1}{24} ( \\frac{3}{4} )^n $$"
      ],
      "metadata": {
        "id": "_iaIETUCOjrd"
      }
    },
    {
      "cell_type": "code",
      "source": [
        "# Write a code to find all the factors of 24.\n",
        "\n",
        "n=24\n",
        "for i in range(1,24+1):\n",
        " if  n%i==0:\n",
        "  print(i)"
      ],
      "metadata": {
        "id": "dEmDtXlbH7Lw",
        "colab": {
          "base_uri": "https://localhost:8080/"
        },
        "outputId": "8612fd18-191d-4452-b441-ca00251df1af"
      },
      "execution_count": null,
      "outputs": [
        {
          "output_type": "stream",
          "name": "stdout",
          "text": [
            "1\n",
            "2\n",
            "3\n",
            "4\n",
            "6\n",
            "8\n",
            "12\n",
            "24\n"
          ]
        }
      ]
    },
    {
      "cell_type": "markdown",
      "source": [
        "6.\n",
        "\n",
        "$$\\prod_{n=1}^{25} \\frac{1}{24} ( \\frac{3}{4} )^n $$"
      ],
      "metadata": {
        "id": "VfAz39bIOb86"
      }
    },
    {
      "cell_type": "code",
      "source": [
        "# Write a code to find all the prime factors of 100. The output should be as follows:-\n",
        "\n",
        "#  Prime Factors of 100:- 2,2,5,5\n",
        "num=100\n",
        "for i in range(2,num):\n",
        "  if num%i==0:\n",
        "    print(i)\n",
        "    for j in range(2,i):\n",
        "      if  i%j==0<1:\n",
        "\n",
        "\n",
        "       print(i,\"not a prime no\")\n",
        "       break\n",
        "    else:\n",
        "       (i,\"prime no\")\n",
        "\n",
        "\n",
        "\n"
      ],
      "metadata": {
        "id": "F2AAsqKPH7VW",
        "colab": {
          "base_uri": "https://localhost:8080/"
        },
        "outputId": "f9fdd436-5193-42df-af92-3526d5f724df"
      },
      "execution_count": null,
      "outputs": [
        {
          "output_type": "stream",
          "name": "stdout",
          "text": [
            "2\n",
            "4\n",
            "4 not a prime no\n",
            "5\n",
            "10\n",
            "10 not a prime no\n",
            "20\n",
            "20 not a prime no\n",
            "25\n",
            "25 not a prime no\n",
            "50\n",
            "50 not a prime no\n"
          ]
        }
      ]
    },
    {
      "cell_type": "markdown",
      "source": [
        "7.\n",
        "\n",
        "$$\\sum_{n=1}^{25} 2^{2^{2^{n}}} $$"
      ],
      "metadata": {
        "id": "F2dlQ6aGOxeV"
      }
    },
    {
      "cell_type": "code",
      "source": [
        "n=int(input(\"N=\"))\n",
        "for i in range(1,26):\n"
      ],
      "metadata": {
        "id": "gR-WlVFQchYk",
        "colab": {
          "base_uri": "https://localhost:8080/",
          "height": 227
        },
        "outputId": "cf504725-36ea-4428-8f3b-eac4c09f3c1d"
      },
      "execution_count": null,
      "outputs": [
        {
          "name": "stdout",
          "output_type": "stream",
          "text": [
            "N=1\n"
          ]
        },
        {
          "output_type": "error",
          "ename": "TypeError",
          "evalue": "ignored",
          "traceback": [
            "\u001b[0;31m---------------------------------------------------------------------------\u001b[0m",
            "\u001b[0;31mTypeError\u001b[0m                                 Traceback (most recent call last)",
            "\u001b[0;32m<ipython-input-4-db55ae84fa67>\u001b[0m in \u001b[0;36m<cell line: 2>\u001b[0;34m()\u001b[0m\n\u001b[1;32m      1\u001b[0m \u001b[0mn\u001b[0m\u001b[0;34m=\u001b[0m\u001b[0mint\u001b[0m\u001b[0;34m(\u001b[0m\u001b[0minput\u001b[0m\u001b[0;34m(\u001b[0m\u001b[0;34m\"N=\"\u001b[0m\u001b[0;34m)\u001b[0m\u001b[0;34m)\u001b[0m\u001b[0;34m\u001b[0m\u001b[0;34m\u001b[0m\u001b[0m\n\u001b[1;32m      2\u001b[0m \u001b[0;32mfor\u001b[0m \u001b[0mi\u001b[0m \u001b[0;32min\u001b[0m \u001b[0mrange\u001b[0m\u001b[0;34m(\u001b[0m\u001b[0;36m1\u001b[0m\u001b[0;34m,\u001b[0m\u001b[0;36m26\u001b[0m\u001b[0;34m)\u001b[0m\u001b[0;34m:\u001b[0m\u001b[0;34m\u001b[0m\u001b[0;34m\u001b[0m\u001b[0m\n\u001b[0;32m----> 3\u001b[0;31m  \u001b[0msum\u001b[0m\u001b[0;34m(\u001b[0m\u001b[0;36m2\u001b[0m\u001b[0;34m**\u001b[0m\u001b[0;36m2\u001b[0m\u001b[0;34m**\u001b[0m\u001b[0;36m2\u001b[0m\u001b[0;34m**\u001b[0m\u001b[0mn\u001b[0m\u001b[0;34m)\u001b[0m\u001b[0;34m\u001b[0m\u001b[0;34m\u001b[0m\u001b[0m\n\u001b[0m",
            "\u001b[0;31mTypeError\u001b[0m: 'int' object is not iterable"
          ]
        }
      ]
    },
    {
      "cell_type": "code",
      "source": [],
      "metadata": {
        "id": "JW313X71-qU7"
      },
      "execution_count": null,
      "outputs": []
    }
  ]
}