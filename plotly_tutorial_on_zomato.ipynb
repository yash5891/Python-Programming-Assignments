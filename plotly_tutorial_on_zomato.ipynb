{
  "metadata": {
    "kaggle": {
      "accelerator": "none",
      "dataSources": [
        {
          "sourceId": 4151358,
          "sourceType": "datasetVersion",
          "datasetId": 2451373
        }
      ],
      "dockerImageVersionId": 30646,
      "isInternetEnabled": false,
      "language": "python",
      "sourceType": "notebook",
      "isGpuEnabled": false
    },
    "kernelspec": {
      "name": "python3",
      "display_name": "Python 3",
      "language": "python"
    },
    "language_info": {
      "name": "python",
      "version": "3.10.13",
      "mimetype": "text/x-python",
      "codemirror_mode": {
        "name": "ipython",
        "version": 3
      },
      "pygments_lexer": "ipython3",
      "nbconvert_exporter": "python",
      "file_extension": ".py"
    },
    "papermill": {
      "default_parameters": {},
      "duration": 37.579889,
      "end_time": "2022-10-15T10:26:01.110094",
      "environment_variables": {},
      "exception": null,
      "input_path": "__notebook__.ipynb",
      "output_path": "__notebook__.ipynb",
      "parameters": {},
      "start_time": "2022-10-15T10:25:23.530205",
      "version": "2.3.4"
    },
    "colab": {
      "provenance": [],
      "include_colab_link": true
    }
  },
  "nbformat_minor": 0,
  "nbformat": 4,
  "cells": [
    {
      "cell_type": "markdown",
      "metadata": {
        "id": "view-in-github",
        "colab_type": "text"
      },
      "source": [
        "<a href=\"https://colab.research.google.com/github/yash5891/Python-Programming-Assignments/blob/main/plotly_tutorial_on_zomato.ipynb\" target=\"_parent\"><img src=\"https://colab.research.google.com/assets/colab-badge.svg\" alt=\"Open In Colab\"/></a>"
      ]
    },
    {
      "cell_type": "markdown",
      "source": [
        "# ***About Dataset:***\n",
        "Zomato is an Indian multinational restaurant aggregator and food delivery company founded by Deepinder Goyal and Pankaj Chaddah in 2008. Zomato provides information, menus and user-reviews of restaurants as well as food delivery options from partner restaurants in select cities.\n",
        "\n",
        "This dataset containing information of food restraunts in banglaore who are working with Zomato.The data was scraped from Zomato in two phase. After going through the structure of the website I found.\n",
        "\n",
        "for each neighborhood there are 6-7 category of restaurants viz. Buffet, Cafes, Delivery, Desserts, Dine-out, Drinks & nightlife, Pubs and bars. So, here we are trying to find the best restaurants for customer depends on their need."
      ],
      "metadata": {
        "papermill": {
          "duration": 0.020996,
          "end_time": "2022-10-15T10:25:32.885067",
          "exception": false,
          "start_time": "2022-10-15T10:25:32.864071",
          "status": "completed"
        },
        "tags": [],
        "id": "YNA10pNHw-dP"
      }
    },
    {
      "cell_type": "markdown",
      "source": [
        "# ***Exploratory Analysis:***\n",
        "To begin this exploratory analysis, first to import libraries and define functions for plotting the data. Depending on the data, not all plots will be made."
      ],
      "metadata": {
        "papermill": {
          "duration": 0.020905,
          "end_time": "2022-10-15T10:25:32.926966",
          "exception": false,
          "start_time": "2022-10-15T10:25:32.906061",
          "status": "completed"
        },
        "tags": [],
        "id": "Kge9If2kw-dR"
      }
    },
    {
      "cell_type": "code",
      "source": [
        "# This Python 3 environment comes with many helpful analytics libraries installed\n",
        "# It is defined by the kaggle/python Docker image: https://github.com/kaggle/docker-python\n",
        "# For example, here's several helpful packages to load\n",
        "\n",
        "import numpy as np # linear algebra\n",
        "import pandas as pd # data processing, CSV file I/O (e.g. pd.read_csv)\n",
        "import seaborn as sns\n",
        "import matplotlib.pyplot as plt\n",
        "import plotly.express as px\n",
        "%matplotlib inline\n",
        "\n",
        "# Input data files are available in the read-only \"../input/\" directory\n",
        "# For example, running this (by clicking run or pressing Shift+Enter) will list all files under the input directory\n",
        "\n",
        "import os\n",
        "for dirname, _, filenames in os.walk('/kaggle/input'):\n",
        "    for filename in filenames:\n",
        "        print(os.path.join(dirname, filename))\n",
        "\n",
        "# You can write up to 20GB to the current directory (/kaggle/working/) that gets preserved as output when you create a version using \"Save & Run All\"\n",
        "# You can also write temporary files to /kaggle/temp/, but they won't be saved outside of the current session"
      ],
      "metadata": {
        "_cell_guid": "b1076dfc-b9ad-4769-8c92-a6c4dae69d19",
        "_uuid": "8f2839f25d086af736a60e9eeb907d3b93b6e0e5",
        "papermill": {
          "duration": 1.192119,
          "end_time": "2022-10-15T10:25:34.140412",
          "exception": false,
          "start_time": "2022-10-15T10:25:32.948293",
          "status": "completed"
        },
        "tags": [],
        "execution": {
          "iopub.status.busy": "2024-02-21T17:00:44.996871Z",
          "iopub.execute_input": "2024-02-21T17:00:44.997341Z",
          "iopub.status.idle": "2024-02-21T17:00:45.011133Z",
          "shell.execute_reply.started": "2024-02-21T17:00:44.997308Z",
          "shell.execute_reply": "2024-02-21T17:00:45.009935Z"
        },
        "trusted": true,
        "id": "XFWjnSZJw-dR"
      },
      "execution_count": null,
      "outputs": []
    },
    {
      "cell_type": "markdown",
      "source": [
        "# ***Data cleaning:-***\n",
        "* Deleting redundant columns\n",
        "* Renaming the columns\n",
        "* Dropping duplicates\n",
        "* Cleaning the individual columns\n",
        "* Remove the NaN values from the dataset\n",
        "* Check for some more transformations"
      ],
      "metadata": {
        "papermill": {
          "duration": 0.01864,
          "end_time": "2022-10-15T10:25:34.178139",
          "exception": false,
          "start_time": "2022-10-15T10:25:34.159499",
          "status": "completed"
        },
        "tags": [],
        "id": "EN2RF__Pw-dT"
      }
    },
    {
      "cell_type": "markdown",
      "source": [
        "### **Reading CSV:**"
      ],
      "metadata": {
        "papermill": {
          "duration": 0.018806,
          "end_time": "2022-10-15T10:25:34.215737",
          "exception": false,
          "start_time": "2022-10-15T10:25:34.196931",
          "status": "completed"
        },
        "tags": [],
        "id": "c2JNLhfuw-dU"
      }
    },
    {
      "cell_type": "code",
      "source": [
        "df=pd.read_csv('/kaggle/input/zomato-eda/zomato.csv')\n",
        "df.head(5)"
      ],
      "metadata": {
        "papermill": {
          "duration": 12.779321,
          "end_time": "2022-10-15T10:25:47.017825",
          "exception": false,
          "start_time": "2022-10-15T10:25:34.238504",
          "status": "completed"
        },
        "tags": [],
        "execution": {
          "iopub.status.busy": "2024-02-21T17:00:45.013665Z",
          "iopub.execute_input": "2024-02-21T17:00:45.014491Z",
          "iopub.status.idle": "2024-02-21T17:00:51.402008Z",
          "shell.execute_reply.started": "2024-02-21T17:00:45.014447Z",
          "shell.execute_reply": "2024-02-21T17:00:51.400693Z"
        },
        "trusted": true,
        "id": "wlCQqZ41w-dU"
      },
      "execution_count": null,
      "outputs": []
    },
    {
      "cell_type": "code",
      "source": [
        "df.shape"
      ],
      "metadata": {
        "papermill": {
          "duration": 0.02942,
          "end_time": "2022-10-15T10:25:47.066275",
          "exception": false,
          "start_time": "2022-10-15T10:25:47.036855",
          "status": "completed"
        },
        "tags": [],
        "execution": {
          "iopub.status.busy": "2024-02-21T17:00:51.403269Z",
          "iopub.execute_input": "2024-02-21T17:00:51.403598Z",
          "iopub.status.idle": "2024-02-21T17:00:51.409322Z",
          "shell.execute_reply.started": "2024-02-21T17:00:51.403572Z",
          "shell.execute_reply": "2024-02-21T17:00:51.408542Z"
        },
        "trusted": true,
        "id": "LbXESbw_w-dU"
      },
      "execution_count": null,
      "outputs": []
    },
    {
      "cell_type": "code",
      "source": [
        "df.columns"
      ],
      "metadata": {
        "papermill": {
          "duration": 0.030101,
          "end_time": "2022-10-15T10:25:47.153283",
          "exception": false,
          "start_time": "2022-10-15T10:25:47.123182",
          "status": "completed"
        },
        "tags": [],
        "execution": {
          "iopub.status.busy": "2024-02-21T17:00:51.411309Z",
          "iopub.execute_input": "2024-02-21T17:00:51.412013Z",
          "iopub.status.idle": "2024-02-21T17:00:51.426113Z",
          "shell.execute_reply.started": "2024-02-21T17:00:51.411983Z",
          "shell.execute_reply": "2024-02-21T17:00:51.425142Z"
        },
        "trusted": true,
        "id": "XHJA-j46w-dU"
      },
      "execution_count": null,
      "outputs": []
    },
    {
      "cell_type": "code",
      "source": [
        "df.index"
      ],
      "metadata": {
        "papermill": {
          "duration": 0.029794,
          "end_time": "2022-10-15T10:25:47.202329",
          "exception": false,
          "start_time": "2022-10-15T10:25:47.172535",
          "status": "completed"
        },
        "tags": [],
        "execution": {
          "iopub.status.busy": "2024-02-21T17:00:51.427426Z",
          "iopub.execute_input": "2024-02-21T17:00:51.427777Z",
          "iopub.status.idle": "2024-02-21T17:00:51.440295Z",
          "shell.execute_reply.started": "2024-02-21T17:00:51.427737Z",
          "shell.execute_reply": "2024-02-21T17:00:51.439143Z"
        },
        "trusted": true,
        "id": "kv6Kk0Svw-dU"
      },
      "execution_count": null,
      "outputs": []
    },
    {
      "cell_type": "code",
      "source": [
        "df.info()"
      ],
      "metadata": {
        "papermill": {
          "duration": 0.092183,
          "end_time": "2022-10-15T10:25:47.313966",
          "exception": false,
          "start_time": "2022-10-15T10:25:47.221783",
          "status": "completed"
        },
        "tags": [],
        "execution": {
          "iopub.status.busy": "2024-02-21T17:00:51.441675Z",
          "iopub.execute_input": "2024-02-21T17:00:51.442013Z",
          "iopub.status.idle": "2024-02-21T17:00:51.567855Z",
          "shell.execute_reply.started": "2024-02-21T17:00:51.441987Z",
          "shell.execute_reply": "2024-02-21T17:00:51.566809Z"
        },
        "trusted": true,
        "id": "XaPmOGbkw-dV"
      },
      "execution_count": null,
      "outputs": []
    },
    {
      "cell_type": "markdown",
      "source": [
        "### **Droping the unnecessary columns:-**\n",
        "* Unnecessary column are those columns which are not required for analysis.\n",
        "* so we can drop those columns\n",
        "* eg:-Columns such as Url,address,Phone,menu item,dish liked"
      ],
      "metadata": {
        "papermill": {
          "duration": 0.019302,
          "end_time": "2022-10-15T10:25:47.353166",
          "exception": false,
          "start_time": "2022-10-15T10:25:47.333864",
          "status": "completed"
        },
        "tags": [],
        "id": "0Vwh65fyw-dV"
      }
    },
    {
      "cell_type": "code",
      "source": [
        "df.drop(['url','address','phone','menu_item','dish_liked','reviews_list','listed_in(city)'],axis=1,inplace=True)\n",
        "df.head(5)"
      ],
      "metadata": {
        "papermill": {
          "duration": 0.048845,
          "end_time": "2022-10-15T10:25:47.421357",
          "exception": false,
          "start_time": "2022-10-15T10:25:47.372512",
          "status": "completed"
        },
        "tags": [],
        "execution": {
          "iopub.status.busy": "2024-02-21T17:00:51.569115Z",
          "iopub.execute_input": "2024-02-21T17:00:51.570116Z",
          "iopub.status.idle": "2024-02-21T17:00:51.596066Z",
          "shell.execute_reply.started": "2024-02-21T17:00:51.570086Z",
          "shell.execute_reply": "2024-02-21T17:00:51.594618Z"
        },
        "trusted": true,
        "id": "1G4GF91bw-dV"
      },
      "execution_count": null,
      "outputs": []
    },
    {
      "cell_type": "code",
      "source": [
        "df.info()"
      ],
      "metadata": {
        "papermill": {
          "duration": 0.056498,
          "end_time": "2022-10-15T10:25:47.497622",
          "exception": false,
          "start_time": "2022-10-15T10:25:47.441124",
          "status": "completed"
        },
        "tags": [],
        "execution": {
          "iopub.status.busy": "2024-02-21T17:00:51.597813Z",
          "iopub.execute_input": "2024-02-21T17:00:51.59835Z",
          "iopub.status.idle": "2024-02-21T17:00:51.661386Z",
          "shell.execute_reply.started": "2024-02-21T17:00:51.598309Z",
          "shell.execute_reply": "2024-02-21T17:00:51.660297Z"
        },
        "trusted": true,
        "id": "urxgOSfsw-dW"
      },
      "execution_count": null,
      "outputs": []
    },
    {
      "cell_type": "markdown",
      "source": [
        "### **Checking the null values by columns:-**\n",
        "Here we will get to know the count of null value column by column."
      ],
      "metadata": {
        "papermill": {
          "duration": 0.019604,
          "end_time": "2022-10-15T10:25:47.537743",
          "exception": false,
          "start_time": "2022-10-15T10:25:47.518139",
          "status": "completed"
        },
        "tags": [],
        "id": "icSRn8nyw-dW"
      }
    },
    {
      "cell_type": "code",
      "source": [
        "df.isnull().sum()"
      ],
      "metadata": {
        "papermill": {
          "duration": 0.053978,
          "end_time": "2022-10-15T10:25:47.611725",
          "exception": false,
          "start_time": "2022-10-15T10:25:47.557747",
          "status": "completed"
        },
        "tags": [],
        "execution": {
          "iopub.status.busy": "2024-02-21T17:00:51.662443Z",
          "iopub.execute_input": "2024-02-21T17:00:51.662809Z",
          "iopub.status.idle": "2024-02-21T17:00:51.722194Z",
          "shell.execute_reply.started": "2024-02-21T17:00:51.66278Z",
          "shell.execute_reply": "2024-02-21T17:00:51.721158Z"
        },
        "trusted": true,
        "id": "36uY0e9Gw-dW"
      },
      "execution_count": null,
      "outputs": []
    },
    {
      "cell_type": "code",
      "source": [
        "df.isnull().sum().sum() #Total null/NaN values"
      ],
      "metadata": {
        "papermill": {
          "duration": 0.052744,
          "end_time": "2022-10-15T10:25:47.684896",
          "exception": false,
          "start_time": "2022-10-15T10:25:47.632152",
          "status": "completed"
        },
        "tags": [],
        "execution": {
          "iopub.status.busy": "2024-02-21T17:00:51.72782Z",
          "iopub.execute_input": "2024-02-21T17:00:51.728188Z",
          "iopub.status.idle": "2024-02-21T17:00:51.786637Z",
          "shell.execute_reply.started": "2024-02-21T17:00:51.72816Z",
          "shell.execute_reply": "2024-02-21T17:00:51.785428Z"
        },
        "trusted": true,
        "id": "L3XeY9zHw-dW"
      },
      "execution_count": null,
      "outputs": []
    },
    {
      "cell_type": "markdown",
      "source": [
        "### **Renaming columns:-**\n",
        "Changing the names of columns for better understanding"
      ],
      "metadata": {
        "papermill": {
          "duration": 0.019798,
          "end_time": "2022-10-15T10:25:47.724931",
          "exception": false,
          "start_time": "2022-10-15T10:25:47.705133",
          "status": "completed"
        },
        "tags": [],
        "id": "zG6eTi75w-dW"
      }
    },
    {
      "cell_type": "code",
      "source": [
        "df.rename(columns={'name':'restaurants','book_table':'booking','listed_in(city)':'city','rate':'rating','approx_cost(for two people)':'cost','listed_in(type)':'types'},inplace=True)\n",
        "df.head(5)"
      ],
      "metadata": {
        "papermill": {
          "duration": 0.039622,
          "end_time": "2022-10-15T10:25:47.784831",
          "exception": false,
          "start_time": "2022-10-15T10:25:47.745209",
          "status": "completed"
        },
        "tags": [],
        "execution": {
          "iopub.status.busy": "2024-02-21T17:00:51.788326Z",
          "iopub.execute_input": "2024-02-21T17:00:51.788737Z",
          "iopub.status.idle": "2024-02-21T17:00:51.808908Z",
          "shell.execute_reply.started": "2024-02-21T17:00:51.788707Z",
          "shell.execute_reply": "2024-02-21T17:00:51.807695Z"
        },
        "trusted": true,
        "id": "exE_QTUOw-dW"
      },
      "execution_count": null,
      "outputs": []
    },
    {
      "cell_type": "markdown",
      "source": [
        "### **Droping NaN values:-**\n",
        "Droping out NaN values helps for getting better result and understanding."
      ],
      "metadata": {
        "papermill": {
          "duration": 0.019994,
          "end_time": "2022-10-15T10:25:47.825154",
          "exception": false,
          "start_time": "2022-10-15T10:25:47.80516",
          "status": "completed"
        },
        "tags": [],
        "id": "GXhqGOt-w-dW"
      }
    },
    {
      "cell_type": "code",
      "source": [
        "len(df)"
      ],
      "metadata": {
        "papermill": {
          "duration": 0.031249,
          "end_time": "2022-10-15T10:25:47.876506",
          "exception": false,
          "start_time": "2022-10-15T10:25:47.845257",
          "status": "completed"
        },
        "tags": [],
        "execution": {
          "iopub.status.busy": "2024-02-21T17:00:51.811457Z",
          "iopub.execute_input": "2024-02-21T17:00:51.811956Z",
          "iopub.status.idle": "2024-02-21T17:00:51.821629Z",
          "shell.execute_reply.started": "2024-02-21T17:00:51.811924Z",
          "shell.execute_reply": "2024-02-21T17:00:51.820494Z"
        },
        "trusted": true,
        "id": "9pgdyLx1w-dX"
      },
      "execution_count": null,
      "outputs": []
    },
    {
      "cell_type": "code",
      "source": [
        "df.dropna(inplace=True)"
      ],
      "metadata": {
        "papermill": {
          "duration": 0.056961,
          "end_time": "2022-10-15T10:25:47.954543",
          "exception": false,
          "start_time": "2022-10-15T10:25:47.897582",
          "status": "completed"
        },
        "tags": [],
        "execution": {
          "iopub.status.busy": "2024-02-21T17:00:51.822997Z",
          "iopub.execute_input": "2024-02-21T17:00:51.823316Z",
          "iopub.status.idle": "2024-02-21T17:00:51.890568Z",
          "shell.execute_reply.started": "2024-02-21T17:00:51.82329Z",
          "shell.execute_reply": "2024-02-21T17:00:51.889428Z"
        },
        "trusted": true,
        "id": "0MfYgAsFw-dX"
      },
      "execution_count": null,
      "outputs": []
    },
    {
      "cell_type": "code",
      "source": [
        "df.isnull().values.any()"
      ],
      "metadata": {
        "papermill": {
          "duration": 0.04826,
          "end_time": "2022-10-15T10:25:48.023162",
          "exception": false,
          "start_time": "2022-10-15T10:25:47.974902",
          "status": "completed"
        },
        "tags": [],
        "execution": {
          "iopub.status.busy": "2024-02-21T17:00:51.892483Z",
          "iopub.execute_input": "2024-02-21T17:00:51.89301Z",
          "iopub.status.idle": "2024-02-21T17:00:51.943058Z",
          "shell.execute_reply.started": "2024-02-21T17:00:51.892973Z",
          "shell.execute_reply": "2024-02-21T17:00:51.941641Z"
        },
        "trusted": true,
        "id": "eE1cjJs7w-dX"
      },
      "execution_count": null,
      "outputs": []
    },
    {
      "cell_type": "code",
      "source": [
        "df.info()"
      ],
      "metadata": {
        "papermill": {
          "duration": 0.053694,
          "end_time": "2022-10-15T10:25:48.097136",
          "exception": false,
          "start_time": "2022-10-15T10:25:48.043442",
          "status": "completed"
        },
        "tags": [],
        "execution": {
          "iopub.status.busy": "2024-02-21T17:00:51.944779Z",
          "iopub.execute_input": "2024-02-21T17:00:51.945409Z",
          "iopub.status.idle": "2024-02-21T17:00:52.00205Z",
          "shell.execute_reply.started": "2024-02-21T17:00:51.945379Z",
          "shell.execute_reply": "2024-02-21T17:00:52.000931Z"
        },
        "trusted": true,
        "id": "v6ku4Dc2w-dX"
      },
      "execution_count": null,
      "outputs": []
    },
    {
      "cell_type": "markdown",
      "source": [
        "### **Finding out the duplicate rows:-**\n",
        "* Helps to find the same repeated rows.\n",
        "* Then removing the duplicate rows for understanding the data."
      ],
      "metadata": {
        "papermill": {
          "duration": 0.019901,
          "end_time": "2022-10-15T10:25:48.137345",
          "exception": false,
          "start_time": "2022-10-15T10:25:48.117444",
          "status": "completed"
        },
        "tags": [],
        "id": "GXzG2wmVw-dX"
      }
    },
    {
      "cell_type": "code",
      "source": [
        "df[df.duplicated()].count().sum()"
      ],
      "metadata": {
        "papermill": {
          "duration": 0.082444,
          "end_time": "2022-10-15T10:25:48.239991",
          "exception": false,
          "start_time": "2022-10-15T10:25:48.157547",
          "status": "completed"
        },
        "tags": [],
        "execution": {
          "iopub.status.busy": "2024-02-21T17:00:52.003197Z",
          "iopub.execute_input": "2024-02-21T17:00:52.003521Z",
          "iopub.status.idle": "2024-02-21T17:00:52.074047Z",
          "shell.execute_reply.started": "2024-02-21T17:00:52.003495Z",
          "shell.execute_reply": "2024-02-21T17:00:52.073155Z"
        },
        "trusted": true,
        "id": "MP8JcxY4w-dX"
      },
      "execution_count": null,
      "outputs": []
    },
    {
      "cell_type": "code",
      "source": [
        "df.drop_duplicates(inplace=True)"
      ],
      "metadata": {
        "papermill": {
          "duration": 0.075632,
          "end_time": "2022-10-15T10:25:48.336344",
          "exception": false,
          "start_time": "2022-10-15T10:25:48.260712",
          "status": "completed"
        },
        "tags": [],
        "execution": {
          "iopub.status.busy": "2024-02-21T17:00:52.075683Z",
          "iopub.execute_input": "2024-02-21T17:00:52.076039Z",
          "iopub.status.idle": "2024-02-21T17:00:52.131464Z",
          "shell.execute_reply.started": "2024-02-21T17:00:52.07601Z",
          "shell.execute_reply": "2024-02-21T17:00:52.13034Z"
        },
        "trusted": true,
        "id": "yUkQgCNow-dX"
      },
      "execution_count": null,
      "outputs": []
    },
    {
      "cell_type": "code",
      "source": [
        "#Shows the count or rows and columns after removing the duplicates\n",
        "df.shape"
      ],
      "metadata": {
        "papermill": {
          "duration": 0.031333,
          "end_time": "2022-10-15T10:25:48.389436",
          "exception": false,
          "start_time": "2022-10-15T10:25:48.358103",
          "status": "completed"
        },
        "tags": [],
        "execution": {
          "iopub.status.busy": "2024-02-21T17:00:52.133619Z",
          "iopub.execute_input": "2024-02-21T17:00:52.134002Z",
          "iopub.status.idle": "2024-02-21T17:00:52.140578Z",
          "shell.execute_reply.started": "2024-02-21T17:00:52.133972Z",
          "shell.execute_reply": "2024-02-21T17:00:52.13947Z"
        },
        "trusted": true,
        "id": "sFPoTzntw-dX"
      },
      "execution_count": null,
      "outputs": []
    },
    {
      "cell_type": "code",
      "source": [
        "#showing number of duplicate count after removing it\n",
        "df[df.duplicated()].count().sum()"
      ],
      "metadata": {
        "papermill": {
          "duration": 0.062094,
          "end_time": "2022-10-15T10:25:48.472318",
          "exception": false,
          "start_time": "2022-10-15T10:25:48.410224",
          "status": "completed"
        },
        "tags": [],
        "execution": {
          "iopub.status.busy": "2024-02-21T17:00:52.14222Z",
          "iopub.execute_input": "2024-02-21T17:00:52.142656Z",
          "iopub.status.idle": "2024-02-21T17:00:52.189177Z",
          "shell.execute_reply.started": "2024-02-21T17:00:52.14262Z",
          "shell.execute_reply": "2024-02-21T17:00:52.18797Z"
        },
        "trusted": true,
        "id": "gnYBB-2Kw-dX"
      },
      "execution_count": null,
      "outputs": []
    },
    {
      "cell_type": "markdown",
      "source": [
        "### **Cleaning individual columns**:-"
      ],
      "metadata": {
        "papermill": {
          "duration": 0.020433,
          "end_time": "2022-10-15T10:25:48.513487",
          "exception": false,
          "start_time": "2022-10-15T10:25:48.493054",
          "status": "completed"
        },
        "tags": [],
        "id": "KxFVEF3ow-dX"
      }
    },
    {
      "cell_type": "markdown",
      "source": [
        "***column:-ratings***\n"
      ],
      "metadata": {
        "papermill": {
          "duration": 0.020328,
          "end_time": "2022-10-15T10:25:48.554562",
          "exception": false,
          "start_time": "2022-10-15T10:25:48.534234",
          "status": "completed"
        },
        "tags": [],
        "id": "9nbGO15Pw-dX"
      }
    },
    {
      "cell_type": "code",
      "source": [
        "df['rating'].unique()"
      ],
      "metadata": {
        "papermill": {
          "duration": 0.035035,
          "end_time": "2022-10-15T10:25:48.610319",
          "exception": false,
          "start_time": "2022-10-15T10:25:48.575284",
          "status": "completed"
        },
        "tags": [],
        "execution": {
          "iopub.status.busy": "2024-02-21T17:00:52.190646Z",
          "iopub.execute_input": "2024-02-21T17:00:52.191082Z",
          "iopub.status.idle": "2024-02-21T17:00:52.201309Z",
          "shell.execute_reply.started": "2024-02-21T17:00:52.191052Z",
          "shell.execute_reply": "2024-02-21T17:00:52.200186Z"
        },
        "trusted": true,
        "id": "cCg7JI86w-dX"
      },
      "execution_count": null,
      "outputs": []
    },
    {
      "cell_type": "code",
      "source": [
        "df['rating'].replace(\"NEW|-\",'0',regex=True).replace('/5','',regex=True).unique()"
      ],
      "metadata": {
        "execution": {
          "iopub.status.busy": "2024-02-21T17:00:52.202833Z",
          "iopub.execute_input": "2024-02-21T17:00:52.203309Z",
          "iopub.status.idle": "2024-02-21T17:00:52.28415Z",
          "shell.execute_reply.started": "2024-02-21T17:00:52.203279Z",
          "shell.execute_reply": "2024-02-21T17:00:52.282744Z"
        },
        "trusted": true,
        "id": "eoDhdf8Dw-dX"
      },
      "execution_count": null,
      "outputs": []
    },
    {
      "cell_type": "code",
      "source": [
        "df['rating']=df['rating'].replace(\"NEW|-\",'0',regex=True).replace('/5','',regex=True).astype(\"float\")\n",
        "df['rating'].head()"
      ],
      "metadata": {
        "papermill": {
          "duration": 0.061108,
          "end_time": "2022-10-15T10:25:48.693931",
          "exception": false,
          "start_time": "2022-10-15T10:25:48.632823",
          "status": "completed"
        },
        "tags": [],
        "execution": {
          "iopub.status.busy": "2024-02-21T17:00:52.28558Z",
          "iopub.execute_input": "2024-02-21T17:00:52.285953Z",
          "iopub.status.idle": "2024-02-21T17:00:52.369308Z",
          "shell.execute_reply.started": "2024-02-21T17:00:52.285924Z",
          "shell.execute_reply": "2024-02-21T17:00:52.368362Z"
        },
        "trusted": true,
        "id": "m_9Fxjxsw-dX"
      },
      "execution_count": null,
      "outputs": []
    },
    {
      "cell_type": "code",
      "source": [
        "#Counting the NaN valuesn in rating column\n",
        "df['rating'].isnull().sum()"
      ],
      "metadata": {
        "papermill": {
          "duration": 0.031752,
          "end_time": "2022-10-15T10:25:48.746874",
          "exception": false,
          "start_time": "2022-10-15T10:25:48.715122",
          "status": "completed"
        },
        "tags": [],
        "execution": {
          "iopub.status.busy": "2024-02-21T17:00:52.370259Z",
          "iopub.execute_input": "2024-02-21T17:00:52.370566Z",
          "iopub.status.idle": "2024-02-21T17:00:52.378254Z",
          "shell.execute_reply.started": "2024-02-21T17:00:52.370541Z",
          "shell.execute_reply": "2024-02-21T17:00:52.377076Z"
        },
        "trusted": true,
        "id": "BL_8AJPfw-dY"
      },
      "execution_count": null,
      "outputs": []
    },
    {
      "cell_type": "code",
      "source": [
        "df.info()"
      ],
      "metadata": {
        "papermill": {
          "duration": 0.050215,
          "end_time": "2022-10-15T10:25:48.873943",
          "exception": false,
          "start_time": "2022-10-15T10:25:48.823728",
          "status": "completed"
        },
        "tags": [],
        "execution": {
          "iopub.status.busy": "2024-02-21T17:00:52.379362Z",
          "iopub.execute_input": "2024-02-21T17:00:52.379739Z",
          "iopub.status.idle": "2024-02-21T17:00:52.428573Z",
          "shell.execute_reply.started": "2024-02-21T17:00:52.379698Z",
          "shell.execute_reply": "2024-02-21T17:00:52.427092Z"
        },
        "trusted": true,
        "id": "3L0ucMMlw-dY"
      },
      "execution_count": null,
      "outputs": []
    },
    {
      "cell_type": "markdown",
      "source": [
        "***column:-location***"
      ],
      "metadata": {
        "papermill": {
          "duration": 0.020962,
          "end_time": "2022-10-15T10:25:48.917112",
          "exception": false,
          "start_time": "2022-10-15T10:25:48.89615",
          "status": "completed"
        },
        "tags": [],
        "id": "_ccfmOxLw-dY"
      }
    },
    {
      "cell_type": "code",
      "source": [
        "df['location'].unique()"
      ],
      "metadata": {
        "papermill": {
          "duration": 0.035084,
          "end_time": "2022-10-15T10:25:48.973379",
          "exception": false,
          "start_time": "2022-10-15T10:25:48.938295",
          "status": "completed"
        },
        "tags": [],
        "execution": {
          "iopub.status.busy": "2024-02-21T17:00:52.430113Z",
          "iopub.execute_input": "2024-02-21T17:00:52.430563Z",
          "iopub.status.idle": "2024-02-21T17:00:52.441664Z",
          "shell.execute_reply.started": "2024-02-21T17:00:52.430512Z",
          "shell.execute_reply": "2024-02-21T17:00:52.440288Z"
        },
        "trusted": true,
        "id": "JfRnrIflw-dY"
      },
      "execution_count": null,
      "outputs": []
    },
    {
      "cell_type": "code",
      "source": [
        "df['location'].isnull().sum()"
      ],
      "metadata": {
        "papermill": {
          "duration": 0.034348,
          "end_time": "2022-10-15T10:25:49.029221",
          "exception": false,
          "start_time": "2022-10-15T10:25:48.994873",
          "status": "completed"
        },
        "tags": [],
        "execution": {
          "iopub.status.busy": "2024-02-21T17:00:52.443705Z",
          "iopub.execute_input": "2024-02-21T17:00:52.444262Z",
          "iopub.status.idle": "2024-02-21T17:00:52.456157Z",
          "shell.execute_reply.started": "2024-02-21T17:00:52.444219Z",
          "shell.execute_reply": "2024-02-21T17:00:52.455237Z"
        },
        "trusted": true,
        "id": "0HL8Q1hjw-dY"
      },
      "execution_count": null,
      "outputs": []
    },
    {
      "cell_type": "code",
      "source": [
        "a=df['location'].value_counts(ascending=False)\n",
        "a"
      ],
      "metadata": {
        "papermill": {
          "duration": 0.036904,
          "end_time": "2022-10-15T10:25:49.088418",
          "exception": false,
          "start_time": "2022-10-15T10:25:49.051514",
          "status": "completed"
        },
        "tags": [],
        "execution": {
          "iopub.status.busy": "2024-02-21T17:00:52.457067Z",
          "iopub.execute_input": "2024-02-21T17:00:52.457375Z",
          "iopub.status.idle": "2024-02-21T17:00:52.477811Z",
          "shell.execute_reply.started": "2024-02-21T17:00:52.457351Z",
          "shell.execute_reply": "2024-02-21T17:00:52.476526Z"
        },
        "trusted": true,
        "id": "a0K1o9H1w-dY"
      },
      "execution_count": null,
      "outputs": []
    },
    {
      "cell_type": "markdown",
      "source": [
        "***column:-cost***"
      ],
      "metadata": {
        "papermill": {
          "duration": 0.021517,
          "end_time": "2022-10-15T10:25:49.13184",
          "exception": false,
          "start_time": "2022-10-15T10:25:49.110323",
          "status": "completed"
        },
        "tags": [],
        "id": "7r8sSQRXw-dZ"
      }
    },
    {
      "cell_type": "code",
      "source": [
        "df['cost'].unique()"
      ],
      "metadata": {
        "papermill": {
          "duration": 0.035566,
          "end_time": "2022-10-15T10:25:49.18919",
          "exception": false,
          "start_time": "2022-10-15T10:25:49.153624",
          "status": "completed"
        },
        "tags": [],
        "execution": {
          "iopub.status.busy": "2024-02-21T17:00:52.488003Z",
          "iopub.execute_input": "2024-02-21T17:00:52.488409Z",
          "iopub.status.idle": "2024-02-21T17:00:52.498438Z",
          "shell.execute_reply.started": "2024-02-21T17:00:52.488377Z",
          "shell.execute_reply": "2024-02-21T17:00:52.497307Z"
        },
        "trusted": true,
        "id": "gVMSSQ_jw-dZ"
      },
      "execution_count": null,
      "outputs": []
    },
    {
      "cell_type": "code",
      "source": [
        "df['cost']=df['cost'].replace(\",\",'',regex=True).astype(int)"
      ],
      "metadata": {
        "papermill": {
          "duration": 0.058111,
          "end_time": "2022-10-15T10:25:49.269536",
          "exception": false,
          "start_time": "2022-10-15T10:25:49.211425",
          "status": "completed"
        },
        "tags": [],
        "execution": {
          "iopub.status.busy": "2024-02-21T17:00:52.499688Z",
          "iopub.execute_input": "2024-02-21T17:00:52.500188Z",
          "iopub.status.idle": "2024-02-21T17:00:52.544454Z",
          "shell.execute_reply.started": "2024-02-21T17:00:52.500105Z",
          "shell.execute_reply": "2024-02-21T17:00:52.543246Z"
        },
        "trusted": true,
        "id": "c4j7hZARw-dZ"
      },
      "execution_count": null,
      "outputs": []
    },
    {
      "cell_type": "code",
      "source": [
        "df.cost.unique()"
      ],
      "metadata": {
        "papermill": {
          "duration": 0.033103,
          "end_time": "2022-10-15T10:25:49.324874",
          "exception": false,
          "start_time": "2022-10-15T10:25:49.291771",
          "status": "completed"
        },
        "tags": [],
        "execution": {
          "iopub.status.busy": "2024-02-21T17:00:52.545529Z",
          "iopub.execute_input": "2024-02-21T17:00:52.545867Z",
          "iopub.status.idle": "2024-02-21T17:00:52.55628Z",
          "shell.execute_reply.started": "2024-02-21T17:00:52.54584Z",
          "shell.execute_reply": "2024-02-21T17:00:52.555105Z"
        },
        "trusted": true,
        "id": "RQaJXS1Pw-dZ"
      },
      "execution_count": null,
      "outputs": []
    },
    {
      "cell_type": "code",
      "source": [
        "df['cost'].isnull().sum()"
      ],
      "metadata": {
        "papermill": {
          "duration": 0.032378,
          "end_time": "2022-10-15T10:25:49.379054",
          "exception": false,
          "start_time": "2022-10-15T10:25:49.346676",
          "status": "completed"
        },
        "tags": [],
        "execution": {
          "iopub.status.busy": "2024-02-21T17:00:52.558822Z",
          "iopub.execute_input": "2024-02-21T17:00:52.56005Z",
          "iopub.status.idle": "2024-02-21T17:00:52.568739Z",
          "shell.execute_reply.started": "2024-02-21T17:00:52.560019Z",
          "shell.execute_reply": "2024-02-21T17:00:52.567645Z"
        },
        "trusted": true,
        "id": "jsx3Ix0mw-dZ"
      },
      "execution_count": null,
      "outputs": []
    },
    {
      "cell_type": "code",
      "source": [
        "df.info()"
      ],
      "metadata": {
        "papermill": {
          "duration": 0.049818,
          "end_time": "2022-10-15T10:25:49.450909",
          "exception": false,
          "start_time": "2022-10-15T10:25:49.401091",
          "status": "completed"
        },
        "tags": [],
        "execution": {
          "iopub.status.busy": "2024-02-21T17:00:52.570876Z",
          "iopub.execute_input": "2024-02-21T17:00:52.571236Z",
          "iopub.status.idle": "2024-02-21T17:00:52.609162Z",
          "shell.execute_reply.started": "2024-02-21T17:00:52.571209Z",
          "shell.execute_reply": "2024-02-21T17:00:52.608109Z"
        },
        "trusted": true,
        "id": "9hj1zQU5w-dZ"
      },
      "execution_count": null,
      "outputs": []
    },
    {
      "cell_type": "markdown",
      "source": [
        "***column:-booking***"
      ],
      "metadata": {
        "papermill": {
          "duration": 0.022663,
          "end_time": "2022-10-15T10:25:49.49681",
          "exception": false,
          "start_time": "2022-10-15T10:25:49.474147",
          "status": "completed"
        },
        "tags": [],
        "id": "ajaXj2Luw-dZ"
      }
    },
    {
      "cell_type": "code",
      "source": [
        "df['booking'].unique()"
      ],
      "metadata": {
        "papermill": {
          "duration": 0.035103,
          "end_time": "2022-10-15T10:25:49.554986",
          "exception": false,
          "start_time": "2022-10-15T10:25:49.519883",
          "status": "completed"
        },
        "tags": [],
        "execution": {
          "iopub.status.busy": "2024-02-21T17:00:52.61092Z",
          "iopub.execute_input": "2024-02-21T17:00:52.611246Z",
          "iopub.status.idle": "2024-02-21T17:00:52.619641Z",
          "shell.execute_reply.started": "2024-02-21T17:00:52.611218Z",
          "shell.execute_reply": "2024-02-21T17:00:52.618484Z"
        },
        "trusted": true,
        "id": "F_mtojeRw-dZ"
      },
      "execution_count": null,
      "outputs": []
    },
    {
      "cell_type": "code",
      "source": [
        "df['booking'].isnull().sum()"
      ],
      "metadata": {
        "papermill": {
          "duration": 0.033243,
          "end_time": "2022-10-15T10:25:49.610365",
          "exception": false,
          "start_time": "2022-10-15T10:25:49.577122",
          "status": "completed"
        },
        "tags": [],
        "execution": {
          "iopub.status.busy": "2024-02-21T17:00:52.621112Z",
          "iopub.execute_input": "2024-02-21T17:00:52.62154Z",
          "iopub.status.idle": "2024-02-21T17:00:52.635274Z",
          "shell.execute_reply.started": "2024-02-21T17:00:52.621512Z",
          "shell.execute_reply": "2024-02-21T17:00:52.634087Z"
        },
        "trusted": true,
        "id": "JwKaWsa6w-dZ"
      },
      "execution_count": null,
      "outputs": []
    },
    {
      "cell_type": "markdown",
      "source": [
        "***column:-online order***"
      ],
      "metadata": {
        "papermill": {
          "duration": 0.022247,
          "end_time": "2022-10-15T10:25:49.654954",
          "exception": false,
          "start_time": "2022-10-15T10:25:49.632707",
          "status": "completed"
        },
        "tags": [],
        "id": "jlHlgyGww-dZ"
      }
    },
    {
      "cell_type": "code",
      "source": [
        "df['online_order'].unique()"
      ],
      "metadata": {
        "papermill": {
          "duration": 0.035085,
          "end_time": "2022-10-15T10:25:49.712203",
          "exception": false,
          "start_time": "2022-10-15T10:25:49.677118",
          "status": "completed"
        },
        "tags": [],
        "execution": {
          "iopub.status.busy": "2024-02-21T17:00:52.636907Z",
          "iopub.execute_input": "2024-02-21T17:00:52.637261Z",
          "iopub.status.idle": "2024-02-21T17:00:52.649002Z",
          "shell.execute_reply.started": "2024-02-21T17:00:52.637224Z",
          "shell.execute_reply": "2024-02-21T17:00:52.647966Z"
        },
        "trusted": true,
        "id": "Ret2FpQMw-dZ"
      },
      "execution_count": null,
      "outputs": []
    },
    {
      "cell_type": "code",
      "source": [
        "df['online_order'].isnull().sum()"
      ],
      "metadata": {
        "papermill": {
          "duration": 0.035883,
          "end_time": "2022-10-15T10:25:49.771152",
          "exception": false,
          "start_time": "2022-10-15T10:25:49.735269",
          "status": "completed"
        },
        "tags": [],
        "execution": {
          "iopub.status.busy": "2024-02-21T17:00:52.650498Z",
          "iopub.execute_input": "2024-02-21T17:00:52.650888Z",
          "iopub.status.idle": "2024-02-21T17:00:52.664139Z",
          "shell.execute_reply.started": "2024-02-21T17:00:52.650861Z",
          "shell.execute_reply": "2024-02-21T17:00:52.662954Z"
        },
        "trusted": true,
        "id": "aCVexvMUw-dZ"
      },
      "execution_count": null,
      "outputs": []
    },
    {
      "cell_type": "markdown",
      "source": [
        "***column:-rest type***"
      ],
      "metadata": {
        "papermill": {
          "duration": 0.022272,
          "end_time": "2022-10-15T10:25:49.816387",
          "exception": false,
          "start_time": "2022-10-15T10:25:49.794115",
          "status": "completed"
        },
        "tags": [],
        "id": "YogyWYigw-da"
      }
    },
    {
      "cell_type": "code",
      "source": [
        "df['rest_type'].isnull().any()"
      ],
      "metadata": {
        "papermill": {
          "duration": 0.035961,
          "end_time": "2022-10-15T10:25:49.875268",
          "exception": false,
          "start_time": "2022-10-15T10:25:49.839307",
          "status": "completed"
        },
        "tags": [],
        "execution": {
          "iopub.status.busy": "2024-02-21T17:00:52.665518Z",
          "iopub.execute_input": "2024-02-21T17:00:52.666217Z",
          "iopub.status.idle": "2024-02-21T17:00:52.677685Z",
          "shell.execute_reply.started": "2024-02-21T17:00:52.666186Z",
          "shell.execute_reply": "2024-02-21T17:00:52.676826Z"
        },
        "trusted": true,
        "id": "ej80w3zOw-da"
      },
      "execution_count": null,
      "outputs": []
    },
    {
      "cell_type": "code",
      "source": [
        "df['rest_type'].unique()"
      ],
      "metadata": {
        "papermill": {
          "duration": 0.035351,
          "end_time": "2022-10-15T10:25:49.933493",
          "exception": false,
          "start_time": "2022-10-15T10:25:49.898142",
          "status": "completed"
        },
        "tags": [],
        "execution": {
          "iopub.status.busy": "2024-02-21T17:00:52.678742Z",
          "iopub.execute_input": "2024-02-21T17:00:52.679545Z",
          "iopub.status.idle": "2024-02-21T17:00:52.695494Z",
          "shell.execute_reply.started": "2024-02-21T17:00:52.679517Z",
          "shell.execute_reply": "2024-02-21T17:00:52.694416Z"
        },
        "trusted": true,
        "id": "HkAaI1Pow-da"
      },
      "execution_count": null,
      "outputs": []
    },
    {
      "cell_type": "code",
      "source": [
        "b=df['rest_type'].value_counts(ascending=False)\n",
        "b"
      ],
      "metadata": {
        "papermill": {
          "duration": 0.037742,
          "end_time": "2022-10-15T10:25:49.994469",
          "exception": false,
          "start_time": "2022-10-15T10:25:49.956727",
          "status": "completed"
        },
        "tags": [],
        "execution": {
          "iopub.status.busy": "2024-02-21T17:00:52.6969Z",
          "iopub.execute_input": "2024-02-21T17:00:52.697226Z",
          "iopub.status.idle": "2024-02-21T17:00:52.712265Z",
          "shell.execute_reply.started": "2024-02-21T17:00:52.6972Z",
          "shell.execute_reply": "2024-02-21T17:00:52.711101Z"
        },
        "trusted": true,
        "id": "DUyHHrLNw-da"
      },
      "execution_count": null,
      "outputs": []
    },
    {
      "cell_type": "markdown",
      "source": [
        "***Column:-listed in type***"
      ],
      "metadata": {
        "papermill": {
          "duration": 0.022588,
          "end_time": "2022-10-15T10:25:50.040381",
          "exception": false,
          "start_time": "2022-10-15T10:25:50.017793",
          "status": "completed"
        },
        "tags": [],
        "id": "5gbfe0vgw-da"
      }
    },
    {
      "cell_type": "code",
      "source": [
        "df['types'].unique()"
      ],
      "metadata": {
        "papermill": {
          "duration": 0.037391,
          "end_time": "2022-10-15T10:25:50.100806",
          "exception": false,
          "start_time": "2022-10-15T10:25:50.063415",
          "status": "completed"
        },
        "tags": [],
        "execution": {
          "iopub.status.busy": "2024-02-21T17:00:52.713966Z",
          "iopub.execute_input": "2024-02-21T17:00:52.714832Z",
          "iopub.status.idle": "2024-02-21T17:00:52.728356Z",
          "shell.execute_reply.started": "2024-02-21T17:00:52.714792Z",
          "shell.execute_reply": "2024-02-21T17:00:52.727287Z"
        },
        "trusted": true,
        "id": "lvEWokDGw-db"
      },
      "execution_count": null,
      "outputs": []
    },
    {
      "cell_type": "code",
      "source": [
        "c=df['types'].value_counts()\n",
        "c"
      ],
      "metadata": {
        "papermill": {
          "duration": 0.038373,
          "end_time": "2022-10-15T10:25:50.162565",
          "exception": false,
          "start_time": "2022-10-15T10:25:50.124192",
          "status": "completed"
        },
        "tags": [],
        "execution": {
          "iopub.status.busy": "2024-02-21T17:00:52.72968Z",
          "iopub.execute_input": "2024-02-21T17:00:52.730024Z",
          "iopub.status.idle": "2024-02-21T17:00:52.745486Z",
          "shell.execute_reply.started": "2024-02-21T17:00:52.729997Z",
          "shell.execute_reply": "2024-02-21T17:00:52.74432Z"
        },
        "trusted": true,
        "id": "kYHHdA47w-db"
      },
      "execution_count": null,
      "outputs": []
    },
    {
      "cell_type": "code",
      "source": [
        "df['types'].isnull().sum()"
      ],
      "metadata": {
        "papermill": {
          "duration": 0.036321,
          "end_time": "2022-10-15T10:25:50.222376",
          "exception": false,
          "start_time": "2022-10-15T10:25:50.186055",
          "status": "completed"
        },
        "tags": [],
        "execution": {
          "iopub.status.busy": "2024-02-21T17:00:52.747067Z",
          "iopub.execute_input": "2024-02-21T17:00:52.748177Z",
          "iopub.status.idle": "2024-02-21T17:00:52.759699Z",
          "shell.execute_reply.started": "2024-02-21T17:00:52.748138Z",
          "shell.execute_reply": "2024-02-21T17:00:52.75843Z"
        },
        "trusted": true,
        "id": "tLESQqNdw-db"
      },
      "execution_count": null,
      "outputs": []
    },
    {
      "cell_type": "markdown",
      "source": [
        "***column:-cuisines***"
      ],
      "metadata": {
        "papermill": {
          "duration": 0.023155,
          "end_time": "2022-10-15T10:25:50.268876",
          "exception": false,
          "start_time": "2022-10-15T10:25:50.245721",
          "status": "completed"
        },
        "tags": [],
        "id": "5RqLz7Kcw-db"
      }
    },
    {
      "cell_type": "code",
      "source": [
        "d=df['cuisines'].value_counts()\n",
        "d"
      ],
      "metadata": {
        "papermill": {
          "duration": 0.039584,
          "end_time": "2022-10-15T10:25:50.331804",
          "exception": false,
          "start_time": "2022-10-15T10:25:50.29222",
          "status": "completed"
        },
        "tags": [],
        "execution": {
          "iopub.status.busy": "2024-02-21T17:00:52.761032Z",
          "iopub.execute_input": "2024-02-21T17:00:52.761535Z",
          "iopub.status.idle": "2024-02-21T17:00:52.781788Z",
          "shell.execute_reply.started": "2024-02-21T17:00:52.761508Z",
          "shell.execute_reply": "2024-02-21T17:00:52.780993Z"
        },
        "trusted": true,
        "id": "sD9Afeo_w-db"
      },
      "execution_count": null,
      "outputs": []
    },
    {
      "cell_type": "code",
      "source": [
        "df['cuisines'].unique()"
      ],
      "metadata": {
        "papermill": {
          "duration": 0.037055,
          "end_time": "2022-10-15T10:25:50.392915",
          "exception": false,
          "start_time": "2022-10-15T10:25:50.35586",
          "status": "completed"
        },
        "tags": [],
        "execution": {
          "iopub.status.busy": "2024-02-21T17:00:52.782845Z",
          "iopub.execute_input": "2024-02-21T17:00:52.783541Z",
          "iopub.status.idle": "2024-02-21T17:00:52.797131Z",
          "shell.execute_reply.started": "2024-02-21T17:00:52.783512Z",
          "shell.execute_reply": "2024-02-21T17:00:52.796012Z"
        },
        "trusted": true,
        "id": "J5eaehOQw-db"
      },
      "execution_count": null,
      "outputs": []
    },
    {
      "cell_type": "markdown",
      "source": [
        "***column:-restaurants***"
      ],
      "metadata": {
        "papermill": {
          "duration": 0.02339,
          "end_time": "2022-10-15T10:25:50.440114",
          "exception": false,
          "start_time": "2022-10-15T10:25:50.416724",
          "status": "completed"
        },
        "tags": [],
        "id": "p74dzNB1w-db"
      }
    },
    {
      "cell_type": "code",
      "source": [
        "df.groupby('restaurants').count().head()"
      ],
      "metadata": {
        "papermill": {
          "duration": 0.066837,
          "end_time": "2022-10-15T10:25:50.5307",
          "exception": false,
          "start_time": "2022-10-15T10:25:50.463863",
          "status": "completed"
        },
        "tags": [],
        "execution": {
          "iopub.status.busy": "2024-02-21T17:00:52.798655Z",
          "iopub.execute_input": "2024-02-21T17:00:52.799268Z",
          "iopub.status.idle": "2024-02-21T17:00:52.852861Z",
          "shell.execute_reply.started": "2024-02-21T17:00:52.799229Z",
          "shell.execute_reply": "2024-02-21T17:00:52.851562Z"
        },
        "trusted": true,
        "id": "Jqi-n7ZFw-db"
      },
      "execution_count": null,
      "outputs": []
    },
    {
      "cell_type": "code",
      "source": [
        "# df.groupby('restaurants').count().head()"
      ],
      "metadata": {
        "papermill": {
          "duration": 0.032275,
          "end_time": "2022-10-15T10:25:50.587622",
          "exception": false,
          "start_time": "2022-10-15T10:25:50.555347",
          "status": "completed"
        },
        "tags": [],
        "execution": {
          "iopub.status.busy": "2024-02-21T17:00:52.854445Z",
          "iopub.execute_input": "2024-02-21T17:00:52.854809Z",
          "iopub.status.idle": "2024-02-21T17:00:52.859293Z",
          "shell.execute_reply.started": "2024-02-21T17:00:52.85478Z",
          "shell.execute_reply": "2024-02-21T17:00:52.857906Z"
        },
        "trusted": true,
        "id": "UtFSfUlmw-db"
      },
      "execution_count": null,
      "outputs": []
    },
    {
      "cell_type": "code",
      "source": [
        "df['restaurants']=df['restaurants'].str.replace('[Ãx][^A-Za-z]+','',regex=True)"
      ],
      "metadata": {
        "papermill": {
          "duration": 0.056353,
          "end_time": "2022-10-15T10:25:50.668088",
          "exception": false,
          "start_time": "2022-10-15T10:25:50.611735",
          "status": "completed"
        },
        "tags": [],
        "execution": {
          "iopub.status.busy": "2024-02-21T17:00:52.860929Z",
          "iopub.execute_input": "2024-02-21T17:00:52.861368Z",
          "iopub.status.idle": "2024-02-21T17:00:52.909662Z",
          "shell.execute_reply.started": "2024-02-21T17:00:52.861319Z",
          "shell.execute_reply": "2024-02-21T17:00:52.908265Z"
        },
        "trusted": true,
        "id": "xmWtkSCPw-db"
      },
      "execution_count": null,
      "outputs": []
    },
    {
      "cell_type": "code",
      "source": [
        "df.groupby('restaurants').count().head()"
      ],
      "metadata": {
        "papermill": {
          "duration": 0.063644,
          "end_time": "2022-10-15T10:25:50.755751",
          "exception": false,
          "start_time": "2022-10-15T10:25:50.692107",
          "status": "completed"
        },
        "tags": [],
        "execution": {
          "iopub.status.busy": "2024-02-21T17:00:52.911331Z",
          "iopub.execute_input": "2024-02-21T17:00:52.911812Z",
          "iopub.status.idle": "2024-02-21T17:00:52.967295Z",
          "shell.execute_reply.started": "2024-02-21T17:00:52.91177Z",
          "shell.execute_reply": "2024-02-21T17:00:52.966236Z"
        },
        "trusted": true,
        "id": "KHhPwyB_w-db"
      },
      "execution_count": null,
      "outputs": []
    },
    {
      "cell_type": "markdown",
      "source": [
        "### **Checking NaN values after cleaning individual columns:**"
      ],
      "metadata": {
        "papermill": {
          "duration": 0.023655,
          "end_time": "2022-10-15T10:25:50.803628",
          "exception": false,
          "start_time": "2022-10-15T10:25:50.779973",
          "status": "completed"
        },
        "tags": [],
        "id": "25i8mAmPw-dc"
      }
    },
    {
      "cell_type": "code",
      "source": [
        "df.info()"
      ],
      "metadata": {
        "papermill": {
          "duration": 0.049724,
          "end_time": "2022-10-15T10:25:50.877225",
          "exception": false,
          "start_time": "2022-10-15T10:25:50.827501",
          "status": "completed"
        },
        "tags": [],
        "execution": {
          "iopub.status.busy": "2024-02-21T17:00:52.968736Z",
          "iopub.execute_input": "2024-02-21T17:00:52.96917Z",
          "iopub.status.idle": "2024-02-21T17:00:53.00839Z",
          "shell.execute_reply.started": "2024-02-21T17:00:52.969132Z",
          "shell.execute_reply": "2024-02-21T17:00:53.007175Z"
        },
        "trusted": true,
        "id": "-Z84R04Cw-dc"
      },
      "execution_count": null,
      "outputs": []
    },
    {
      "cell_type": "code",
      "source": [
        "df.isnull().sum()"
      ],
      "metadata": {
        "papermill": {
          "duration": 0.047759,
          "end_time": "2022-10-15T10:25:50.949078",
          "exception": false,
          "start_time": "2022-10-15T10:25:50.901319",
          "status": "completed"
        },
        "tags": [],
        "execution": {
          "iopub.status.busy": "2024-02-21T17:00:53.010157Z",
          "iopub.execute_input": "2024-02-21T17:00:53.010464Z",
          "iopub.status.idle": "2024-02-21T17:00:53.044692Z",
          "shell.execute_reply.started": "2024-02-21T17:00:53.010438Z",
          "shell.execute_reply": "2024-02-21T17:00:53.043485Z"
        },
        "trusted": true,
        "id": "uDw3FAIlw-dc"
      },
      "execution_count": null,
      "outputs": []
    },
    {
      "cell_type": "code",
      "source": [
        "df.shape"
      ],
      "metadata": {
        "papermill": {
          "duration": 0.034899,
          "end_time": "2022-10-15T10:25:51.00841",
          "exception": false,
          "start_time": "2022-10-15T10:25:50.973511",
          "status": "completed"
        },
        "tags": [],
        "execution": {
          "iopub.status.busy": "2024-02-21T17:00:53.04627Z",
          "iopub.execute_input": "2024-02-21T17:00:53.047119Z",
          "iopub.status.idle": "2024-02-21T17:00:53.055288Z",
          "shell.execute_reply.started": "2024-02-21T17:00:53.047001Z",
          "shell.execute_reply": "2024-02-21T17:00:53.053943Z"
        },
        "trusted": true,
        "id": "2Dih4tqew-dc"
      },
      "execution_count": null,
      "outputs": []
    },
    {
      "cell_type": "code",
      "source": [
        "df.to_csv('./clean_zomato.csv')"
      ],
      "metadata": {
        "papermill": {
          "duration": 0.175217,
          "end_time": "2022-10-15T10:25:51.207836",
          "exception": false,
          "start_time": "2022-10-15T10:25:51.032619",
          "status": "completed"
        },
        "tags": [],
        "execution": {
          "iopub.status.busy": "2024-02-21T17:00:53.056735Z",
          "iopub.execute_input": "2024-02-21T17:00:53.057064Z",
          "iopub.status.idle": "2024-02-21T17:00:53.335841Z",
          "shell.execute_reply.started": "2024-02-21T17:00:53.057037Z",
          "shell.execute_reply": "2024-02-21T17:00:53.334574Z"
        },
        "trusted": true,
        "id": "_OYT4QG2w-dc"
      },
      "execution_count": null,
      "outputs": []
    },
    {
      "cell_type": "markdown",
      "source": [
        "# ***Data visualization:-***\n",
        "* Restaurants delivering Online or not\n",
        "* Table booking Rate vs Rate\n",
        "* Best Location\n",
        "* Relation between Location and Rating\n",
        "* Cost of Restaurant\n",
        "* No. of restaurants in a Location\n",
        "* Restaurant type\n",
        "* Most famous restaurant chains in Bengaluru"
      ],
      "metadata": {
        "papermill": {
          "duration": 0.024092,
          "end_time": "2022-10-15T10:25:51.256795",
          "exception": false,
          "start_time": "2022-10-15T10:25:51.232703",
          "status": "completed"
        },
        "tags": [],
        "id": "yvW2UwVzw-dd"
      }
    },
    {
      "cell_type": "markdown",
      "source": [
        "**Plotly** library in Python is an open-source library that can be used for data visualization and understanding data simply and easily. Plotly supports various types of plots like line charts, scatter plots, histograms, box plots, etc. So you all must be wondering why Plotly is over other visualization tools or libraries. So here are some reasons :\n",
        "\n",
        "- Plotly has hover tool capabilities that allow us to detect any outliers or anomalies in a large number of data points.\n",
        "- It is visually attractive and can be accepted by a wide range of audiences.\n",
        "- Plotly generally allows us endless customization of our graphs and makes our plot more meaningful and understandable for others."
      ],
      "metadata": {
        "id": "kxpLGJrBw-dd"
      }
    },
    {
      "cell_type": "code",
      "source": [
        "#Restaurant type\n",
        "type1=df['rest_type'].value_counts().head(5)\n",
        "type1.to_frame()"
      ],
      "metadata": {
        "papermill": {
          "duration": 0.406432,
          "end_time": "2022-10-15T10:25:51.687476",
          "exception": false,
          "start_time": "2022-10-15T10:25:51.281044",
          "status": "completed"
        },
        "tags": [],
        "execution": {
          "iopub.status.busy": "2024-02-21T17:00:53.337703Z",
          "iopub.execute_input": "2024-02-21T17:00:53.338819Z",
          "iopub.status.idle": "2024-02-21T17:00:53.35698Z",
          "shell.execute_reply.started": "2024-02-21T17:00:53.338776Z",
          "shell.execute_reply": "2024-02-21T17:00:53.355586Z"
        },
        "trusted": true,
        "id": "pPXSwvwjw-dd"
      },
      "execution_count": null,
      "outputs": []
    },
    {
      "cell_type": "code",
      "source": [
        "fig=px.bar(x=type1.index,\n",
        "           y=type1,\n",
        "           color=type1.index # Each bar is colored differently\n",
        "           ,title='Restaurant type',labels={'x':'Restaurant','y':'Count of Restaurant'} # changes x and y label\n",
        "          )\n",
        "fig.show()"
      ],
      "metadata": {
        "execution": {
          "iopub.status.busy": "2024-02-21T17:00:53.358132Z",
          "iopub.execute_input": "2024-02-21T17:00:53.358435Z",
          "iopub.status.idle": "2024-02-21T17:00:55.570725Z",
          "shell.execute_reply.started": "2024-02-21T17:00:53.35841Z",
          "shell.execute_reply": "2024-02-21T17:00:55.56991Z"
        },
        "trusted": true,
        "id": "Nkossy-ow-dd"
      },
      "execution_count": null,
      "outputs": []
    },
    {
      "cell_type": "markdown",
      "source": [
        "* In this graph it shows that the types of restaurants in Banglore and among all of them we have ploted first 20 restaurant types.\n",
        "* Here the top 3 restaurant types are:\n",
        "1. Quick bites\n",
        "2. Casual dining\n",
        "3. Cafe"
      ],
      "metadata": {
        "papermill": {
          "duration": 0.025057,
          "end_time": "2022-10-15T10:25:51.738133",
          "exception": false,
          "start_time": "2022-10-15T10:25:51.713076",
          "status": "completed"
        },
        "tags": [],
        "id": "-X9tjl3pw-dd"
      }
    },
    {
      "cell_type": "code",
      "source": [
        "delivery_or_not = df[\"online_order\"].value_counts()\n",
        "delivery_or_not"
      ],
      "metadata": {
        "execution": {
          "iopub.status.busy": "2024-02-21T17:00:55.571876Z",
          "iopub.execute_input": "2024-02-21T17:00:55.572803Z",
          "iopub.status.idle": "2024-02-21T17:00:55.58709Z",
          "shell.execute_reply.started": "2024-02-21T17:00:55.572771Z",
          "shell.execute_reply": "2024-02-21T17:00:55.585799Z"
        },
        "trusted": true,
        "id": "2Fo2OK3Ww-dd"
      },
      "execution_count": null,
      "outputs": []
    },
    {
      "cell_type": "code",
      "source": [
        "fig=px.pie(delivery_or_not,\n",
        "           title='Delivery or not',\n",
        "           values=delivery_or_not, # values inside pie plot\n",
        "           names=delivery_or_not.index # legend or names displayes with color\n",
        "          )\n",
        "fig.show()"
      ],
      "metadata": {
        "execution": {
          "iopub.status.busy": "2024-02-21T17:00:55.588459Z",
          "iopub.execute_input": "2024-02-21T17:00:55.589027Z",
          "iopub.status.idle": "2024-02-21T17:00:55.694376Z",
          "shell.execute_reply.started": "2024-02-21T17:00:55.588978Z",
          "shell.execute_reply": "2024-02-21T17:00:55.693103Z"
        },
        "trusted": true,
        "id": "whYgd7SZw-dd"
      },
      "execution_count": null,
      "outputs": []
    },
    {
      "cell_type": "markdown",
      "source": [
        "* Here we have plotted count plot for checking whether the restaurants are delivering online or not.\n",
        "* So by the observations we concluded that:-\n",
        "1. 64% of restaurans deliver online.\n",
        "2. 36% of restaurants currently do not provide online delivery."
      ],
      "metadata": {
        "papermill": {
          "duration": 0.025369,
          "end_time": "2022-10-15T10:25:51.998577",
          "exception": false,
          "start_time": "2022-10-15T10:25:51.973208",
          "status": "completed"
        },
        "tags": [],
        "id": "Jn1y2xxhw-dd"
      }
    },
    {
      "cell_type": "code",
      "source": [
        "fig = px.violin(df,x='online_order', y=\"rating\",\n",
        "                color='online_order',\n",
        "                box=True, # draw box plot inside the violin\n",
        "                points='outliers', # can be 'outliers', or False\n",
        "               )\n",
        "fig.show()"
      ],
      "metadata": {
        "execution": {
          "iopub.status.busy": "2024-02-21T17:00:55.695829Z",
          "iopub.execute_input": "2024-02-21T17:00:55.696178Z",
          "iopub.status.idle": "2024-02-21T17:00:55.941176Z",
          "shell.execute_reply.started": "2024-02-21T17:00:55.696152Z",
          "shell.execute_reply": "2024-02-21T17:00:55.939813Z"
        },
        "trusted": true,
        "id": "l1cA29Kvw-dd"
      },
      "execution_count": null,
      "outputs": []
    },
    {
      "cell_type": "markdown",
      "source": [
        "* The restaurants which have the online order have the maximum rating but the restaurants which dont have has the lowest rating.\n",
        "* Average rating of online order is higher."
      ],
      "metadata": {
        "papermill": {
          "duration": 0.02574,
          "end_time": "2022-10-15T10:25:52.321905",
          "exception": false,
          "start_time": "2022-10-15T10:25:52.296165",
          "status": "completed"
        },
        "tags": [],
        "id": "J-UPc8Tow-dd"
      }
    },
    {
      "cell_type": "code",
      "source": [
        "fig= px.box(df,x='booking',\n",
        "               y='rating',\n",
        "            color='booking'\n",
        "               )\n",
        "fig.show()"
      ],
      "metadata": {
        "execution": {
          "iopub.status.busy": "2024-02-21T17:00:55.942629Z",
          "iopub.execute_input": "2024-02-21T17:00:55.943125Z",
          "iopub.status.idle": "2024-02-21T17:00:56.158675Z",
          "shell.execute_reply.started": "2024-02-21T17:00:55.943091Z",
          "shell.execute_reply": "2024-02-21T17:00:56.157692Z"
        },
        "trusted": true,
        "id": "mMyUX660w-dd"
      },
      "execution_count": null,
      "outputs": []
    },
    {
      "cell_type": "markdown",
      "source": [
        "* The restaurants which accepts booking have the highest rating while the restaurants having the lowest rating.\n",
        "* If particular restaurants want high ratings they should start taking bookings."
      ],
      "metadata": {
        "papermill": {
          "duration": 0.02586,
          "end_time": "2022-10-15T10:25:52.645203",
          "exception": false,
          "start_time": "2022-10-15T10:25:52.619343",
          "status": "completed"
        },
        "tags": [],
        "id": "k4HvIqwww-dd"
      }
    },
    {
      "cell_type": "code",
      "source": [
        "#Best location(votes)\n",
        "loc_vote=df.groupby('location')['votes'].sum()\n",
        "loc_vote=loc_vote.nlargest(5).sort_values(ascending=True)\n",
        "loc_vote"
      ],
      "metadata": {
        "execution": {
          "iopub.status.busy": "2024-02-21T17:00:56.159889Z",
          "iopub.execute_input": "2024-02-21T17:00:56.160876Z",
          "iopub.status.idle": "2024-02-21T17:00:56.175939Z",
          "shell.execute_reply.started": "2024-02-21T17:00:56.160844Z",
          "shell.execute_reply": "2024-02-21T17:00:56.174632Z"
        },
        "trusted": true,
        "id": "3NoMD3S6w-de"
      },
      "execution_count": null,
      "outputs": []
    },
    {
      "cell_type": "code",
      "source": [
        "fig=px.bar(y=loc_vote.index,\n",
        "           x=loc_vote,\n",
        "           color=loc_vote.index # Each bar is colored differently\n",
        "           ,title='Best location by votes',labels={'x':'Location','y':'Votes'} # changes x and y label\n",
        "          )\n",
        "fig.show()"
      ],
      "metadata": {
        "papermill": {
          "duration": 0.401835,
          "end_time": "2022-10-15T10:25:53.074871",
          "exception": false,
          "start_time": "2022-10-15T10:25:52.673036",
          "status": "completed"
        },
        "tags": [],
        "execution": {
          "iopub.status.busy": "2024-02-21T17:00:56.177986Z",
          "iopub.execute_input": "2024-02-21T17:00:56.178569Z",
          "iopub.status.idle": "2024-02-21T17:00:56.274895Z",
          "shell.execute_reply.started": "2024-02-21T17:00:56.178538Z",
          "shell.execute_reply": "2024-02-21T17:00:56.27381Z"
        },
        "trusted": true,
        "id": "UONuQNCHw-de"
      },
      "execution_count": null,
      "outputs": []
    },
    {
      "cell_type": "markdown",
      "source": [
        "* Here we have plotted bar plot for the locations of restaurants in banglore in considaration with votes.\n",
        "* Graphs shows that the which location has more number of restaurants and which has the lowest.\n",
        "* Top 3 restaurants are:\n",
        "1. koramangla 5th blockkoramangla 5th block\n",
        "2. indiranagarindiranagar\n",
        "3. koramangla 4th blockkoramangla 4th block"
      ],
      "metadata": {
        "papermill": {
          "duration": 0.027199,
          "end_time": "2022-10-15T10:25:53.130438",
          "exception": false,
          "start_time": "2022-10-15T10:25:53.103239",
          "status": "completed"
        },
        "tags": [],
        "id": "PeeIeLjMw-de"
      }
    },
    {
      "cell_type": "code",
      "source": [
        "#Best location(ratings) & Location vs Rating\n",
        "loc_rate=df.groupby('location')['rating'].sum()\n",
        "loc_rate=loc_rate.nlargest(5).sort_values()\n",
        "loc_rate.head()"
      ],
      "metadata": {
        "execution": {
          "iopub.status.busy": "2024-02-21T17:00:56.276297Z",
          "iopub.execute_input": "2024-02-21T17:00:56.277655Z",
          "iopub.status.idle": "2024-02-21T17:00:56.296885Z",
          "shell.execute_reply.started": "2024-02-21T17:00:56.277614Z",
          "shell.execute_reply": "2024-02-21T17:00:56.295634Z"
        },
        "trusted": true,
        "id": "RWWJ3FWFw-de"
      },
      "execution_count": null,
      "outputs": []
    },
    {
      "cell_type": "code",
      "source": [
        "fig=px.bar(y=loc_rate.index,\n",
        "           x=loc_rate,\n",
        "           color=loc_vote.index # Each bar is colored differently\n",
        "           ,title='Best location by rating',labels={'x':'Location','y':'Rating'} # changes x and y label\n",
        "          )\n",
        "fig.show()"
      ],
      "metadata": {
        "papermill": {
          "duration": 0.37658,
          "end_time": "2022-10-15T10:25:53.535092",
          "exception": false,
          "start_time": "2022-10-15T10:25:53.158512",
          "status": "completed"
        },
        "tags": [],
        "execution": {
          "iopub.status.busy": "2024-02-21T17:00:56.298633Z",
          "iopub.execute_input": "2024-02-21T17:00:56.299103Z",
          "iopub.status.idle": "2024-02-21T17:00:56.397909Z",
          "shell.execute_reply.started": "2024-02-21T17:00:56.299072Z",
          "shell.execute_reply": "2024-02-21T17:00:56.396414Z"
        },
        "trusted": true,
        "id": "SAULGqDXw-de"
      },
      "execution_count": null,
      "outputs": []
    },
    {
      "cell_type": "markdown",
      "source": [
        "* Here we have plotted bar plot for the locations of restaurants in banglore in considaration with ratings.\n",
        "* Graphs shows that the which location has more number of restaurants and which has the lowest.\n",
        "* Top 3 restaurants are:\n",
        "1. BTM\n",
        "2. koramangla 5th blockkoramangla 5th block\n",
        "3. indiranagarindiranagar"
      ],
      "metadata": {
        "papermill": {
          "duration": 0.02755,
          "end_time": "2022-10-15T10:25:53.591003",
          "exception": false,
          "start_time": "2022-10-15T10:25:53.563453",
          "status": "completed"
        },
        "tags": [],
        "id": "kmCYwz0Rw-de"
      }
    },
    {
      "cell_type": "code",
      "source": [
        "fig=px.histogram(df['cost'],nbins=100)\n",
        "fig.show()"
      ],
      "metadata": {
        "execution": {
          "iopub.status.busy": "2024-02-21T17:00:56.399608Z",
          "iopub.execute_input": "2024-02-21T17:00:56.399938Z",
          "iopub.status.idle": "2024-02-21T17:00:56.508829Z",
          "shell.execute_reply.started": "2024-02-21T17:00:56.399911Z",
          "shell.execute_reply": "2024-02-21T17:00:56.507926Z"
        },
        "trusted": true,
        "id": "D2M89tBRw-de"
      },
      "execution_count": null,
      "outputs": []
    },
    {
      "cell_type": "markdown",
      "source": [
        "* Graph shows that the maximum cost of restaurant is 400 - 499 and they are maximum in number.\n",
        "* Restaurants costs lie between 0 to 1000 mostly"
      ],
      "metadata": {
        "papermill": {
          "duration": 0.030168,
          "end_time": "2022-10-15T10:25:58.976394",
          "exception": false,
          "start_time": "2022-10-15T10:25:58.946226",
          "status": "completed"
        },
        "tags": [],
        "id": "3uzzEzVNw-de"
      }
    },
    {
      "cell_type": "code",
      "source": [
        "#Most famous restaurant chains in Bengaluru(votes)\n",
        "vote=df.groupby('restaurants')[['votes','rating']].agg('mean').sort_values(by=['rating','votes'],ascending=False).head(10)\n",
        "vote"
      ],
      "metadata": {
        "papermill": {
          "duration": 0.318069,
          "end_time": "2022-10-15T10:25:59.324588",
          "exception": false,
          "start_time": "2022-10-15T10:25:59.006519",
          "status": "completed"
        },
        "tags": [],
        "execution": {
          "iopub.status.busy": "2024-02-21T17:00:56.509885Z",
          "iopub.execute_input": "2024-02-21T17:00:56.510825Z",
          "iopub.status.idle": "2024-02-21T17:00:56.545425Z",
          "shell.execute_reply.started": "2024-02-21T17:00:56.510794Z",
          "shell.execute_reply": "2024-02-21T17:00:56.544305Z"
        },
        "trusted": true,
        "id": "W1FKlLCKw-de"
      },
      "execution_count": null,
      "outputs": []
    },
    {
      "cell_type": "code",
      "source": [
        "fig=px.bar(y=vote['votes'],\n",
        "           x=vote.index,\n",
        "           color=vote.index # Each bar is colored differently\n",
        "           ,title='Best location by rating',labels={'x':'Location','y':'Rating'} # changes x and y label\n",
        "          )\n",
        "fig.show()"
      ],
      "metadata": {
        "execution": {
          "iopub.status.busy": "2024-02-21T17:00:56.547077Z",
          "iopub.execute_input": "2024-02-21T17:00:56.547777Z",
          "iopub.status.idle": "2024-02-21T17:00:56.668803Z",
          "shell.execute_reply.started": "2024-02-21T17:00:56.547721Z",
          "shell.execute_reply": "2024-02-21T17:00:56.667721Z"
        },
        "trusted": true,
        "id": "Ttgx0VZew-df"
      },
      "execution_count": null,
      "outputs": []
    },
    {
      "cell_type": "code",
      "source": [
        "fig=px.bar(y=vote['rating'],\n",
        "           x=vote.index,\n",
        "           color=vote.index # Each bar is colored differently\n",
        "           ,title='Best location by rating',labels={'x':'Location','y':'Rating'} # changes x and y label\n",
        "          )\n",
        "fig.show()"
      ],
      "metadata": {
        "execution": {
          "iopub.status.busy": "2024-02-21T17:00:56.670481Z",
          "iopub.execute_input": "2024-02-21T17:00:56.671198Z",
          "iopub.status.idle": "2024-02-21T17:00:56.792694Z",
          "shell.execute_reply.started": "2024-02-21T17:00:56.671159Z",
          "shell.execute_reply": "2024-02-21T17:00:56.791547Z"
        },
        "trusted": true,
        "id": "3ghpXDXNw-df"
      },
      "execution_count": null,
      "outputs": []
    },
    {
      "cell_type": "markdown",
      "source": [
        "* Here the graph is according to the famous restaurants in banglore with respect to votes and ratings both.\n",
        "* So according to votes Byg Brewski Brewing Company has the highest vote.\n",
        "\n"
      ],
      "metadata": {
        "papermill": {
          "duration": 0.031518,
          "end_time": "2022-10-15T10:25:59.387027",
          "exception": false,
          "start_time": "2022-10-15T10:25:59.355509",
          "status": "completed"
        },
        "tags": [],
        "id": "xe-w6rL3w-df"
      }
    },
    {
      "cell_type": "code",
      "source": [
        "fig=px.scatter(df,x='cost',y='rating',color='online_order')\n",
        "fig.show()"
      ],
      "metadata": {
        "execution": {
          "iopub.status.busy": "2024-02-21T17:00:56.793967Z",
          "iopub.execute_input": "2024-02-21T17:00:56.794306Z",
          "iopub.status.idle": "2024-02-21T17:00:56.920526Z",
          "shell.execute_reply.started": "2024-02-21T17:00:56.794279Z",
          "shell.execute_reply": "2024-02-21T17:00:56.91964Z"
        },
        "trusted": true,
        "id": "1Cb2GIcyw-df"
      },
      "execution_count": null,
      "outputs": []
    },
    {
      "cell_type": "markdown",
      "source": [
        "* Here the graph is according to the rating and cost of restaurants.\n",
        "* So we can assume most of costly restaurants do not provide online orders.\n",
        "* High cost restaurants rarely have bad reviews.\n"
      ],
      "metadata": {
        "id": "bv7Fkipew-df"
      }
    },
    {
      "cell_type": "markdown",
      "source": [
        "# ***Thankyou....***\n",
        "\n",
        "For further exploring plotly visit this link\n",
        "https://plotly.com/python/plotly-express/"
      ],
      "metadata": {
        "papermill": {
          "duration": 0.032655,
          "end_time": "2022-10-15T10:26:00.255461",
          "exception": false,
          "start_time": "2022-10-15T10:26:00.222806",
          "status": "completed"
        },
        "tags": [],
        "id": "rDavmIs6w-df"
      }
    }
  ]
}